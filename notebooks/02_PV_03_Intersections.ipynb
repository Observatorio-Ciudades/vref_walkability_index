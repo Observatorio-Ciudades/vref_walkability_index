{
 "cells": [
  {
   "cell_type": "code",
   "execution_count": 13,
   "metadata": {},
   "outputs": [],
   "source": [
    "import numpy as np\n",
    "import geopandas as gpd\n",
    "import time\n",
    "import utils.analysis as an\n",
    "\n",
    "from rasterio.transform import from_origin\n",
    "import rasterio"
   ]
  },
  {
   "cell_type": "markdown",
   "metadata": {},
   "source": [
    "# Zonas Medellin"
   ]
  },
  {
   "cell_type": "code",
   "execution_count": null,
   "metadata": {},
   "outputs": [
    {
     "name": "stdout",
     "output_type": "stream",
     "text": [
      "Procesando zona: aguacatala_HL\n",
      "El proceso tomó 2.58 minutos.\n",
      "\n",
      "Procesando zona: floresta_HH\n",
      "El proceso tomó 4.21 minutos.\n",
      "\n",
      "Procesando zona: moravia_LH\n",
      "El proceso tomó 3.35 minutos.\n",
      "\n"
     ]
    }
   ],
   "source": [
    "# Load the point shapefile\n",
    "zo = ['aguacatala_HL','floresta_HH','moravia_LH']\n",
    "z = zo[-1]\n",
    "for z in zo:\n",
    "    print(f\"Procesando zona: {z}\")  # Print which zone you are processing\n",
    "    nodes = gpd.read_file(f'../data/output/shape/project_network_initial/{z}/{z}_nodes_proj_net_initial.shp')\n",
    "    edges = gpd.read_file(f'../data/output/shape/project_network_initial/{z}/{z}_edges_proj_net_initial.shp')\n",
    "    nodes = nodes.to_crs('epsg:32618')\n",
    "    edges = edges.to_crs('epsg:32618')\n",
    "\n",
    "    nodes_tess = gpd.read_file(f'../data/output/shape/network_tessellations/{z}/{z}_tessellations_nodes.shp')\n",
    "    edges_tess = gpd.read_file(f'../data/output/shape/network_tessellations/{z}/{z}_tessellations_edges.shp')\n",
    "    nodes_tess = nodes_tess.to_crs('epsg:32618')\n",
    "    edges_tess = edges_tess.to_crs('epsg:32618')\n",
    "\n",
    "    # Start timer\n",
    "    start_time = time.time()\n",
    "\n",
    "    # Run the function\n",
    "    nodes_tess, mesh_gdf, x_min, y_min, x_max, y_max = an.calculate_density(nodes_tess, bandwidth=80, pixel_size=5, kernel_shape='quartic')\n",
    "\n",
    "    # Extraer coordenadas de los puntos de la malla de densidad\n",
    "    mesh_coords = np.array(list(zip(mesh_gdf.geometry.x, mesh_gdf.geometry.y)))\n",
    "    puntos_coords = np.array(list(zip(nodes.geometry.x, nodes.geometry.y)))\n",
    "    # Construir el árbol KD con las coordenadas de la malla de densidad\n",
    "    from scipy.spatial import cKDTree\n",
    "    tree = cKDTree(mesh_coords)\n",
    "    # Buscar los índices de los puntos más cercanos en la malla de densidad\n",
    "    _, indices = tree.query(puntos_coords, k=1)\n",
    "    # Asignar los valores de densidad correspondientes\n",
    "    nodes['density'] = mesh_gdf.iloc[indices]['density'].values\n",
    "\n",
    "    # Make sure 'osmid' is the index on the GeoDataFrame 'nodes'\n",
    "    nodes = nodes.set_index('osmid')\n",
    "\n",
    "    # Assign density to each edge as the average of nodes 'u' and 'v'\n",
    "    for i in edges.index:\n",
    "        u = edges.loc[i, 'u']  # Get edge node 'u'\n",
    "        v = edges.loc[i, 'v']  # Get edge node 'v'\n",
    "        \n",
    "        # Verify that both nodes 'u' and 'v' exist in the GeoDataFrame 'nodes'\n",
    "        if u in nodes.index and v in nodes.index:\n",
    "            # Calculate the average density between the two nodes connected by the edge\n",
    "            edges.loc[i, 'den_inter'] = (nodes.loc[u, 'density'] + nodes.loc[v, 'density']) / 2\n",
    "        else:\n",
    "            # If any of the nodes do not have density, assign NaN or a default value\n",
    "            edges.loc[i, 'den_inter'] = np.nan\n",
    "\n",
    "    # Calculate total elapsed time\n",
    "    end_time = time.time()\n",
    "    elapsed_time = end_time - start_time\n",
    "    print(f\"El proceso tomó {elapsed_time/60:.2f} minutos.\\n\")\n",
    "\n",
    "    # # Call the function with the density result\n",
    "    # an.plot_density(nodes, density)\n",
    "\n",
    "    # Save modified nodes to a shapefile\n",
    "    output_nodes_shapefile_path = (f'../data/output/shape/physical_variables/intersections/{z}/{z}_intersections_nodes.shp')\n",
    "    nodes = nodes.to_crs('epsg:4326')\n",
    "    nodes = nodes.rename(columns={'density':'den_inter'})\n",
    "    nodes.to_file(output_nodes_shapefile_path)\n",
    "\n",
    "    # Save modified edges to a shapefile\n",
    "    output_edges_shapefile_path = (f'../data/output/shape/physical_variables/intersections/{z}/{z}_intersections_edges.shp')\n",
    "    edges = edges.to_crs('epsg:4326')\n",
    "    edges.to_file(output_edges_shapefile_path)\n",
    "\n",
    "    # # Save the density map in raster format (GeoTIFF)\n",
    "    # raster_output_path = (f'../output/shape/heatmaps/{z}/{z}_heatmap.tif')\n",
    "    # transform = from_origin(x_min, y_min + (y_max - y_min), 5, -5)  # Change pixel size in Y to negative\n",
    "\n",
    "    # # Save the raster using rasterio\n",
    "    # with rasterio.open(raster_output_path, 'w', driver='GTiff', height=density.shape[0], width=density.shape[1],\n",
    "    #                    count=1, dtype='float32', crs='EPSG:32618', transform=transform) as dst:\n",
    "    #     dst.write(density, 1)"
   ]
  }
 ],
 "metadata": {
  "kernelspec": {
   "display_name": "ox_eafit",
   "language": "python",
   "name": "python3"
  },
  "language_info": {
   "codemirror_mode": {
    "name": "ipython",
    "version": 3
   },
   "file_extension": ".py",
   "mimetype": "text/x-python",
   "name": "python",
   "nbconvert_exporter": "python",
   "pygments_lexer": "ipython3",
   "version": "3.11.4"
  }
 },
 "nbformat": 4,
 "nbformat_minor": 4
}
