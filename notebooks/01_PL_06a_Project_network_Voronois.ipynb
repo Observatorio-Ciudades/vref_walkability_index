{
 "cells": [
  {
   "cell_type": "markdown",
   "id": "aa0cd546-7efb-4423-8ae9-9905857ce934",
   "metadata": {},
   "source": [
    "# 01_PL_06a_Project_network_Voronois (Uses function voronoi_polygons())"
   ]
  },
  {
   "cell_type": "markdown",
   "id": "6948203d-12c9-4b75-a1d3-545537df3c5f",
   "metadata": {},
   "source": [
    "This notebook __loads pop data__ (Looking for population and density) and __distributes it to Voronoi polygons created from nodes__ of the project network from 01_PL_04.\n",
    "\n",
    "__Inputs:__\n",
    "* Area of interest (City, Guadalajara)\n",
    "* Blocks with population data\n",
    "* Nodes from the project network, which was generated using the networks join procedure (Notebook 01_PL_04_Combine_networks)\n",
    "  \n",
    "__Outputs:__\n",
    "* Voronoi polygons for the project_network\n",
    "* Nodes with pop data (Population and density)"
   ]
  },
  {
   "cell_type": "markdown",
   "id": "6d3676ae-f7d5-4a4a-94a9-da3eaa16250f",
   "metadata": {},
   "source": [
    "## Import libraries"
   ]
  },
  {
   "cell_type": "code",
   "execution_count": 1,
   "id": "80427904-c061-4d62-97fd-e5e09b6bc297",
   "metadata": {},
   "outputs": [],
   "source": [
    "first_folder_path = \"../\""
   ]
  },
  {
   "cell_type": "code",
   "execution_count": 2,
   "id": "617e8ef9-75ba-4044-9d9d-503ad4fd277a",
   "metadata": {},
   "outputs": [],
   "source": [
    "import os\n",
    "import sys\n",
    "\n",
    "import pandas as pd\n",
    "import geopandas as gpd\n",
    "import osmnx as ox\n",
    "import numpy as np\n",
    "\n",
    "import matplotlib.pyplot as plt\n",
    "import seaborn as sns\n",
    "\n",
    "# Time processes\n",
    "import time\n",
    "\n",
    "import warnings\n",
    "warnings.simplefilter(action='ignore', category=FutureWarning)\n",
    "\n",
    "module_path = os.path.abspath(os.path.join(first_folder_path))\n",
    "if module_path not in sys.path:\n",
    "    sys.path.append(module_path)\n",
    "    import src\n",
    "else:\n",
    "    import src"
   ]
  },
  {
   "cell_type": "markdown",
   "id": "a87ffa46-50f1-4122-b411-c6046265edda",
   "metadata": {},
   "source": [
    "## Notebook config"
   ]
  },
  {
   "cell_type": "code",
   "execution_count": 13,
   "id": "2b530a18-48c8-41d1-a05a-45ccd4a5860d",
   "metadata": {},
   "outputs": [],
   "source": [
    "# ----- ----- ----- City of analysis ----- ----- -----\n",
    "city = 'guadalajara'\n",
    "\n",
    "# ----- ----- ----- Input data directories ----- ----- ----- \n",
    "# Nodes and edges from notebook 01_PL_04_Combine_networks\n",
    "nodes_dir = first_folder_path + f\"data/output/shape/network_project/{city}/part02_step06_ntwsconsolidate/{city}_nodes_proj_net_consolidated5m.gpkg\"\n",
    "edges_dir = first_folder_path + f\"data/output/shape/network_project/{city}/part02_step06_ntwsconsolidate/{city}_edges_proj_net_consolidated5m.gpkg\"\n",
    "\n",
    "# Blocks with population data\n",
    "blocks_dir = first_folder_path + f\"data/input/shape/Manzanas_Pop_Guadalajara/pobcenso_inegi_20_mzaageb_mza_gdl.gpkg\"\n",
    "# Blocks unique ID column (Will become index)\n",
    "blocks_unique_id = 'cvegeo_mza'\n",
    "# Column where population data is located within each block\n",
    "pop_col = 'pobtot'\n",
    "\n",
    "# ----- ----- ----- Projection to be used when needed ----- ----- ----- \n",
    "projected_crs = \"EPSG:32613\" #Guadalajara = 'EPSG:32613'\n",
    "\n",
    "# ----- ----- ----- Output ----- ----- ----- \n",
    "output_dir = first_folder_path + f\"data/output/shape/network_project_voronoi/\"\n",
    "local_save = False"
   ]
  },
  {
   "cell_type": "markdown",
   "id": "52c93f49-9938-4c03-baf0-ac1a23586885",
   "metadata": {},
   "source": [
    "## Load data"
   ]
  },
  {
   "cell_type": "markdown",
   "id": "4efac756-10bc-46a8-9fe1-5220f4ab1009",
   "metadata": {},
   "source": [
    "### __Load data__ - Pop data in blocks"
   ]
  },
  {
   "cell_type": "code",
   "execution_count": 4,
   "id": "836f3f36-6598-4b38-8ffc-a6c72cbb4dc3",
   "metadata": {},
   "outputs": [
    {
     "name": "stdout",
     "output_type": "stream",
     "text": [
      "TIME: 4.9286510944366455 seconds.\n",
      "EPSG:32613\n",
      "<class 'geopandas.geodataframe.GeoDataFrame'>\n",
      "Index: 54804 entries, 1412000620299011 to 1412000017065020\n",
      "Data columns (total 2 columns):\n",
      " #   Column    Non-Null Count  Dtype   \n",
      "---  ------    --------------  -----   \n",
      " 0   pobtot    54804 non-null  int64   \n",
      " 1   geometry  54804 non-null  geometry\n",
      "dtypes: geometry(1), int64(1)\n",
      "memory usage: 1.3+ MB\n",
      "None\n"
     ]
    },
    {
     "data": {
      "text/html": [
       "<div>\n",
       "<style scoped>\n",
       "    .dataframe tbody tr th:only-of-type {\n",
       "        vertical-align: middle;\n",
       "    }\n",
       "\n",
       "    .dataframe tbody tr th {\n",
       "        vertical-align: top;\n",
       "    }\n",
       "\n",
       "    .dataframe thead th {\n",
       "        text-align: right;\n",
       "    }\n",
       "</style>\n",
       "<table border=\"1\" class=\"dataframe\">\n",
       "  <thead>\n",
       "    <tr style=\"text-align: right;\">\n",
       "      <th></th>\n",
       "      <th>pobtot</th>\n",
       "      <th>geometry</th>\n",
       "    </tr>\n",
       "    <tr>\n",
       "      <th>cvegeo_mza</th>\n",
       "      <th></th>\n",
       "      <th></th>\n",
       "    </tr>\n",
       "  </thead>\n",
       "  <tbody>\n",
       "    <tr>\n",
       "      <th>1412000620299011</th>\n",
       "      <td>16</td>\n",
       "      <td>POLYGON ((659974.886 2297605.164, 659923.165 2...</td>\n",
       "    </tr>\n",
       "    <tr>\n",
       "      <th>1412000620299032</th>\n",
       "      <td>18</td>\n",
       "      <td>POLYGON ((659879.976 2297823.117, 659923.355 2...</td>\n",
       "    </tr>\n",
       "  </tbody>\n",
       "</table>\n",
       "</div>"
      ],
      "text/plain": [
       "                  pobtot                                           geometry\n",
       "cvegeo_mza                                                                 \n",
       "1412000620299011      16  POLYGON ((659974.886 2297605.164, 659923.165 2...\n",
       "1412000620299032      18  POLYGON ((659879.976 2297823.117, 659923.355 2..."
      ]
     },
     "execution_count": 4,
     "metadata": {},
     "output_type": "execute_result"
    }
   ],
   "source": [
    "# ----- ----- ----- Time start\n",
    "time_1 = time.time()\n",
    "# ----- ----- ----- Process\n",
    "# Load blocks\n",
    "blocks_gdf = gpd.read_file(blocks_dir)\n",
    "# Set crs\n",
    "if blocks_gdf.crs != projected_crs:\n",
    "    blocks_gdf = blocks_gdf.to_crs(projected_crs)\n",
    "# Set index if necessary\n",
    "if blocks_unique_id in blocks_gdf.columns:\n",
    "    blocks_gdf.set_index(blocks_unique_id,inplace=True)\n",
    "# Filter for data of interest\n",
    "blocks_gdf = blocks_gdf[[pop_col,'geometry']]\n",
    "# ----- ----- ----- Time end\n",
    "time_2 = time.time()\n",
    "print(f\"TIME: {time_2-time_1} seconds.\")\n",
    "\n",
    "\n",
    "# Show\n",
    "print(blocks_gdf.crs)\n",
    "print(blocks_gdf.info())\n",
    "blocks_gdf.head(2)"
   ]
  },
  {
   "cell_type": "markdown",
   "id": "a3c2b5a6-5f09-4089-be00-17c6f11771b2",
   "metadata": {},
   "source": [
    "### __Load data__ - Network"
   ]
  },
  {
   "cell_type": "code",
   "execution_count": 5,
   "id": "ca4d4b24-74b7-4132-84f0-18de7c18e298",
   "metadata": {},
   "outputs": [
    {
     "name": "stdout",
     "output_type": "stream",
     "text": [
      "Dropped 0 nodes to set osmid as nodes index.\n",
      "TIME: 0.47885584831237793 seconds.\n",
      "EPSG:32613\n",
      "<class 'geopandas.geodataframe.GeoDataFrame'>\n",
      "Index: 125089 entries, 67637870229114485 to 66850443227097716\n",
      "Data columns (total 3 columns):\n",
      " #   Column    Non-Null Count   Dtype   \n",
      "---  ------    --------------   -----   \n",
      " 0   x         125089 non-null  float64 \n",
      " 1   y         125089 non-null  float64 \n",
      " 2   geometry  125089 non-null  geometry\n",
      "dtypes: float64(2), geometry(1)\n",
      "memory usage: 3.8+ MB\n",
      "None\n"
     ]
    },
    {
     "data": {
      "text/html": [
       "<div>\n",
       "<style scoped>\n",
       "    .dataframe tbody tr th:only-of-type {\n",
       "        vertical-align: middle;\n",
       "    }\n",
       "\n",
       "    .dataframe tbody tr th {\n",
       "        vertical-align: top;\n",
       "    }\n",
       "\n",
       "    .dataframe thead th {\n",
       "        text-align: right;\n",
       "    }\n",
       "</style>\n",
       "<table border=\"1\" class=\"dataframe\">\n",
       "  <thead>\n",
       "    <tr style=\"text-align: right;\">\n",
       "      <th></th>\n",
       "      <th>x</th>\n",
       "      <th>y</th>\n",
       "      <th>geometry</th>\n",
       "    </tr>\n",
       "    <tr>\n",
       "      <th>osmid</th>\n",
       "      <th></th>\n",
       "      <th></th>\n",
       "      <th></th>\n",
       "    </tr>\n",
       "  </thead>\n",
       "  <tbody>\n",
       "    <tr>\n",
       "      <th>67637870229114485</th>\n",
       "      <td>676378.709485</td>\n",
       "      <td>2.291145e+06</td>\n",
       "      <td>POINT (676378.709 2291144.858)</td>\n",
       "    </tr>\n",
       "    <tr>\n",
       "      <th>67640019229114922</th>\n",
       "      <td>676400.196372</td>\n",
       "      <td>2.291149e+06</td>\n",
       "      <td>POINT (676400.196 2291149.223)</td>\n",
       "    </tr>\n",
       "  </tbody>\n",
       "</table>\n",
       "</div>"
      ],
      "text/plain": [
       "                               x             y                        geometry\n",
       "osmid                                                                         \n",
       "67637870229114485  676378.709485  2.291145e+06  POINT (676378.709 2291144.858)\n",
       "67640019229114922  676400.196372  2.291149e+06  POINT (676400.196 2291149.223)"
      ]
     },
     "execution_count": 5,
     "metadata": {},
     "output_type": "execute_result"
    }
   ],
   "source": [
    "# ----- ----- ----- Time start\n",
    "time_1 = time.time()\n",
    "# ----- ----- ----- Process\n",
    "# Load nodes\n",
    "cons_nodes = gpd.read_file(nodes_dir)\n",
    "# Set crs\n",
    "if cons_nodes.crs != projected_crs:\n",
    "    cons_nodes = cons_nodes.to_crs(projected_crs)\n",
    "    print(f\"Changed crs to {projected_crs}.\")\n",
    "# Set index if necessary\n",
    "if 'osmid' in cons_nodes.columns:\n",
    "    original_len = len(cons_nodes)\n",
    "    cons_nodes = cons_nodes.drop_duplicates(subset=['osmid'])\n",
    "    new_len = len(cons_nodes)\n",
    "    cons_nodes.set_index('osmid',inplace=True)\n",
    "    print(f\"Dropped {new_len-original_len} nodes to set osmid as nodes index.\")\n",
    "# Filter for data of interest\n",
    "cons_nodes = cons_nodes[['x','y','geometry']]\n",
    "# ----- ----- ----- Time end\n",
    "time_2 = time.time()\n",
    "print(f\"TIME: {time_2-time_1} seconds.\")\n",
    "\n",
    "# Show\n",
    "print(cons_nodes.crs)\n",
    "print(cons_nodes.info())\n",
    "cons_nodes.head(2)"
   ]
  },
  {
   "cell_type": "markdown",
   "id": "c55c3fdb-5bb0-45b1-9beb-6d082e832601",
   "metadata": {},
   "source": [
    "## Create voronoi polygons using nodes"
   ]
  },
  {
   "cell_type": "code",
   "execution_count": 6,
   "id": "55d174cd-cc50-493c-a6d4-9b86509f9f87",
   "metadata": {},
   "outputs": [
    {
     "name": "stdout",
     "output_type": "stream",
     "text": [
      "--- Creating voronois with nodes osmid data.\n",
      "TIME: 5.155500173568726 seconds.\n",
      "EPSG:32613\n",
      "<class 'geopandas.geodataframe.GeoDataFrame'>\n",
      "Index: 124891 entries, 71631182227405376 to 67243679227749617\n",
      "Data columns (total 1 columns):\n",
      " #   Column    Non-Null Count   Dtype   \n",
      "---  ------    --------------   -----   \n",
      " 0   geometry  124891 non-null  geometry\n",
      "dtypes: geometry(1)\n",
      "memory usage: 1.9+ MB\n",
      "None\n"
     ]
    },
    {
     "data": {
      "text/html": [
       "<div>\n",
       "<style scoped>\n",
       "    .dataframe tbody tr th:only-of-type {\n",
       "        vertical-align: middle;\n",
       "    }\n",
       "\n",
       "    .dataframe tbody tr th {\n",
       "        vertical-align: top;\n",
       "    }\n",
       "\n",
       "    .dataframe thead th {\n",
       "        text-align: right;\n",
       "    }\n",
       "</style>\n",
       "<table border=\"1\" class=\"dataframe\">\n",
       "  <thead>\n",
       "    <tr style=\"text-align: right;\">\n",
       "      <th></th>\n",
       "      <th>geometry</th>\n",
       "    </tr>\n",
       "    <tr>\n",
       "      <th>osmid</th>\n",
       "      <th></th>\n",
       "    </tr>\n",
       "  </thead>\n",
       "  <tbody>\n",
       "    <tr>\n",
       "      <th>71631182227405376</th>\n",
       "      <td>POLYGON ((716342.706 2274108.386, 716336.517 2...</td>\n",
       "    </tr>\n",
       "    <tr>\n",
       "      <th>71636649227405032</th>\n",
       "      <td>POLYGON ((716434.117 2274062.834, 716416.923 2...</td>\n",
       "    </tr>\n",
       "  </tbody>\n",
       "</table>\n",
       "</div>"
      ],
      "text/plain": [
       "                                                            geometry\n",
       "osmid                                                               \n",
       "71631182227405376  POLYGON ((716342.706 2274108.386, 716336.517 2...\n",
       "71636649227405032  POLYGON ((716434.117 2274062.834, 716416.923 2..."
      ]
     },
     "execution_count": 6,
     "metadata": {},
     "output_type": "execute_result"
    }
   ],
   "source": [
    "print(f\"--- Creating voronois with nodes osmid data.\")\n",
    "\n",
    "#Time start\n",
    "time_1 = time.time()\n",
    "#Process\n",
    "voronois_gdf = src.voronoi_polygons(cons_nodes)\n",
    "#Time end\n",
    "time_2 = time.time()\n",
    "print(f\"TIME: {time_2-time_1} seconds.\")\n",
    "\n",
    "# Show\n",
    "print(voronois_gdf.crs)\n",
    "print(voronois_gdf.info())\n",
    "voronois_gdf.head(2)"
   ]
  },
  {
   "cell_type": "markdown",
   "id": "71ed1157-e338-4785-9598-1fcac84c6f4d",
   "metadata": {},
   "source": [
    "## Assign blocks population data to voronois"
   ]
  },
  {
   "cell_type": "code",
   "execution_count": 8,
   "id": "c632b101-04cc-4812-9c79-398dd16bd5ed",
   "metadata": {},
   "outputs": [
    {
     "name": "stdout",
     "output_type": "stream",
     "text": [
      "--- Assigning pop col pobtot from blocks to voronois .\n",
      "TIME: 13.499953269958496 seconds.\n",
      "(124891, 3)\n"
     ]
    },
    {
     "data": {
      "text/html": [
       "<div>\n",
       "<style scoped>\n",
       "    .dataframe tbody tr th:only-of-type {\n",
       "        vertical-align: middle;\n",
       "    }\n",
       "\n",
       "    .dataframe tbody tr th {\n",
       "        vertical-align: top;\n",
       "    }\n",
       "\n",
       "    .dataframe thead th {\n",
       "        text-align: right;\n",
       "    }\n",
       "</style>\n",
       "<table border=\"1\" class=\"dataframe\">\n",
       "  <thead>\n",
       "    <tr style=\"text-align: right;\">\n",
       "      <th></th>\n",
       "      <th>osmid</th>\n",
       "      <th>geometry</th>\n",
       "      <th>pobtot</th>\n",
       "    </tr>\n",
       "  </thead>\n",
       "  <tbody>\n",
       "    <tr>\n",
       "      <th>0</th>\n",
       "      <td>71631182227405376</td>\n",
       "      <td>POLYGON ((716342.706 2274108.386, 716336.517 2...</td>\n",
       "      <td>0</td>\n",
       "    </tr>\n",
       "    <tr>\n",
       "      <th>1</th>\n",
       "      <td>71636649227405032</td>\n",
       "      <td>POLYGON ((716434.117 2274062.834, 716416.923 2...</td>\n",
       "      <td>0</td>\n",
       "    </tr>\n",
       "  </tbody>\n",
       "</table>\n",
       "</div>"
      ],
      "text/plain": [
       "               osmid                                           geometry  \\\n",
       "0  71631182227405376  POLYGON ((716342.706 2274108.386, 716336.517 2...   \n",
       "1  71636649227405032  POLYGON ((716434.117 2274062.834, 716416.923 2...   \n",
       "\n",
       "   pobtot  \n",
       "0       0  \n",
       "1       0  "
      ]
     },
     "execution_count": 8,
     "metadata": {},
     "output_type": "execute_result"
    }
   ],
   "source": [
    "print(f\"--- Assigning pop col {pop_col} from blocks to voronois .\")\n",
    "\n",
    "#Time start\n",
    "time_1 = time.time()\n",
    "#Process\n",
    "voronois_pop_gdf = src.assing_blocks_attribute_to_voronoi(blocks_gdf, voronois_gdf, attribute_column=pop_col)\n",
    "#Time end\n",
    "time_2 = time.time()\n",
    "print(f\"TIME: {time_2-time_1} seconds.\")\n",
    "\n",
    "# Show\n",
    "print(voronois_pop_gdf.shape)\n",
    "voronois_pop_gdf.head(2)"
   ]
  },
  {
   "cell_type": "markdown",
   "id": "e5cb7c9f-d010-4e01-942b-e40c85f1a180",
   "metadata": {},
   "source": [
    "## Calculate pop density in nodes (Using it's voronoi polygon's area)"
   ]
  },
  {
   "cell_type": "code",
   "execution_count": 9,
   "id": "bae1ad7a-080c-4a4e-9b56-18f3dc0da44f",
   "metadata": {},
   "outputs": [
    {
     "name": "stdout",
     "output_type": "stream",
     "text": [
      "--- Adding density using each voronoi polygon's area.\n",
      "(124891, 5)\n"
     ]
    },
    {
     "data": {
      "text/html": [
       "<div>\n",
       "<style scoped>\n",
       "    .dataframe tbody tr th:only-of-type {\n",
       "        vertical-align: middle;\n",
       "    }\n",
       "\n",
       "    .dataframe tbody tr th {\n",
       "        vertical-align: top;\n",
       "    }\n",
       "\n",
       "    .dataframe thead th {\n",
       "        text-align: right;\n",
       "    }\n",
       "</style>\n",
       "<table border=\"1\" class=\"dataframe\">\n",
       "  <thead>\n",
       "    <tr style=\"text-align: right;\">\n",
       "      <th></th>\n",
       "      <th>osmid</th>\n",
       "      <th>geometry</th>\n",
       "      <th>pobtot</th>\n",
       "      <th>area_has</th>\n",
       "      <th>dens_pob_ha</th>\n",
       "    </tr>\n",
       "  </thead>\n",
       "  <tbody>\n",
       "    <tr>\n",
       "      <th>0</th>\n",
       "      <td>71631182227405376</td>\n",
       "      <td>POLYGON ((716342.706 2274108.386, 716336.517 2...</td>\n",
       "      <td>0</td>\n",
       "      <td>2.039817</td>\n",
       "      <td>0.0</td>\n",
       "    </tr>\n",
       "    <tr>\n",
       "      <th>1</th>\n",
       "      <td>71636649227405032</td>\n",
       "      <td>POLYGON ((716434.117 2274062.834, 716416.923 2...</td>\n",
       "      <td>0</td>\n",
       "      <td>0.644630</td>\n",
       "      <td>0.0</td>\n",
       "    </tr>\n",
       "  </tbody>\n",
       "</table>\n",
       "</div>"
      ],
      "text/plain": [
       "               osmid                                           geometry  \\\n",
       "0  71631182227405376  POLYGON ((716342.706 2274108.386, 716336.517 2...   \n",
       "1  71636649227405032  POLYGON ((716434.117 2274062.834, 716416.923 2...   \n",
       "\n",
       "   pobtot  area_has  dens_pob_ha  \n",
       "0       0  2.039817          0.0  \n",
       "1       0  0.644630          0.0  "
      ]
     },
     "execution_count": 9,
     "metadata": {},
     "output_type": "execute_result"
    }
   ],
   "source": [
    "print(\"--- Adding density using each voronoi polygon's area.\")\n",
    "# Set crs\n",
    "if voronois_pop_gdf.crs != projected_crs:\n",
    "    voronois_pop_gdf = voronois_pop_gdf.to_crs(projected_crs)\n",
    "# Calculate whole voronoi's area\n",
    "voronois_pop_gdf['area_has'] = voronois_pop_gdf.area/10000\n",
    "# Calculate density\n",
    "voronois_pop_gdf['dens_pob_ha'] = voronois_pop_gdf[pop_col] / voronois_pop_gdf['area_has']\n",
    "\n",
    "# Show\n",
    "print(voronois_pop_gdf.shape)\n",
    "voronois_pop_gdf.head(2)"
   ]
  },
  {
   "cell_type": "markdown",
   "id": "80fe806c-28f2-49d8-a2da-428eceb242e0",
   "metadata": {},
   "source": [
    "## Save voronoi polygons with population and density data"
   ]
  },
  {
   "cell_type": "code",
   "execution_count": 12,
   "id": "6d5345f2-1f9b-4369-870a-3387f11227f1",
   "metadata": {},
   "outputs": [
    {
     "name": "stdout",
     "output_type": "stream",
     "text": [
      "5011955\n",
      "5010358\n"
     ]
    }
   ],
   "source": [
    "print(blocks_gdf.pobtot.sum())\n",
    "print(voronois_pop_gdf.pobtot.sum())"
   ]
  },
  {
   "cell_type": "code",
   "execution_count": 10,
   "id": "dbad7642-2431-4e90-9a67-e56ba28d2e37",
   "metadata": {},
   "outputs": [
    {
     "name": "stdout",
     "output_type": "stream",
     "text": [
      "--- Saving result locally.\n",
      "--- Result saved.\n"
     ]
    }
   ],
   "source": [
    "if local_save:\n",
    "    print(\"--- Saving result locally.\")\n",
    "    voronois_pop_gdf.to_file(output_dir+f\"{city}_voronois_pop_gdf.gpkg\")\n",
    "    print(\"--- Result saved.\")"
   ]
  },
  {
   "cell_type": "code",
   "execution_count": null,
   "id": "84ba7a37-1622-4919-9964-641b482ab026",
   "metadata": {},
   "outputs": [],
   "source": []
  }
 ],
 "metadata": {
  "kernelspec": {
   "display_name": "GDS-10.0",
   "language": "python",
   "name": "gds"
  },
  "language_info": {
   "codemirror_mode": {
    "name": "ipython",
    "version": 3
   },
   "file_extension": ".py",
   "mimetype": "text/x-python",
   "name": "python",
   "nbconvert_exporter": "python",
   "pygments_lexer": "ipython3",
   "version": "3.9.18"
  }
 },
 "nbformat": 4,
 "nbformat_minor": 5
}
