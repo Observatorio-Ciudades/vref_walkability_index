{
 "cells": [
  {
   "cell_type": "markdown",
   "id": "aa0cd546-7efb-4423-8ae9-9905857ce934",
   "metadata": {},
   "source": [
    "# 01_PL_06b_Project_network_Voronois (Uses function voronoi_points_within_aoi())"
   ]
  },
  {
   "cell_type": "markdown",
   "id": "6948203d-12c9-4b75-a1d3-545537df3c5f",
   "metadata": {},
   "source": [
    "This notebook __loads pop data__ (Looking for population and density) and __distributes it to Voronoi polygons created from nodes__ of the project network from 01_PL_04.\n",
    "\n",
    "__Inputs:__\n",
    "* Area of interest (City, Guadalajara)\n",
    "* Blocks with population data\n",
    "* Nodes from the project network, which was generated using the networks join procedure (Notebook 01_PL_04_Combine_networks)\n",
    "  \n",
    "__Outputs:__\n",
    "* Voronoi polygons for the project_network\n",
    "* Nodes with pop data (Population and density)"
   ]
  },
  {
   "cell_type": "markdown",
   "id": "6d3676ae-f7d5-4a4a-94a9-da3eaa16250f",
   "metadata": {},
   "source": [
    "## Import libraries"
   ]
  },
  {
   "cell_type": "code",
   "execution_count": 1,
   "id": "80427904-c061-4d62-97fd-e5e09b6bc297",
   "metadata": {},
   "outputs": [],
   "source": [
    "first_folder_path = \"../\""
   ]
  },
  {
   "cell_type": "code",
   "execution_count": 2,
   "id": "617e8ef9-75ba-4044-9d9d-503ad4fd277a",
   "metadata": {},
   "outputs": [],
   "source": [
    "import os\n",
    "import sys\n",
    "\n",
    "import pandas as pd\n",
    "import geopandas as gpd\n",
    "import osmnx as ox\n",
    "import numpy as np\n",
    "\n",
    "import matplotlib.pyplot as plt\n",
    "import seaborn as sns\n",
    "\n",
    "# Time processes\n",
    "import time\n",
    "\n",
    "import warnings\n",
    "warnings.simplefilter(action='ignore', category=FutureWarning)\n",
    "\n",
    "module_path = os.path.abspath(os.path.join(first_folder_path))\n",
    "if module_path not in sys.path:\n",
    "    sys.path.append(module_path)\n",
    "    import src\n",
    "else:\n",
    "    import src"
   ]
  },
  {
   "cell_type": "markdown",
   "id": "a87ffa46-50f1-4122-b411-c6046265edda",
   "metadata": {},
   "source": [
    "## Notebook config"
   ]
  },
  {
   "cell_type": "code",
   "execution_count": 3,
   "id": "2b530a18-48c8-41d1-a05a-45ccd4a5860d",
   "metadata": {},
   "outputs": [],
   "source": [
    "# ----- ----- ----- City of analysis ----- ----- -----\n",
    "city = 'guadalajara'\n",
    "\n",
    "# ----- ----- ----- Input data directories ----- ----- ----- \n",
    "# Nodes and edges from notebook 01_PL_04_Combine_networks\n",
    "nodes_dir = first_folder_path + f\"data/output/shape/network_project/{city}/part02_step06_ntwsconsolidate/{city}_nodes_proj_net_consolidated5m.gpkg\"\n",
    "edges_dir = first_folder_path + f\"data/output/shape/network_project/{city}/part02_step06_ntwsconsolidate/{city}_edges_proj_net_consolidated5m.gpkg\"\n",
    "\n",
    "# Blocks with population data\n",
    "blocks_dir = first_folder_path + f\"data/input/shape/Manzanas_Pop_Guadalajara/pobcenso_inegi_20_mzaageb_mza_gdl.gpkg\"\n",
    "# Blocks unique ID column (Will become index)\n",
    "blocks_unique_id = 'cvegeo_mza'\n",
    "# Column where population data is located within each block\n",
    "pop_col = 'pobtot'\n",
    "\n",
    "# ----- ----- ----- Projection to be used when needed ----- ----- ----- \n",
    "projected_crs = \"EPSG:32613\" #Guadalajara = 'EPSG:32613'\n",
    "\n",
    "# ----- ----- ----- Output ----- ----- ----- \n",
    "output_dir = first_folder_path + f\"data/output/shape/network_project_voronoi/\"\n",
    "local_save = False"
   ]
  },
  {
   "cell_type": "markdown",
   "id": "52c93f49-9938-4c03-baf0-ac1a23586885",
   "metadata": {},
   "source": [
    "## Load data"
   ]
  },
  {
   "cell_type": "markdown",
   "id": "4efac756-10bc-46a8-9fe1-5220f4ab1009",
   "metadata": {},
   "source": [
    "### __Load data__ - Pop data in blocks"
   ]
  },
  {
   "cell_type": "code",
   "execution_count": 4,
   "id": "836f3f36-6598-4b38-8ffc-a6c72cbb4dc3",
   "metadata": {},
   "outputs": [
    {
     "name": "stdout",
     "output_type": "stream",
     "text": [
      "TIME: 6.8883912563323975 seconds.\n",
      "EPSG:32613\n",
      "<class 'geopandas.geodataframe.GeoDataFrame'>\n",
      "Index: 54804 entries, 1412000620299011 to 1412000017065020\n",
      "Data columns (total 2 columns):\n",
      " #   Column    Non-Null Count  Dtype   \n",
      "---  ------    --------------  -----   \n",
      " 0   pobtot    54804 non-null  int64   \n",
      " 1   geometry  54804 non-null  geometry\n",
      "dtypes: geometry(1), int64(1)\n",
      "memory usage: 1.3+ MB\n",
      "None\n"
     ]
    },
    {
     "data": {
      "text/html": [
       "<div>\n",
       "<style scoped>\n",
       "    .dataframe tbody tr th:only-of-type {\n",
       "        vertical-align: middle;\n",
       "    }\n",
       "\n",
       "    .dataframe tbody tr th {\n",
       "        vertical-align: top;\n",
       "    }\n",
       "\n",
       "    .dataframe thead th {\n",
       "        text-align: right;\n",
       "    }\n",
       "</style>\n",
       "<table border=\"1\" class=\"dataframe\">\n",
       "  <thead>\n",
       "    <tr style=\"text-align: right;\">\n",
       "      <th></th>\n",
       "      <th>pobtot</th>\n",
       "      <th>geometry</th>\n",
       "    </tr>\n",
       "    <tr>\n",
       "      <th>cvegeo_mza</th>\n",
       "      <th></th>\n",
       "      <th></th>\n",
       "    </tr>\n",
       "  </thead>\n",
       "  <tbody>\n",
       "    <tr>\n",
       "      <th>1412000620299011</th>\n",
       "      <td>16</td>\n",
       "      <td>POLYGON ((659974.886 2297605.164, 659923.165 2...</td>\n",
       "    </tr>\n",
       "    <tr>\n",
       "      <th>1412000620299032</th>\n",
       "      <td>18</td>\n",
       "      <td>POLYGON ((659879.976 2297823.117, 659923.355 2...</td>\n",
       "    </tr>\n",
       "  </tbody>\n",
       "</table>\n",
       "</div>"
      ],
      "text/plain": [
       "                  pobtot                                           geometry\n",
       "cvegeo_mza                                                                 \n",
       "1412000620299011      16  POLYGON ((659974.886 2297605.164, 659923.165 2...\n",
       "1412000620299032      18  POLYGON ((659879.976 2297823.117, 659923.355 2..."
      ]
     },
     "execution_count": 4,
     "metadata": {},
     "output_type": "execute_result"
    }
   ],
   "source": [
    "# ----- ----- ----- Time start\n",
    "time_1 = time.time()\n",
    "# ----- ----- ----- Process\n",
    "# Load blocks\n",
    "blocks_gdf = gpd.read_file(blocks_dir)\n",
    "# Set crs\n",
    "if blocks_gdf.crs != projected_crs:\n",
    "    blocks_gdf = blocks_gdf.to_crs(projected_crs)\n",
    "# Set index if necessary\n",
    "if blocks_unique_id in blocks_gdf.columns:\n",
    "    blocks_gdf.set_index(blocks_unique_id,inplace=True)\n",
    "# Filter for data of interest\n",
    "blocks_gdf = blocks_gdf[[pop_col,'geometry']]\n",
    "# ----- ----- ----- Time end\n",
    "time_2 = time.time()\n",
    "print(f\"TIME: {time_2-time_1} seconds.\")\n",
    "\n",
    "\n",
    "# Show\n",
    "print(blocks_gdf.crs)\n",
    "print(blocks_gdf.info())\n",
    "blocks_gdf.head(2)"
   ]
  },
  {
   "cell_type": "markdown",
   "id": "d4fa5581-70f2-4c9f-8ecf-7d049a6b68d0",
   "metadata": {},
   "source": [
    "## Create area of interest"
   ]
  },
  {
   "cell_type": "code",
   "execution_count": 5,
   "id": "1d3f2b13-b730-42dd-90ca-921084a27cbe",
   "metadata": {},
   "outputs": [
    {
     "name": "stdout",
     "output_type": "stream",
     "text": [
      "--- Creating a defined area of interest that cuts the voronois.\n",
      "<bound method DataFrame.info of                                             geometry\n",
      "0  MULTIPOLYGON (((653794.234 2261597.14, 653787....>\n"
     ]
    },
    {
     "data": {
      "text/html": [
       "<div>\n",
       "<style scoped>\n",
       "    .dataframe tbody tr th:only-of-type {\n",
       "        vertical-align: middle;\n",
       "    }\n",
       "\n",
       "    .dataframe tbody tr th {\n",
       "        vertical-align: top;\n",
       "    }\n",
       "\n",
       "    .dataframe thead th {\n",
       "        text-align: right;\n",
       "    }\n",
       "</style>\n",
       "<table border=\"1\" class=\"dataframe\">\n",
       "  <thead>\n",
       "    <tr style=\"text-align: right;\">\n",
       "      <th></th>\n",
       "      <th>geometry</th>\n",
       "    </tr>\n",
       "  </thead>\n",
       "  <tbody>\n",
       "    <tr>\n",
       "      <th>0</th>\n",
       "      <td>MULTIPOLYGON (((653794.234 2261597.14, 653787....</td>\n",
       "    </tr>\n",
       "  </tbody>\n",
       "</table>\n",
       "</div>"
      ],
      "text/plain": [
       "                                            geometry\n",
       "0  MULTIPOLYGON (((653794.234 2261597.14, 653787...."
      ]
     },
     "execution_count": 5,
     "metadata": {},
     "output_type": "execute_result"
    }
   ],
   "source": [
    "print(f\"--- Creating a defined area of interest that cuts the voronois.\")\n",
    "\n",
    "# Turn all blocks into a single buffered geometry\n",
    "blocks_buffer = blocks_gdf.copy()\n",
    "blocks_buffer = blocks_buffer.buffer(100).reset_index().dissolve()\n",
    "# Rename geom col\n",
    "blocks_buffer.rename(columns={0:'geometry'},inplace=True)\n",
    "# Turn into GeoDataFrame\n",
    "blocks_buffer = blocks_buffer.set_geometry('geometry')\n",
    "blocks_buffer = blocks_buffer.set_crs(projected_crs)\n",
    "blocks_buffer.drop(columns=[blocks_unique_id],inplace=True)\n",
    "\n",
    "# Show\n",
    "print(blocks_buffer.info)\n",
    "blocks_buffer"
   ]
  },
  {
   "cell_type": "code",
   "execution_count": 6,
   "id": "9fed0e79-303e-491b-9322-a781b692fe09",
   "metadata": {},
   "outputs": [
    {
     "data": {
      "text/plain": [
       "<Axes: >"
      ]
     },
     "execution_count": 6,
     "metadata": {},
     "output_type": "execute_result"
    },
    {
     "data": {
      "image/png": "[encoded data removed]",
      "text/plain": [
       "<Figure size 640x480 with 1 Axes>"
      ]
     },
     "metadata": {},
     "output_type": "display_data"
    }
   ],
   "source": [
    "blocks_buffer.plot()"
   ]
  },
  {
   "cell_type": "markdown",
   "id": "a3c2b5a6-5f09-4089-be00-17c6f11771b2",
   "metadata": {},
   "source": [
    "### __Load data__ - Network"
   ]
  },
  {
   "cell_type": "code",
   "execution_count": 7,
   "id": "ca4d4b24-74b7-4132-84f0-18de7c18e298",
   "metadata": {},
   "outputs": [
    {
     "name": "stdout",
     "output_type": "stream",
     "text": [
      "TIME: 0.6476545333862305 seconds.\n",
      "EPSG:32613\n",
      "<class 'geopandas.geodataframe.GeoDataFrame'>\n",
      "RangeIndex: 125089 entries, 0 to 125088\n",
      "Data columns (total 4 columns):\n",
      " #   Column    Non-Null Count   Dtype   \n",
      "---  ------    --------------   -----   \n",
      " 0   osmid     125089 non-null  object  \n",
      " 1   x         125089 non-null  float64 \n",
      " 2   y         125089 non-null  float64 \n",
      " 3   geometry  125089 non-null  geometry\n",
      "dtypes: float64(2), geometry(1), object(1)\n",
      "memory usage: 3.8+ MB\n",
      "None\n"
     ]
    },
    {
     "data": {
      "text/html": [
       "<div>\n",
       "<style scoped>\n",
       "    .dataframe tbody tr th:only-of-type {\n",
       "        vertical-align: middle;\n",
       "    }\n",
       "\n",
       "    .dataframe tbody tr th {\n",
       "        vertical-align: top;\n",
       "    }\n",
       "\n",
       "    .dataframe thead th {\n",
       "        text-align: right;\n",
       "    }\n",
       "</style>\n",
       "<table border=\"1\" class=\"dataframe\">\n",
       "  <thead>\n",
       "    <tr style=\"text-align: right;\">\n",
       "      <th></th>\n",
       "      <th>osmid</th>\n",
       "      <th>x</th>\n",
       "      <th>y</th>\n",
       "      <th>geometry</th>\n",
       "    </tr>\n",
       "  </thead>\n",
       "  <tbody>\n",
       "    <tr>\n",
       "      <th>0</th>\n",
       "      <td>67637870229114485</td>\n",
       "      <td>676378.709485</td>\n",
       "      <td>2.291145e+06</td>\n",
       "      <td>POINT (676378.709 2291144.858)</td>\n",
       "    </tr>\n",
       "    <tr>\n",
       "      <th>1</th>\n",
       "      <td>67640019229114922</td>\n",
       "      <td>676400.196372</td>\n",
       "      <td>2.291149e+06</td>\n",
       "      <td>POINT (676400.196 2291149.223)</td>\n",
       "    </tr>\n",
       "  </tbody>\n",
       "</table>\n",
       "</div>"
      ],
      "text/plain": [
       "               osmid              x             y  \\\n",
       "0  67637870229114485  676378.709485  2.291145e+06   \n",
       "1  67640019229114922  676400.196372  2.291149e+06   \n",
       "\n",
       "                         geometry  \n",
       "0  POINT (676378.709 2291144.858)  \n",
       "1  POINT (676400.196 2291149.223)  "
      ]
     },
     "execution_count": 7,
     "metadata": {},
     "output_type": "execute_result"
    }
   ],
   "source": [
    "# ----- ----- ----- Time start\n",
    "time_1 = time.time()\n",
    "# ----- ----- ----- Process\n",
    "# Load nodes\n",
    "cons_nodes = gpd.read_file(nodes_dir)\n",
    "# Set crs\n",
    "if cons_nodes.crs != projected_crs:\n",
    "    cons_nodes = cons_nodes.to_crs(projected_crs)\n",
    "    print(f\"Changed crs to {projected_crs}.\")\n",
    "# Filter for data of interest\n",
    "cons_nodes = cons_nodes[['osmid','x','y','geometry']]\n",
    "# ----- ----- ----- Time end\n",
    "time_2 = time.time()\n",
    "print(f\"TIME: {time_2-time_1} seconds.\")\n",
    "\n",
    "# Show\n",
    "print(cons_nodes.crs)\n",
    "print(cons_nodes.info())\n",
    "cons_nodes.head(2)"
   ]
  },
  {
   "cell_type": "markdown",
   "id": "c55c3fdb-5bb0-45b1-9beb-6d082e832601",
   "metadata": {},
   "source": [
    "## Create voronoi polygons using nodes"
   ]
  },
  {
   "cell_type": "code",
   "execution_count": 8,
   "id": "55d174cd-cc50-493c-a6d4-9b86509f9f87",
   "metadata": {},
   "outputs": [
    {
     "name": "stdout",
     "output_type": "stream",
     "text": [
      "--- Creating voronois with nodes osmid data.\n",
      "Error = 0.0%. Admissible.\n",
      "TIME: 279.08228039741516 seconds.\n",
      "EPSG:4326\n",
      "<class 'geopandas.geodataframe.GeoDataFrame'>\n",
      "RangeIndex: 116303 entries, 0 to 116302\n",
      "Data columns (total 2 columns):\n",
      " #   Column    Non-Null Count   Dtype   \n",
      "---  ------    --------------   -----   \n",
      " 0   osmid     116303 non-null  object  \n",
      " 1   geometry  116303 non-null  geometry\n",
      "dtypes: geometry(1), object(1)\n",
      "memory usage: 1.8+ MB\n",
      "None\n"
     ]
    },
    {
     "data": {
      "text/html": [
       "<div>\n",
       "<style scoped>\n",
       "    .dataframe tbody tr th:only-of-type {\n",
       "        vertical-align: middle;\n",
       "    }\n",
       "\n",
       "    .dataframe tbody tr th {\n",
       "        vertical-align: top;\n",
       "    }\n",
       "\n",
       "    .dataframe thead th {\n",
       "        text-align: right;\n",
       "    }\n",
       "</style>\n",
       "<table border=\"1\" class=\"dataframe\">\n",
       "  <thead>\n",
       "    <tr style=\"text-align: right;\">\n",
       "      <th></th>\n",
       "      <th>osmid</th>\n",
       "      <th>geometry</th>\n",
       "    </tr>\n",
       "  </thead>\n",
       "  <tbody>\n",
       "    <tr>\n",
       "      <th>0</th>\n",
       "      <td>65394725226151578</td>\n",
       "      <td>POLYGON ((-103.52396 20.44653, -103.52287 20.4...</td>\n",
       "    </tr>\n",
       "    <tr>\n",
       "      <th>1</th>\n",
       "      <td>67016094225777232</td>\n",
       "      <td>POLYGON ((-103.36859 20.4107, -103.36869 20.41...</td>\n",
       "    </tr>\n",
       "  </tbody>\n",
       "</table>\n",
       "</div>"
      ],
      "text/plain": [
       "               osmid                                           geometry\n",
       "0  65394725226151578  POLYGON ((-103.52396 20.44653, -103.52287 20.4...\n",
       "1  67016094225777232  POLYGON ((-103.36859 20.4107, -103.36869 20.41..."
      ]
     },
     "execution_count": 8,
     "metadata": {},
     "output_type": "execute_result"
    }
   ],
   "source": [
    "print(f\"--- Creating voronois with nodes osmid data.\")\n",
    "\n",
    "#Time start\n",
    "time_1 = time.time()\n",
    "#Process\n",
    "voronois_gdf = src.voronoi_points_within_aoi(area_of_interest=blocks_buffer,\n",
    "                                             points=cons_nodes,\n",
    "                                             points_id_col='osmid',\n",
    "                                             projected_crs=projected_crs)\n",
    "#Time end\n",
    "time_2 = time.time()\n",
    "print(f\"TIME: {time_2-time_1} seconds.\")\n",
    "\n",
    "# Show\n",
    "print(voronois_gdf.crs)\n",
    "print(voronois_gdf.info())\n",
    "voronois_gdf.head(2)"
   ]
  },
  {
   "cell_type": "code",
   "execution_count": 9,
   "id": "82625cf2-7947-49d0-bc58-29e0aab4f70a",
   "metadata": {},
   "outputs": [
    {
     "data": {
      "text/plain": [
       "<Geographic 2D CRS: EPSG:4326>\n",
       "Name: WGS 84\n",
       "Axis Info [ellipsoidal]:\n",
       "- Lat[north]: Geodetic latitude (degree)\n",
       "- Lon[east]: Geodetic longitude (degree)\n",
       "Area of Use:\n",
       "- name: World.\n",
       "- bounds: (-180.0, -90.0, 180.0, 90.0)\n",
       "Datum: World Geodetic System 1984 ensemble\n",
       "- Ellipsoid: WGS 84\n",
       "- Prime Meridian: Greenwich"
      ]
     },
     "execution_count": 9,
     "metadata": {},
     "output_type": "execute_result"
    }
   ],
   "source": [
    "voronois_gdf.crs"
   ]
  },
  {
   "cell_type": "markdown",
   "id": "71ed1157-e338-4785-9598-1fcac84c6f4d",
   "metadata": {},
   "source": [
    "## Assign blocks population data to voronois"
   ]
  },
  {
   "cell_type": "code",
   "execution_count": 11,
   "id": "af2adc2d-137e-4d44-b0f1-be20e7c1218a",
   "metadata": {},
   "outputs": [
    {
     "name": "stdout",
     "output_type": "stream",
     "text": [
      "Changed crs to EPSG:32613.\n",
      "Dropped 0 nodes to set osmid as nodes index.\n",
      "(116303, 1)\n"
     ]
    },
    {
     "data": {
      "text/html": [
       "<div>\n",
       "<style scoped>\n",
       "    .dataframe tbody tr th:only-of-type {\n",
       "        vertical-align: middle;\n",
       "    }\n",
       "\n",
       "    .dataframe tbody tr th {\n",
       "        vertical-align: top;\n",
       "    }\n",
       "\n",
       "    .dataframe thead th {\n",
       "        text-align: right;\n",
       "    }\n",
       "</style>\n",
       "<table border=\"1\" class=\"dataframe\">\n",
       "  <thead>\n",
       "    <tr style=\"text-align: right;\">\n",
       "      <th></th>\n",
       "      <th>geometry</th>\n",
       "    </tr>\n",
       "    <tr>\n",
       "      <th>osmid</th>\n",
       "      <th></th>\n",
       "    </tr>\n",
       "  </thead>\n",
       "  <tbody>\n",
       "    <tr>\n",
       "      <th>65394725226151578</th>\n",
       "      <td>POLYGON ((653974.51 2261588.625, 654089.052 22...</td>\n",
       "    </tr>\n",
       "    <tr>\n",
       "      <th>67016094225777232</th>\n",
       "      <td>POLYGON ((670224.748 2257775.742, 670214.613 2...</td>\n",
       "    </tr>\n",
       "  </tbody>\n",
       "</table>\n",
       "</div>"
      ],
      "text/plain": [
       "                                                            geometry\n",
       "osmid                                                               \n",
       "65394725226151578  POLYGON ((653974.51 2261588.625, 654089.052 22...\n",
       "67016094225777232  POLYGON ((670224.748 2257775.742, 670214.613 2..."
      ]
     },
     "execution_count": 11,
     "metadata": {},
     "output_type": "execute_result"
    }
   ],
   "source": [
    "# Prepare voronois_gdf for function src.assing_blocks_attribute_to_voronoi()\n",
    "voronois_gdf_prep = voronois_gdf.copy()\n",
    "\n",
    "# Set crs\n",
    "if voronois_gdf_prep.crs != projected_crs:\n",
    "    voronois_gdf_prep = voronois_gdf_prep.to_crs(projected_crs)\n",
    "    print(f\"Changed crs to {projected_crs}.\")\n",
    "# Set index if necessary\n",
    "if 'osmid' in voronois_gdf_prep.columns:\n",
    "    original_len = len(voronois_gdf_prep)\n",
    "    voronois_gdf_prep = voronois_gdf_prep.drop_duplicates(subset=['osmid'])\n",
    "    new_len = len(voronois_gdf_prep)\n",
    "    voronois_gdf_prep.set_index('osmid',inplace=True)\n",
    "    print(f\"Dropped {new_len-original_len} nodes to set osmid as nodes index.\")\n",
    "\n",
    "# Show\n",
    "print(voronois_gdf_prep.shape)\n",
    "voronois_gdf_prep.head(2)"
   ]
  },
  {
   "cell_type": "code",
   "execution_count": 12,
   "id": "17b3fb16-b2e7-4252-95a7-c6d7416a7dea",
   "metadata": {},
   "outputs": [
    {
     "name": "stdout",
     "output_type": "stream",
     "text": [
      "(54804, 2)\n"
     ]
    },
    {
     "data": {
      "text/html": [
       "<div>\n",
       "<style scoped>\n",
       "    .dataframe tbody tr th:only-of-type {\n",
       "        vertical-align: middle;\n",
       "    }\n",
       "\n",
       "    .dataframe tbody tr th {\n",
       "        vertical-align: top;\n",
       "    }\n",
       "\n",
       "    .dataframe thead th {\n",
       "        text-align: right;\n",
       "    }\n",
       "</style>\n",
       "<table border=\"1\" class=\"dataframe\">\n",
       "  <thead>\n",
       "    <tr style=\"text-align: right;\">\n",
       "      <th></th>\n",
       "      <th>pobtot</th>\n",
       "      <th>geometry</th>\n",
       "    </tr>\n",
       "    <tr>\n",
       "      <th>cvegeo_mza</th>\n",
       "      <th></th>\n",
       "      <th></th>\n",
       "    </tr>\n",
       "  </thead>\n",
       "  <tbody>\n",
       "    <tr>\n",
       "      <th>1412000620299011</th>\n",
       "      <td>16</td>\n",
       "      <td>POLYGON ((659974.886 2297605.164, 659923.165 2...</td>\n",
       "    </tr>\n",
       "    <tr>\n",
       "      <th>1412000620299032</th>\n",
       "      <td>18</td>\n",
       "      <td>POLYGON ((659879.976 2297823.117, 659923.355 2...</td>\n",
       "    </tr>\n",
       "  </tbody>\n",
       "</table>\n",
       "</div>"
      ],
      "text/plain": [
       "                  pobtot                                           geometry\n",
       "cvegeo_mza                                                                 \n",
       "1412000620299011      16  POLYGON ((659974.886 2297605.164, 659923.165 2...\n",
       "1412000620299032      18  POLYGON ((659879.976 2297823.117, 659923.355 2..."
      ]
     },
     "execution_count": 12,
     "metadata": {},
     "output_type": "execute_result"
    }
   ],
   "source": [
    "# Prepare voronois_gdf for function src.assing_blocks_attribute_to_voronoi()\n",
    "\n",
    "# Show\n",
    "print(blocks_gdf.shape)\n",
    "blocks_gdf.head(2)"
   ]
  },
  {
   "cell_type": "code",
   "execution_count": 13,
   "id": "c632b101-04cc-4812-9c79-398dd16bd5ed",
   "metadata": {},
   "outputs": [
    {
     "name": "stdout",
     "output_type": "stream",
     "text": [
      "--- Assigning pop col pobtot from blocks to voronois .\n",
      "TIME: 13.044250249862671 seconds.\n",
      "(116303, 3)\n"
     ]
    },
    {
     "data": {
      "text/html": [
       "<div>\n",
       "<style scoped>\n",
       "    .dataframe tbody tr th:only-of-type {\n",
       "        vertical-align: middle;\n",
       "    }\n",
       "\n",
       "    .dataframe tbody tr th {\n",
       "        vertical-align: top;\n",
       "    }\n",
       "\n",
       "    .dataframe thead th {\n",
       "        text-align: right;\n",
       "    }\n",
       "</style>\n",
       "<table border=\"1\" class=\"dataframe\">\n",
       "  <thead>\n",
       "    <tr style=\"text-align: right;\">\n",
       "      <th></th>\n",
       "      <th>osmid</th>\n",
       "      <th>geometry</th>\n",
       "      <th>pobtot</th>\n",
       "    </tr>\n",
       "  </thead>\n",
       "  <tbody>\n",
       "    <tr>\n",
       "      <th>0</th>\n",
       "      <td>65394725226151578</td>\n",
       "      <td>POLYGON ((653974.51 2261588.625, 654089.052 22...</td>\n",
       "      <td>5</td>\n",
       "    </tr>\n",
       "    <tr>\n",
       "      <th>1</th>\n",
       "      <td>67016094225777232</td>\n",
       "      <td>POLYGON ((670224.748 2257775.742, 670214.613 2...</td>\n",
       "      <td>0</td>\n",
       "    </tr>\n",
       "  </tbody>\n",
       "</table>\n",
       "</div>"
      ],
      "text/plain": [
       "               osmid                                           geometry  \\\n",
       "0  65394725226151578  POLYGON ((653974.51 2261588.625, 654089.052 22...   \n",
       "1  67016094225777232  POLYGON ((670224.748 2257775.742, 670214.613 2...   \n",
       "\n",
       "   pobtot  \n",
       "0       5  \n",
       "1       0  "
      ]
     },
     "execution_count": 13,
     "metadata": {},
     "output_type": "execute_result"
    }
   ],
   "source": [
    "print(f\"--- Assigning pop col {pop_col} from blocks to voronois .\")\n",
    "\n",
    "#Time start\n",
    "time_1 = time.time()\n",
    "#Process\n",
    "voronois_pop_gdf = src.assing_blocks_attribute_to_voronoi(blocks_gdf, voronois_gdf_prep, attribute_column=pop_col)\n",
    "#Time end\n",
    "time_2 = time.time()\n",
    "print(f\"TIME: {time_2-time_1} seconds.\")\n",
    "\n",
    "# Show\n",
    "print(voronois_pop_gdf.shape)\n",
    "voronois_pop_gdf.head(2)"
   ]
  },
  {
   "cell_type": "markdown",
   "id": "e5cb7c9f-d010-4e01-942b-e40c85f1a180",
   "metadata": {},
   "source": [
    "## Calculate pop density in nodes (Using it's voronoi polygon's area)"
   ]
  },
  {
   "cell_type": "code",
   "execution_count": 14,
   "id": "bae1ad7a-080c-4a4e-9b56-18f3dc0da44f",
   "metadata": {},
   "outputs": [
    {
     "name": "stdout",
     "output_type": "stream",
     "text": [
      "--- Adding density using each voronoi polygon's area.\n",
      "(116303, 5)\n"
     ]
    },
    {
     "data": {
      "text/html": [
       "<div>\n",
       "<style scoped>\n",
       "    .dataframe tbody tr th:only-of-type {\n",
       "        vertical-align: middle;\n",
       "    }\n",
       "\n",
       "    .dataframe tbody tr th {\n",
       "        vertical-align: top;\n",
       "    }\n",
       "\n",
       "    .dataframe thead th {\n",
       "        text-align: right;\n",
       "    }\n",
       "</style>\n",
       "<table border=\"1\" class=\"dataframe\">\n",
       "  <thead>\n",
       "    <tr style=\"text-align: right;\">\n",
       "      <th></th>\n",
       "      <th>osmid</th>\n",
       "      <th>geometry</th>\n",
       "      <th>pobtot</th>\n",
       "      <th>area_has</th>\n",
       "      <th>dens_pob_ha</th>\n",
       "    </tr>\n",
       "  </thead>\n",
       "  <tbody>\n",
       "    <tr>\n",
       "      <th>0</th>\n",
       "      <td>65394725226151578</td>\n",
       "      <td>POLYGON ((653974.51 2261588.625, 654089.052 22...</td>\n",
       "      <td>5</td>\n",
       "      <td>2.479128</td>\n",
       "      <td>2.016838</td>\n",
       "    </tr>\n",
       "    <tr>\n",
       "      <th>1</th>\n",
       "      <td>67016094225777232</td>\n",
       "      <td>POLYGON ((670224.748 2257775.742, 670214.613 2...</td>\n",
       "      <td>0</td>\n",
       "      <td>1.627780</td>\n",
       "      <td>0.000000</td>\n",
       "    </tr>\n",
       "  </tbody>\n",
       "</table>\n",
       "</div>"
      ],
      "text/plain": [
       "               osmid                                           geometry  \\\n",
       "0  65394725226151578  POLYGON ((653974.51 2261588.625, 654089.052 22...   \n",
       "1  67016094225777232  POLYGON ((670224.748 2257775.742, 670214.613 2...   \n",
       "\n",
       "   pobtot  area_has  dens_pob_ha  \n",
       "0       5  2.479128     2.016838  \n",
       "1       0  1.627780     0.000000  "
      ]
     },
     "execution_count": 14,
     "metadata": {},
     "output_type": "execute_result"
    }
   ],
   "source": [
    "print(\"--- Adding density using each voronoi polygon's area.\")\n",
    "# Set crs\n",
    "if voronois_pop_gdf.crs != projected_crs:\n",
    "    voronois_pop_gdf = voronois_pop_gdf.to_crs(projected_crs)\n",
    "# Calculate whole voronoi's area\n",
    "voronois_pop_gdf['area_has'] = voronois_pop_gdf.area/10000\n",
    "# Calculate density\n",
    "voronois_pop_gdf['dens_pob_ha'] = voronois_pop_gdf[pop_col] / voronois_pop_gdf['area_has']\n",
    "\n",
    "# Show\n",
    "print(voronois_pop_gdf.shape)\n",
    "voronois_pop_gdf.head(2)"
   ]
  },
  {
   "cell_type": "markdown",
   "id": "80fe806c-28f2-49d8-a2da-428eceb242e0",
   "metadata": {},
   "source": [
    "## Save voronoi polygons with population and density data"
   ]
  },
  {
   "cell_type": "code",
   "execution_count": 15,
   "id": "6d5345f2-1f9b-4369-870a-3387f11227f1",
   "metadata": {},
   "outputs": [
    {
     "name": "stdout",
     "output_type": "stream",
     "text": [
      "5011955\n",
      "5010561\n"
     ]
    }
   ],
   "source": [
    "print(blocks_gdf.pobtot.sum())\n",
    "print(voronois_pop_gdf.pobtot.sum())"
   ]
  },
  {
   "cell_type": "code",
   "execution_count": 16,
   "id": "dbad7642-2431-4e90-9a67-e56ba28d2e37",
   "metadata": {},
   "outputs": [],
   "source": [
    "if local_save:\n",
    "    print(\"--- Saving result locally.\")\n",
    "    voronois_pop_gdf.to_file(output_dir+f\"{city}_voronois_pop_gdf_b.gpkg\")\n",
    "    print(\"--- Result saved.\")"
   ]
  },
  {
   "cell_type": "code",
   "execution_count": null,
   "id": "bc0cdfde-a0a5-4504-b486-68a18e2962a6",
   "metadata": {},
   "outputs": [],
   "source": []
  }
 ],
 "metadata": {
  "kernelspec": {
   "display_name": "GDS-10.0",
   "language": "python",
   "name": "gds"
  },
  "language_info": {
   "codemirror_mode": {
    "name": "ipython",
    "version": 3
   },
   "file_extension": ".py",
   "mimetype": "text/x-python",
   "name": "python",
   "nbconvert_exporter": "python",
   "pygments_lexer": "ipython3",
   "version": "3.9.18"
  }
 },
 "nbformat": 4,
 "nbformat_minor": 5
}
