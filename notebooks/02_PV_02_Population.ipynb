{
 "cells": [
  {
   "cell_type": "code",
   "execution_count": 14,
   "metadata": {},
   "outputs": [],
   "source": [
    "import geopandas as gpd\n",
    "import os\n",
    "import utils.analysis as an"
   ]
  },
  {
   "cell_type": "markdown",
   "metadata": {},
   "source": [
    "# Zonas Medellin"
   ]
  },
  {
   "cell_type": "code",
   "execution_count": 15,
   "metadata": {},
   "outputs": [
    {
     "name": "stdout",
     "output_type": "stream",
     "text": [
      "Procesando zona: moravia_LH\n",
      "Procesando zona: floresta_HH\n",
      "Procesando zona: aguacatala_HL\n"
     ]
    }
   ],
   "source": [
    "zo = ['moravia_LH','floresta_HH','aguacatala_HL']\n",
    "# z = zo[0]\n",
    "for z in zo:\n",
    "    print(f\"Procesando zona: {z}\")\n",
    "    nodes = gpd.read_file(f'../data/output/shape/project_network_initial/{z}/{z}_nodes_proj_net_initial.shp')\n",
    "    edges = gpd.read_file(f'../data/output/shape/project_network_initial/{z}/{z}_edges_proj_net_initial.shp')\n",
    "    blocks = gpd.read_file(f'../data/output/shape/blocks/medellin_blocks.shp')\n",
    "\n",
    "    blocks = blocks[['MANZ_CCNCT','pop','geometry']]\n",
    "    nodes = nodes.to_crs('epsg:32618')\n",
    "    blocks = blocks.to_crs('epsg:32618')\n",
    "\n",
    "    # Create the voronoi polygons\n",
    "    nodes = nodes.set_index('osmid')\n",
    "    voronoi = an.voronoi_polygons(nodes)\n",
    "    voronoi.to_crs('epsg:4326').to_file(f'../data/output/shape/physical_variables/population/voronoi/{z}/{z}_voronoi.shp')\n",
    "\n",
    "    # Assing the population to each voronoi polygon\n",
    "    blocks = blocks.set_index('MANZ_CCNCT')\n",
    "    voronoi = an.assing_blocks_attribute_to_voronoi(blocks, voronoi, 'pop')\n",
    "\n",
    "\n",
    "    # Calculate the population density\n",
    "    voronoi['den_pop'] = voronoi['pop']/(voronoi.area/10000)\n",
    "\n",
    "\n",
    "    # Merge the population with the nodes\n",
    "    nodes = nodes.merge(voronoi[['osmid','den_pop']].set_index('osmid'), left_index=True, right_index=True, how='left')\n",
    "\n",
    "    # Assing the population to the edges with an average\n",
    "    for i in edges.index:\n",
    "        u = edges.loc[i,'u']\n",
    "        v = edges.loc[i,'v']\n",
    "        edges.loc[i,'den_pop'] = (nodes.loc[u,'den_pop']+ nodes.loc[v,'den_pop'])/2\n",
    "        \n",
    "    # Export results\n",
    "    nodes = nodes.reset_index()\n",
    "    nodes = nodes.to_crs('epsg:4326')\n",
    "    nodes.to_file(f'../data/output/shape/physical_variables/population/{z}/{z}_population_nodes.shp')\n",
    "    edges.to_file(f'../data/output/shape/physical_variables/population/{z}/{z}_population_edges.shp')"
   ]
  }
 ],
 "metadata": {
  "kernelspec": {
   "display_name": "ox_eafit",
   "language": "python",
   "name": "python3"
  },
  "language_info": {
   "codemirror_mode": {
    "name": "ipython",
    "version": 3
   },
   "file_extension": ".py",
   "mimetype": "text/x-python",
   "name": "python",
   "nbconvert_exporter": "python",
   "pygments_lexer": "ipython3",
   "version": "3.11.4"
  }
 },
 "nbformat": 4,
 "nbformat_minor": 4
}
