{
 "cells": [
  {
   "cell_type": "code",
   "execution_count": 1,
   "metadata": {},
   "outputs": [
    {
     "name": "stderr",
     "output_type": "stream",
     "text": [
      "/Users/lcuartase/.conda/envs/ox_eafit/lib/python3.11/site-packages/tqdm/auto.py:21: TqdmWarning: IProgress not found. Please update jupyter and ipywidgets. See https://ipywidgets.readthedocs.io/en/stable/user_install.html\n",
      "  from .autonotebook import tqdm as notebook_tqdm\n"
     ]
    }
   ],
   "source": [
    "import geopandas as gpd\n",
    "import utils.analysis as an"
   ]
  },
  {
   "cell_type": "markdown",
   "metadata": {},
   "source": [
    "# Zonas Medellin"
   ]
  },
  {
   "cell_type": "code",
   "execution_count": 2,
   "metadata": {},
   "outputs": [
    {
     "name": "stdout",
     "output_type": "stream",
     "text": [
      "Procesando zona: moravia_LH\n",
      "Procesando zona: floresta_HH\n",
      "Procesando zona: aguacatala_HL\n"
     ]
    }
   ],
   "source": [
    "zo = ['moravia_LH','floresta_HH','aguacatala_HL']\n",
    "# z = zo[0]\n",
    "for z in zo:\n",
    "    print(f\"Procesando zona: {z}\")\n",
    "    nodes = gpd.read_file(f'../data/output/shape/project_network_initial/{z}/{z}_nodes_proj_net_initial.shp')\n",
    "    edges = gpd.read_file(f'../data/output/shape/project_network_initial/{z}/{z}_edges_proj_net_initial.shp')\n",
    "    blocks = gpd.read_file(f'../data/output/shape/blocks/medellin_blocks.shp')\n",
    "\n",
    "    blocks = blocks[['MANZ_CCNCT','pop','geometry']]\n",
    "    nodes = nodes.to_crs('epsg:32618')\n",
    "    blocks = blocks.to_crs('epsg:32618')\n",
    "\n",
    "    # Create the voronoi polygons\n",
    "    nodes = nodes.set_index('osmid')\n",
    "    voronoi = an.voronoi_polygons(nodes)\n",
    "    voronoi.to_crs('epsg:4326').to_file(f'../data/output/shape/physical_variables/population/voronoi/{z}/{z}_voronoi.shp')\n",
    "\n",
    "    # Assing the population to each voronoi polygon\n",
    "    blocks = blocks.set_index('MANZ_CCNCT')\n",
    "    voronoi = an.assing_blocks_attribute_to_voronoi(blocks, voronoi, 'pop')\n",
    "\n",
    "    # Calculate the population density in hab/hec\n",
    "    voronoi['den_pop'] = voronoi['pop']/(voronoi.area/10000)\n",
    "\n",
    "    # Merge the population with the nodes\n",
    "    nodes = nodes.merge(voronoi[['osmid','den_pop']].set_index('osmid'), left_index=True, right_index=True, how='left')\n",
    "\n",
    "    # Assing the population to the edges with an average\n",
    "    for i in edges.index:\n",
    "        u = edges.loc[i,'u']\n",
    "        v = edges.loc[i,'v']\n",
    "        edges.loc[i,'den_pop'] = (nodes.loc[u,'den_pop']+ nodes.loc[v,'den_pop'])/2\n",
    "        \n",
    "    # Export results\n",
    "    nodes = nodes.reset_index()\n",
    "    nodes = nodes.to_crs('epsg:4326')\n",
    "    nodes.to_file(f'../data/output/shape/physical_variables/population/{z}/{z}_population_nodes.shp')\n",
    "    edges.to_file(f'../data/output/shape/physical_variables/population/{z}/{z}_population_edges.shp')\n",
    "    \n",
    "    # Limit the study area to the neighborhood polygon\n",
    "    edges = edges.reset_index()\n",
    "    edges = edges.to_crs('epsg:32618')\n",
    "    nodes = nodes.reset_index()\n",
    "    nodes = nodes.to_crs('epsg:32618')\n",
    "\n",
    "    if z == 'floresta_HH':\n",
    "        w = 'Alto_Alta'\n",
    "    elif z == 'moravia_LH':\n",
    "        w = 'Bajo_Alta'\n",
    "    elif z == 'aguacatala_HL':\n",
    "        w = 'Alto_Baja'\n",
    "\n",
    "    # Load polygon files\n",
    "    polygon = gpd.read_file(f'../data/input/shape/Poligonos/{w}.shp')\n",
    "    polygon = polygon.to_crs('epsg:32618')\n",
    "    polygon = polygon['geometry'].union_all()\n",
    "    polygon = gpd.GeoDataFrame(geometry = [polygon], crs = 'epsg:32618')\n",
    "\n",
    "    # Select the segments that are inside the polygon\n",
    "    for idx, row in polygon.iterrows():\n",
    "        # Filter the edges contained in the polygon\n",
    "        edges_in_polygon = edges[edges['geometry'].intersects(row['geometry'])]\n",
    "\n",
    "    # List of the nodes inside the polygon based on the 'u' and 'v' columns of the edges inside the polygon\n",
    "    nodes_in_polygon = edges_in_polygon['u'].to_list() + edges_in_polygon['v'].to_list()\n",
    "    # Make the nodes unique and sort it\n",
    "    nodes_in_polygon = list(set(nodes_in_polygon))\n",
    "    nodes_in_polygon.sort()\n",
    "    # Select the nodes inside the buffer\n",
    "    nodes_in_polygon = nodes.set_index('osmid').loc[nodes_in_polygon].reset_index()\n",
    "\n",
    "    # Export\n",
    "    nodes_in_polygon = nodes_in_polygon.to_crs('epsg:4326')\n",
    "    edges_in_polygon = edges_in_polygon.to_crs('epsg:4326')\n",
    "    nodes_in_polygon.to_file(f'../data/output/shape/project_network_filter/{z}/{z}_population_nodes.shp')\n",
    "    edges_in_polygon.to_file(f'../data/output/shape/project_network_filter/{z}/{z}_population_edges.shp')"
   ]
  },
  {
   "cell_type": "markdown",
   "metadata": {},
   "source": [
    "# Medellin"
   ]
  },
  {
   "cell_type": "code",
   "execution_count": 3,
   "metadata": {},
   "outputs": [],
   "source": [
    "z = 'medellin'\n",
    "\n",
    "nodes = gpd.read_file(f'../data/output/shape/project_network_initial/{z}/{z}_nodes_proj_net_initial.shp')\n",
    "edges = gpd.read_file(f'../data/output/shape/project_network_initial/{z}/{z}_edges_proj_net_initial.shp')\n",
    "blocks = gpd.read_file(f'../data/output/shape/blocks/medellin_blocks.shp')\n",
    "\n",
    "blocks = blocks[['MANZ_CCNCT','pop','geometry']]\n",
    "nodes = nodes.to_crs('epsg:32618')\n",
    "blocks = blocks.to_crs('epsg:32618')\n",
    "\n",
    "\n",
    "nodes['osmid'] = nodes['osmid'].astype(str)\n",
    "edges['u'] = edges['u'].astype(str)\n",
    "edges['v'] = edges['v'].astype(str)\n",
    "\n",
    "\n",
    "# Create the voronoi polygons\n",
    "nodes = nodes.set_index('osmid')\n",
    "voronoi = an.voronoi_polygons(nodes)\n",
    "voronoi.to_crs('epsg:4326').to_file(f'../data/output/shape/physical_variables/population/voronoi/{z}/{z}_voronoi.shp')\n",
    "\n",
    "# Assing the population to each voronoi polygon\n",
    "blocks = blocks.set_index('MANZ_CCNCT')\n",
    "voronoi = an.assing_blocks_attribute_to_voronoi(blocks, voronoi, 'pop')\n",
    "\n",
    "# Calculate the population density in hab/hec\n",
    "voronoi['den_pop'] = voronoi['pop']/(voronoi.area/10000)\n",
    "\n",
    "# Merge the population with the nodes\n",
    "nodes = nodes.merge(voronoi[['osmid','den_pop']].set_index('osmid'), left_index=True, right_index=True, how='left')\n",
    "\n",
    "# Assing the population to the edges with an average\n",
    "for i in edges.index:\n",
    "    u = edges.loc[i,'u']\n",
    "    v = edges.loc[i,'v']\n",
    "    edges.loc[i,'den_pop'] = (nodes.loc[u,'den_pop']+ nodes.loc[v,'den_pop'])/2\n",
    "    \n",
    "# Export results\n",
    "nodes = nodes.reset_index()\n",
    "nodes = nodes.to_crs('epsg:4326')\n",
    "\n",
    "\n",
    "nodes['osmid'] = nodes['osmid'].astype(int)\n",
    "edges['u'] = edges['u'].astype(int)\n",
    "edges['v'] = edges['v'].astype(int)\n",
    "\n",
    "\n",
    "nodes.to_file(f'../data/output/shape/physical_variables/population/{z}/{z}_population_nodes.shp')\n",
    "edges.to_file(f'../data/output/shape/physical_variables/population/{z}/{z}_population_edges.shp')\n"
   ]
  }
 ],
 "metadata": {
  "kernelspec": {
   "display_name": "ox_eafit",
   "language": "python",
   "name": "python3"
  },
  "language_info": {
   "codemirror_mode": {
    "name": "ipython",
    "version": 3
   },
   "file_extension": ".py",
   "mimetype": "text/x-python",
   "name": "python",
   "nbconvert_exporter": "python",
   "pygments_lexer": "ipython3",
   "version": "3.11.4"
  }
 },
 "nbformat": 4,
 "nbformat_minor": 4
}
