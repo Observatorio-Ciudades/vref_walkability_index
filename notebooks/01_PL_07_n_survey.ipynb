{
 "cells": [
  {
   "cell_type": "code",
   "execution_count": 1,
   "metadata": {},
   "outputs": [],
   "source": [
    "from scipy.stats import norm\n",
    "import pandas as pd\n",
    "import numpy as np"
   ]
  },
  {
   "cell_type": "markdown",
   "metadata": {},
   "source": [
    "# Análisis encuesta OD"
   ]
  },
  {
   "cell_type": "code",
   "execution_count": 2,
   "metadata": {},
   "outputs": [
    {
     "data": {
      "text/html": [
       "<div>\n",
       "<style scoped>\n",
       "    .dataframe tbody tr th:only-of-type {\n",
       "        vertical-align: middle;\n",
       "    }\n",
       "\n",
       "    .dataframe tbody tr th {\n",
       "        vertical-align: top;\n",
       "    }\n",
       "\n",
       "    .dataframe thead th {\n",
       "        text-align: right;\n",
       "    }\n",
       "</style>\n",
       "<table border=\"1\" class=\"dataframe\">\n",
       "  <thead>\n",
       "    <tr style=\"text-align: right;\">\n",
       "      <th></th>\n",
       "      <th>ID_HOGAR</th>\n",
       "      <th>ID_MORADOR</th>\n",
       "      <th>ID_CONCAT</th>\n",
       "      <th>EDAD</th>\n",
       "      <th>ID_GENERO</th>\n",
       "      <th>DESC_GENERO</th>\n",
       "      <th>DESC_ESCOLARIDAD_MAX</th>\n",
       "      <th>DESC_OCUPACION</th>\n",
       "      <th>ESTRATO</th>\n",
       "      <th>SEC_VIAJE</th>\n",
       "      <th>...</th>\n",
       "      <th>M_Principal</th>\n",
       "      <th>DESC_M_Principal</th>\n",
       "      <th>FREC_CANTIDAD</th>\n",
       "      <th>ID_FREC_VIAJE</th>\n",
       "      <th>DESC_ID_FREC_VIAJE</th>\n",
       "      <th>COSTO_TTE_PARQ</th>\n",
       "      <th>FORMA_PAGO_PARQUEADERO</th>\n",
       "      <th>DESC_FORMA_PAGO_PARQUEADERO</th>\n",
       "      <th>TIPO_PARQUEO</th>\n",
       "      <th>DESC_TIPO_PARQUEO</th>\n",
       "    </tr>\n",
       "  </thead>\n",
       "  <tbody>\n",
       "    <tr>\n",
       "      <th>0</th>\n",
       "      <td>1000067</td>\n",
       "      <td>396</td>\n",
       "      <td>1000067396</td>\n",
       "      <td>48</td>\n",
       "      <td>1</td>\n",
       "      <td>Masculino</td>\n",
       "      <td>Educación No formal</td>\n",
       "      <td>Trabajador Independiente</td>\n",
       "      <td>ESTRATO 3</td>\n",
       "      <td>624</td>\n",
       "      <td>...</td>\n",
       "      <td>1</td>\n",
       "      <td>Auto</td>\n",
       "      <td>1.0</td>\n",
       "      <td>4</td>\n",
       "      <td>Anual</td>\n",
       "      <td>2500.0</td>\n",
       "      <td>NaN</td>\n",
       "      <td>NaN</td>\n",
       "      <td>3</td>\n",
       "      <td>Lote o edificio pagado</td>\n",
       "    </tr>\n",
       "    <tr>\n",
       "      <th>1</th>\n",
       "      <td>1000067</td>\n",
       "      <td>396</td>\n",
       "      <td>1000067396</td>\n",
       "      <td>48</td>\n",
       "      <td>1</td>\n",
       "      <td>Masculino</td>\n",
       "      <td>Educación No formal</td>\n",
       "      <td>Trabajador Independiente</td>\n",
       "      <td>ESTRATO 3</td>\n",
       "      <td>625</td>\n",
       "      <td>...</td>\n",
       "      <td>1</td>\n",
       "      <td>Auto</td>\n",
       "      <td>1.0</td>\n",
       "      <td>4</td>\n",
       "      <td>Anual</td>\n",
       "      <td>NaN</td>\n",
       "      <td>NaN</td>\n",
       "      <td>NaN</td>\n",
       "      <td>5</td>\n",
       "      <td>Propio(7)</td>\n",
       "    </tr>\n",
       "    <tr>\n",
       "      <th>2</th>\n",
       "      <td>1000067</td>\n",
       "      <td>396</td>\n",
       "      <td>1000067396</td>\n",
       "      <td>48</td>\n",
       "      <td>1</td>\n",
       "      <td>Masculino</td>\n",
       "      <td>Educación No formal</td>\n",
       "      <td>Trabajador Independiente</td>\n",
       "      <td>ESTRATO 3</td>\n",
       "      <td>626</td>\n",
       "      <td>...</td>\n",
       "      <td>1</td>\n",
       "      <td>Auto</td>\n",
       "      <td>1.0</td>\n",
       "      <td>1</td>\n",
       "      <td>Diario</td>\n",
       "      <td>30000.0</td>\n",
       "      <td>NaN</td>\n",
       "      <td>NaN</td>\n",
       "      <td>3</td>\n",
       "      <td>Lote o edificio pagado</td>\n",
       "    </tr>\n",
       "    <tr>\n",
       "      <th>3</th>\n",
       "      <td>1000067</td>\n",
       "      <td>397</td>\n",
       "      <td>1000067397</td>\n",
       "      <td>32</td>\n",
       "      <td>2</td>\n",
       "      <td>Femenino</td>\n",
       "      <td>Técnico</td>\n",
       "      <td>Ama de casa</td>\n",
       "      <td>ESTRATO 3</td>\n",
       "      <td>627</td>\n",
       "      <td>...</td>\n",
       "      <td>10</td>\n",
       "      <td>Caminata</td>\n",
       "      <td>1.0</td>\n",
       "      <td>1</td>\n",
       "      <td>Diario</td>\n",
       "      <td>NaN</td>\n",
       "      <td>NaN</td>\n",
       "      <td>NaN</td>\n",
       "      <td>NaN</td>\n",
       "      <td>NaN</td>\n",
       "    </tr>\n",
       "    <tr>\n",
       "      <th>4</th>\n",
       "      <td>1000067</td>\n",
       "      <td>397</td>\n",
       "      <td>1000067397</td>\n",
       "      <td>32</td>\n",
       "      <td>2</td>\n",
       "      <td>Femenino</td>\n",
       "      <td>Técnico</td>\n",
       "      <td>Ama de casa</td>\n",
       "      <td>ESTRATO 3</td>\n",
       "      <td>628</td>\n",
       "      <td>...</td>\n",
       "      <td>10</td>\n",
       "      <td>Caminata</td>\n",
       "      <td>1.0</td>\n",
       "      <td>1</td>\n",
       "      <td>Diario</td>\n",
       "      <td>NaN</td>\n",
       "      <td>NaN</td>\n",
       "      <td>NaN</td>\n",
       "      <td>NaN</td>\n",
       "      <td>NaN</td>\n",
       "    </tr>\n",
       "  </tbody>\n",
       "</table>\n",
       "<p>5 rows × 54 columns</p>\n",
       "</div>"
      ],
      "text/plain": [
       "   ID_HOGAR  ID_MORADOR   ID_CONCAT EDAD  ID_GENERO DESC_GENERO  \\\n",
       "0   1000067         396  1000067396   48          1   Masculino   \n",
       "1   1000067         396  1000067396   48          1   Masculino   \n",
       "2   1000067         396  1000067396   48          1   Masculino   \n",
       "3   1000067         397  1000067397   32          2    Femenino   \n",
       "4   1000067         397  1000067397   32          2    Femenino   \n",
       "\n",
       "  DESC_ESCOLARIDAD_MAX            DESC_OCUPACION    ESTRATO  SEC_VIAJE  ...  \\\n",
       "0  Educación No formal  Trabajador Independiente  ESTRATO 3        624  ...   \n",
       "1  Educación No formal  Trabajador Independiente  ESTRATO 3        625  ...   \n",
       "2  Educación No formal  Trabajador Independiente  ESTRATO 3        626  ...   \n",
       "3              Técnico               Ama de casa  ESTRATO 3        627  ...   \n",
       "4              Técnico               Ama de casa  ESTRATO 3        628  ...   \n",
       "\n",
       "  M_Principal DESC_M_Principal FREC_CANTIDAD ID_FREC_VIAJE  \\\n",
       "0           1            Auto            1.0             4   \n",
       "1           1            Auto            1.0             4   \n",
       "2           1            Auto            1.0             1   \n",
       "3          10        Caminata            1.0             1   \n",
       "4          10        Caminata            1.0             1   \n",
       "\n",
       "   DESC_ID_FREC_VIAJE  COSTO_TTE_PARQ  FORMA_PAGO_PARQUEADERO  \\\n",
       "0               Anual          2500.0                     NaN   \n",
       "1               Anual             NaN                     NaN   \n",
       "2              Diario         30000.0                     NaN   \n",
       "3              Diario             NaN                     NaN   \n",
       "4              Diario             NaN                     NaN   \n",
       "\n",
       "   DESC_FORMA_PAGO_PARQUEADERO  TIPO_PARQUEO       DESC_TIPO_PARQUEO  \n",
       "0                          NaN             3  Lote o edificio pagado  \n",
       "1                          NaN             5               Propio(7)  \n",
       "2                          NaN             3  Lote o edificio pagado  \n",
       "3                          NaN           NaN                     NaN  \n",
       "4                          NaN           NaN                     NaN  \n",
       "\n",
       "[5 rows x 54 columns]"
      ]
     },
     "execution_count": 2,
     "metadata": {},
     "output_type": "execute_result"
    }
   ],
   "source": [
    "# Importar la encuesta Origen-Destino del ANVA de 2017\n",
    "OD = pd.read_csv('C:/Users/Laura/OneDrive - Universidad EAFIT/General - VREF_EAFIT-TEC/data/input/table/EOD_2017.csv',sep=';',low_memory=False)\n",
    "OD.head()"
   ]
  },
  {
   "cell_type": "code",
   "execution_count": 3,
   "metadata": {},
   "outputs": [
    {
     "name": "stdout",
     "output_type": "stream",
     "text": [
      "Porcentaje de personas caminando en todo Medellín: 0.367\n"
     ]
    }
   ],
   "source": [
    "# Numero total de registros\n",
    "n_viajes = len(OD)\n",
    "# Numero total de personas en base al ID\n",
    "n_personas = len(OD['ID_CONCAT'].unique())\n",
    "# Filtrar las personas que caminana\n",
    "n_personas_caminando = len(OD[OD['DESC_M_Principal'] == 'Caminata ']['ID_CONCAT'].unique())\n",
    "# Porcentaje de personas que caminan\n",
    "p_personas_caminando = n_personas_caminando/n_personas\n",
    "print(f'Porcentaje de personas caminando en todo Medellín: {np.round(p_personas_caminando,4)}')"
   ]
  },
  {
   "cell_type": "code",
   "execution_count": 4,
   "metadata": {},
   "outputs": [],
   "source": [
    "# Seleccion manual de las zonas SIT de cada territorio de analisis\n",
    "SIT_O_options_floresta = [195, 193, 200, 194, 201]\n",
    "SIT_O_options_moravia = [68, 69, 70, 64, 63]\n",
    "SIT_O_options_aguacatala = [256, 260, 257, 258, 261]\n",
    "SIT_O_options = SIT_O_options_floresta + SIT_O_options_moravia + SIT_O_options_aguacatala\n",
    "\n",
    "# Extraer la información de la encuesta OD solamente para las zonas SIT de cada territorio\n",
    "OD_floresta = OD[OD['SIT_O'].isin(SIT_O_options_floresta)]\n",
    "OD_moravia = OD[OD['SIT_O'].isin(SIT_O_options_moravia)]\n",
    "OD_aguacatala = OD[OD['SIT_O'].isin(SIT_O_options_aguacatala)]\n",
    "OD_TAs = OD[OD['SIT_O'].isin(SIT_O_options)]"
   ]
  },
  {
   "cell_type": "code",
   "execution_count": 5,
   "metadata": {},
   "outputs": [],
   "source": [
    "# Floresta\n",
    "n_viajes_floresta = len(OD_floresta)\n",
    "n_personas_floresta = len(OD_floresta['ID_CONCAT'].unique())\n",
    "n_personas_caminando_floresta = len(OD_floresta[OD_floresta['DESC_M_Principal'] == 'Caminata ']['ID_CONCAT'].unique())\n",
    "p_personas_caminando_floresta = n_personas_caminando_floresta/n_personas_floresta"
   ]
  },
  {
   "cell_type": "code",
   "execution_count": 6,
   "metadata": {},
   "outputs": [],
   "source": [
    "# Moravia\n",
    "n_viajes_moravia = len(OD_moravia)\n",
    "n_personas_moravia = len(OD_moravia['ID_CONCAT'].unique())\n",
    "n_personas_caminando_moravia = len(OD_moravia[OD_moravia['DESC_M_Principal'] == 'Caminata ']['ID_CONCAT'].unique())\n",
    "p_personas_caminando_moravia = n_personas_caminando_moravia/n_personas_moravia"
   ]
  },
  {
   "cell_type": "code",
   "execution_count": 7,
   "metadata": {},
   "outputs": [],
   "source": [
    "# Aguacatala\n",
    "n_viajes_aguacatala = len(OD_aguacatala)\n",
    "n_personas_aguacatala = len(OD_aguacatala['ID_CONCAT'].unique())\n",
    "n_personas_caminando_aguacatala = len(OD_aguacatala[OD_aguacatala['DESC_M_Principal'] == 'Caminata ']['ID_CONCAT'].unique())\n",
    "p_personas_caminando_aguacatala = n_personas_caminando_aguacatala/n_personas_aguacatala"
   ]
  },
  {
   "cell_type": "code",
   "execution_count": 8,
   "metadata": {},
   "outputs": [],
   "source": [
    "# Medellin\n",
    "n_viajes_TAs = len(OD_TAs)\n",
    "n_personas_TAs = len(OD_TAs['ID_CONCAT'].unique())\n",
    "n_personas_caminando_TAs = len(OD_TAs[OD_TAs['DESC_M_Principal'] == 'Caminata ']['ID_CONCAT'].unique())\n",
    "p_personas_caminando_TAs = n_personas_caminando_TAs/n_personas_TAs"
   ]
  },
  {
   "cell_type": "code",
   "execution_count": 9,
   "metadata": {},
   "outputs": [
    {
     "name": "stdout",
     "output_type": "stream",
     "text": [
      "Porcentaje de personas caminando en todo Medellín\t 0.367\n",
      "Porcentaje de personas caminando en todo Floresta\t 0.2262\n",
      "Porcentaje de personas caminando en todo Moravia\t 0.3009\n",
      "Porcentaje de personas caminando en todo Aguacatala\t 0.0656\n",
      "Porcentaje de personas caminando en los 3 TA\t\t 0.1746\n"
     ]
    }
   ],
   "source": [
    "print('Porcentaje de personas caminando en todo Medellín\\t',np.round(p_personas_caminando,4))\n",
    "print('Porcentaje de personas caminando en todo Floresta\\t',np.round(p_personas_caminando_floresta,4))\n",
    "print('Porcentaje de personas caminando en todo Moravia\\t',np.round(p_personas_caminando_moravia,4))\n",
    "print('Porcentaje de personas caminando en todo Aguacatala\\t',np.round(p_personas_caminando_aguacatala,4))\n",
    "print('Porcentaje de personas caminando en los 3 TA\\t\\t',np.round(p_personas_caminando_TAs,4))"
   ]
  },
  {
   "cell_type": "markdown",
   "metadata": {},
   "source": [
    "# n encuestas"
   ]
  },
  {
   "cell_type": "code",
   "execution_count": 10,
   "metadata": {},
   "outputs": [
    {
     "data": {
      "text/plain": [
       "np.float64(-1.6448536269514729)"
      ]
     },
     "execution_count": 10,
     "metadata": {},
     "output_type": "execute_result"
    }
   ],
   "source": [
    "# https://online.stat.psu.edu/stat506/lesson/2/2.3\n",
    "\n",
    "error = 0.05\n",
    "confidence = 90\n",
    "alpha = (100-confidence)/100\n",
    "# p = p_personas_caminando_TAs\n",
    "p = 0.5\n",
    "z = norm.ppf(alpha/2)\n",
    "z"
   ]
  },
  {
   "cell_type": "code",
   "execution_count": 11,
   "metadata": {},
   "outputs": [],
   "source": [
    "# Formula general\n",
    "# (N*p*(1-p))/((N-1)*error**2/z**2 + p*(1-p))"
   ]
  },
  {
   "cell_type": "code",
   "execution_count": 12,
   "metadata": {},
   "outputs": [],
   "source": [
    "# Floresta\n",
    "N = 21847\n",
    "n_floresta = (N*p*(1-p))/((N-1)*error**2/z**2 + p*(1-p))"
   ]
  },
  {
   "cell_type": "code",
   "execution_count": 13,
   "metadata": {},
   "outputs": [],
   "source": [
    "# Moravia\n",
    "N = 28390\n",
    "n_moravia = (N*p*(1-p))/((N-1)*error**2/z**2 + p*(1-p))"
   ]
  },
  {
   "cell_type": "code",
   "execution_count": 14,
   "metadata": {},
   "outputs": [],
   "source": [
    "# Aguacatala\n",
    "N = 14710\n",
    "n_aguacatala = (N*p*(1-p))/((N-1)*error**2/z**2 + p*(1-p))"
   ]
  },
  {
   "cell_type": "code",
   "execution_count": 15,
   "metadata": {},
   "outputs": [
    {
     "name": "stdout",
     "output_type": "stream",
     "text": [
      "Considerando p = 0.5\n",
      "Encuestas necesarias en Floresta\t 267\n",
      "Encuestas necesarias en Moravia\t\t 268\n",
      "Encuestas necesarias en Aguacatala\t 266\n",
      "Total 801\n"
     ]
    }
   ],
   "source": [
    "print(f'Considerando p = {np.round(p,4)}')\n",
    "print('Encuestas necesarias en Floresta\\t',int(np.round(n_floresta,0)))\n",
    "print('Encuestas necesarias en Moravia\\t\\t',int(np.round(n_moravia,0)))\n",
    "print('Encuestas necesarias en Aguacatala\\t',int(np.round(n_aguacatala,0)))\n",
    "print('Total',int(np.round(n_floresta,0))+int(np.round(n_moravia,0))+int(np.round(n_aguacatala,0)))"
   ]
  },
  {
   "cell_type": "code",
   "execution_count": 16,
   "metadata": {},
   "outputs": [
    {
     "name": "stdout",
     "output_type": "stream",
     "text": [
      "Considerando el porcentaje de personas que caminan en cada TA\n",
      "Encuestas necesarias en Floresta\t 188\n",
      "Encuestas necesarias en Moravia\t\t 226\n",
      "Encuestas necesarias en Aguacatala\t 66\n",
      "Total 477\n"
     ]
    }
   ],
   "source": [
    "print('Considerando el porcentaje de personas que caminan en cada TA')\n",
    "p = p_personas_caminando_floresta\n",
    "N = 21847\n",
    "print('Encuestas necesarias en Floresta\\t',int(np.round((N*p*(1-p))/((N-1)*error**2/z**2 + p*(1-p)),0)))\n",
    "p = p_personas_caminando_moravia\n",
    "N = 28390\n",
    "print('Encuestas necesarias en Moravia\\t\\t',int(np.round((N*p*(1-p))/((N-1)*error**2/z**2 + p*(1-p)),0)))\n",
    "p = p_personas_caminando_aguacatala\n",
    "N = 14710\n",
    "print('Encuestas necesarias en Aguacatala\\t',int(np.round((N*p*(1-p))/((N-1)*error**2/z**2 + p*(1-p)),0)))\n",
    "print('Total',187+224+66)"
   ]
  },
  {
   "cell_type": "markdown",
   "metadata": {},
   "source": [
    "# Metodología\n",
    "\n",
    "Para conseguir el número de encuestas se utilizó la fórmula de este [enlace](https://online.stat.psu.edu/stat506/lesson/2/2.3) donde se nos dice que el tamaño de muestra será:\n",
    "$$\n",
    "n = \\dfrac{N\\cdot p\\cdot (1-p)}{(N-1)\\dfrac{d^2}{z^2_{\\alpha/2}} + p\\cdot (1-p)}\n",
    "$$\n",
    "Donde:\n",
    "- $N$ es el tamaño poblacional.\n",
    "- $d$ es el error esperado en las encuestas.\n",
    "- $z$ es la significancia, hallada como 1 menos el nivel de confianza que se tenga.\n",
    "- $p$ es la proporción que se quiere estimar.\n",
    "\n",
    "Nuestra información será la siguiente: Conocemos el tamaño poblacional de cada uno de nuestros Territorios de Análisis (TA) al saber las personas que viven en las manzanas que pertenecen a cada TA con la información del censo del DANE, consideraremos un error esperado del 5% y trabajremos con un nivel de confianza del 90%. \n",
    "\n",
    "Para el parámetro $p$ se suele utilizar un valor de 0.5, el cuál representa el caso más desfavorable en donde no se tiene información detallado de lo que se está estimando. Para nuestro caso de estudio, nosotros estamos interesados en conocer como son las condiciones de caminabilidad de los TAs. Por lo tanto, nos interesará saber la opinión de las personas residentes en nuestros TA que se desplazan caminando. Para esto utilizaremos la información de la encuesta Origen-Destino del Área Metropolitana del Valle de Aburrá (AMVA) del 2017, en donde se registran viajes representativos que realizan las personas en todo le territorio.\n",
    "\n",
    "**Opción 1:** De la encuesta podemos saber la cantidad de personas que realizan viajes caminando en cada uno de nuestros TA, y por consiguiente podemos saber el porcentaje de la población que realiza sus viajes caminando en cada uno de nuestros TAs. Este porcentaje de personas caminando será el valor que utilizaremos como parámetro $p$."
   ]
  },
  {
   "cell_type": "markdown",
   "metadata": {},
   "source": [
    "# Guadalajara"
   ]
  },
  {
   "cell_type": "code",
   "execution_count": 17,
   "metadata": {},
   "outputs": [
    {
     "data": {
      "text/plain": [
       "np.float64(-1.6448536269514729)"
      ]
     },
     "execution_count": 17,
     "metadata": {},
     "output_type": "execute_result"
    }
   ],
   "source": [
    "# https://online.stat.psu.edu/stat506/lesson/2/2.3\n",
    "\n",
    "error = 0.05\n",
    "confidence = 90\n",
    "alpha = (100-confidence)/100\n",
    "p = 0.269\n",
    "z = norm.ppf(alpha/2)\n",
    "z"
   ]
  },
  {
   "cell_type": "code",
   "execution_count": 18,
   "metadata": {},
   "outputs": [
    {
     "data": {
      "text/plain": [
       "209"
      ]
     },
     "execution_count": 18,
     "metadata": {},
     "output_type": "execute_result"
    }
   ],
   "source": [
    "# Miramar\n",
    "N = 11395\n",
    "n = (N*p*(1-p))/((N-1)*error**2/z**2 + p*(1-p))\n",
    "int(np.round(n,0))"
   ]
  },
  {
   "cell_type": "code",
   "execution_count": 19,
   "metadata": {},
   "outputs": [
    {
     "data": {
      "text/plain": [
       "200"
      ]
     },
     "execution_count": 19,
     "metadata": {},
     "output_type": "execute_result"
    }
   ],
   "source": [
    "# Colinas de San Javier\n",
    "N = 3401\n",
    "n = (N*p*(1-p))/((N-1)*error**2/z**2 + p*(1-p))\n",
    "int(np.round(n,0))"
   ]
  },
  {
   "cell_type": "code",
   "execution_count": 20,
   "metadata": {},
   "outputs": [
    {
     "data": {
      "text/plain": [
       "201"
      ]
     },
     "execution_count": 20,
     "metadata": {},
     "output_type": "execute_result"
    }
   ],
   "source": [
    "# Providencia\n",
    "N = 3752\n",
    "n = (N*p*(1-p))/((N-1)*error**2/z**2 + p*(1-p))\n",
    "int(np.round(n,0))"
   ]
  }
 ],
 "metadata": {
  "kernelspec": {
   "display_name": "ox_eafit",
   "language": "python",
   "name": "python3"
  },
  "language_info": {
   "codemirror_mode": {
    "name": "ipython",
    "version": 3
   },
   "file_extension": ".py",
   "mimetype": "text/x-python",
   "name": "python",
   "nbconvert_exporter": "python",
   "pygments_lexer": "ipython3",
   "version": "3.11.4"
  }
 },
 "nbformat": 4,
 "nbformat_minor": 2
}
