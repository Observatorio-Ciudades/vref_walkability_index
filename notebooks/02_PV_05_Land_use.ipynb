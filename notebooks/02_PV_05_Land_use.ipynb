{
 "cells": [
  {
   "cell_type": "code",
   "execution_count": 1,
   "metadata": {},
   "outputs": [
    {
     "name": "stderr",
     "output_type": "stream",
     "text": [
      "c:\\Users\\Sergio\\anaconda3\\envs\\ox_GIZ_2\\Lib\\site-packages\\tqdm\\auto.py:21: TqdmWarning: IProgress not found. Please update jupyter and ipywidgets. See https://ipywidgets.readthedocs.io/en/stable/user_install.html\n",
      "  from .autonotebook import tqdm as notebook_tqdm\n"
     ]
    }
   ],
   "source": [
    "import geopandas as gpd\n",
    "import utils.analysis as an"
   ]
  },
  {
   "cell_type": "markdown",
   "metadata": {},
   "source": [
    "# Zonas Medellin"
   ]
  },
  {
   "cell_type": "code",
   "execution_count": null,
   "metadata": {},
   "outputs": [
    {
     "name": "stdout",
     "output_type": "stream",
     "text": [
      "Procesando zona: aguacatala_HL\n",
      "Procesando zona: moravia_LH\n",
      "Procesando zona: floresta_HH\n"
     ]
    }
   ],
   "source": [
    "zo = ['aguacatala_HL', 'moravia_LH', 'floresta_HH']\n",
    "z = zo[0]\n",
    "for z in zo:\n",
    "    print(f\"Procesando zona: {z}\")\n",
    "\n",
    "    zone_edges = gpd.read_file(f'../data/output/shape/project_network_initial/{z}/{z}_edges_proj_net_initial.shp')\n",
    "    zone_nodes = gpd.read_file(f'../data/output/shape/project_network_initial/{z}/{z}_nodes_proj_net_initial.shp')\n",
    "    land_use = gpd.read_file('../data/input/shape/land_use/land_use_medellin.shp')\n",
    "\n",
    "    zone_edges = zone_edges.to_crs('epsg:32618')\n",
    "    land_use = land_use.to_crs('epsg:32618')\n",
    "    zone_edges = zone_edges.set_index('osmid')\n",
    "\n",
    "\n",
    "    # Definition of categories\n",
    "    categories = ['Residencial','Equipamiento','ComercialServicios','Industrial','Mixto','Complementario']\n",
    "    # Filter geodataframe\n",
    "    land_use = land_use[land_use['land_use'].isin(categories)]\n",
    "\n",
    "\n",
    "    # Create a buffer around the street segments (e.g., 20 meters)\n",
    "    zone_edges_buff = zone_edges.buffer(20, cap_style='flat')\n",
    "    zone_edges_buff = gpd.GeoDataFrame(index=zone_edges_buff.index, geometry=zone_edges_buff.geometry)\n",
    "    zone_edges_buff = zone_edges_buff.reset_index()\n",
    "\n",
    "    # Check which sidewalks intersect with the edges\n",
    "    intersections = gpd.overlay(zone_edges_buff, land_use, how='intersection')\n",
    "\n",
    "    # Calculate the area of the intersections\n",
    "    intersections['area_inte'] = intersections.area\n",
    "\n",
    "    # Sum the intersection areas to get the total land use area\n",
    "    area_usos_edges = intersections.groupby('osmid')['area_inte'].sum()\n",
    "\n",
    "    # Group by land use category\n",
    "    land_use_presence_edges = intersections.groupby(['osmid', 'land_use'])['area_inte'].sum()\n",
    "\n",
    "    # Calculate the percentage of total area for each presence item (0 or 1)\n",
    "    percentage_land_use_edges = land_use_presence_edges / area_usos_edges\n",
    "\n",
    "    # Determine how many categories each osmid has\n",
    "    n_land_use = intersections.groupby(['osmid'])['land_use'].unique().apply(len)\n",
    "\n",
    "    # Create a series of all osmids present in zone_edges\n",
    "    all_osmid = zone_edges.index.to_series()\n",
    "\n",
    "    # Merge to add missing osmids\n",
    "    complete_n_land_use = all_osmid.to_frame(name='id').merge(\n",
    "        n_land_use.rename('n'), how='left', left_index=True, right_index=True).drop(['id'], axis=1)\n",
    "\n",
    "    # Fill missing values with 0\n",
    "    complete_n_land_use['n'] = complete_n_land_use['n'].fillna(0).astype(int)\n",
    "\n",
    "    # Apply the entropy formula\n",
    "    zone_edges['entropy'] = zone_edges.index.map(\n",
    "        lambda osmid: an.calcular_entropia(osmid, complete_n_land_use['n'], percentage_land_use_edges, categories))\n",
    "\n",
    "    zone_edges = zone_edges.rename(columns={'entropy':'land_use'})\n",
    "\n",
    "    zone_edges = zone_edges.reset_index()\n",
    "    zone_edges = zone_edges.to_crs('epsg:4326')\n",
    "    zone_nodes = zone_nodes.to_crs('epsg:4326')\n",
    "    zone_edges.to_file(f'../data/output/shape/land_use/{z}/{z}_land_use_edges.shp')\n",
    "    zone_nodes.to_file(f'../data/output/shape/land_use/{z}/{z}_land_use_nodes.shp')"
   ]
  }
 ],
 "metadata": {
  "kernelspec": {
   "display_name": "ox_GIZ_2",
   "language": "python",
   "name": "python3"
  },
  "language_info": {
   "codemirror_mode": {
    "name": "ipython",
    "version": 3
   },
   "file_extension": ".py",
   "mimetype": "text/x-python",
   "name": "python",
   "nbconvert_exporter": "python",
   "pygments_lexer": "ipython3",
   "version": "3.11.4"
  }
 },
 "nbformat": 4,
 "nbformat_minor": 2
}
