{
 "cells": [
  {
   "cell_type": "code",
   "execution_count": 5,
   "metadata": {},
   "outputs": [],
   "source": [
    "import geopandas as gpd\n",
    "import osmnx as ox\n",
    "import utils.analysis as an"
   ]
  },
  {
   "cell_type": "markdown",
   "metadata": {},
   "source": [
    "# Zonas Medellin"
   ]
  },
  {
   "cell_type": "code",
   "execution_count": null,
   "metadata": {},
   "outputs": [
    {
     "name": "stdout",
     "output_type": "stream",
     "text": [
      "Procesando zona: floresta_HH\n",
      "Edges con longitud igual a 0: 0\n",
      "\n",
      "Procesando zona: moravia_LH\n",
      "Edges con longitud igual a 0: 0\n",
      "\n",
      "Procesando zona: aguacatala_HL\n",
      "Edges con longitud igual a 0: 0\n",
      "\n"
     ]
    }
   ],
   "source": [
    "# List of areas of interest\n",
    "zo = ['floresta_HH','moravia_LH','aguacatala_HL']\n",
    "# z = zo[0]\n",
    "for z in zo:\n",
    "    # Show the zone that is running\n",
    "    print(f\"Procesando zona: {z}\")\n",
    "\n",
    "    # Load nodes and edges files\n",
    "    nodes = gpd.read_file(f'../data/output/shape/project_network_initial/{z}/{z}_nodes_proj_net_initial.shp')\n",
    "    edges = gpd.read_file(f'../data/output/shape/project_network_initial/{z}/{z}_edges_proj_net_initial.shp')\n",
    "\n",
    "    # Add 'key' column to edges\n",
    "    edges['key'] = 0\n",
    "\n",
    "    # Set indexes\n",
    "    nodes = nodes.set_index(['osmid'])\n",
    "    edges = edges.set_index(['u', 'v', 'key'])\n",
    "\n",
    "    # DEM file path\n",
    "    DEM_path = (f'../data/input/raster/medellin_DEM.tif')\n",
    "\n",
    "    # Calculate elevation\n",
    "    nodes, edges = an.elevation_DEM(nodes, edges, DEM_path)\n",
    "\n",
    "    # Filter and show edges with length 0\n",
    "    edges_con_longitud_cero = edges[edges['length'] == 0]\n",
    "    print(f'Edges con longitud igual a 0: {len(edges_con_longitud_cero)}\\n')\n",
    "    if len(edges_con_longitud_cero) != 0:\n",
    "        edges = edges[edges['length'] != 0]\n",
    "\n",
    "    nodes.to_file(f'../data/output/shape/physical_variables/slope/{z}/{z}_slope_nodes.shp')\n",
    "    edges.to_file(f'../data/output/shape/physical_variables/slope/{z}/{z}_slope_edges.shp')"
   ]
  }
 ],
 "metadata": {
  "kernelspec": {
   "display_name": "ox_GIZ_2",
   "language": "python",
   "name": "python3"
  },
  "language_info": {
   "codemirror_mode": {
    "name": "ipython",
    "version": 3
   },
   "file_extension": ".py",
   "mimetype": "text/x-python",
   "name": "python",
   "nbconvert_exporter": "python",
   "pygments_lexer": "ipython3",
   "version": "3.11.4"
  }
 },
 "nbformat": 4,
 "nbformat_minor": 4
}
