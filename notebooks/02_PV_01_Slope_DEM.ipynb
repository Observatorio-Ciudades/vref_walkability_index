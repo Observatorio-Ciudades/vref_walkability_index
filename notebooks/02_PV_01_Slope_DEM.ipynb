{
 "cells": [
  {
   "cell_type": "code",
   "execution_count": 1,
   "metadata": {},
   "outputs": [
    {
     "name": "stderr",
     "output_type": "stream",
     "text": [
      "/Users/lcuartase/.conda/envs/ox_eafit/lib/python3.11/site-packages/tqdm/auto.py:21: TqdmWarning: IProgress not found. Please update jupyter and ipywidgets. See https://ipywidgets.readthedocs.io/en/stable/user_install.html\n",
      "  from .autonotebook import tqdm as notebook_tqdm\n"
     ]
    }
   ],
   "source": [
    "import geopandas as gpd\n",
    "\n",
    "module_path = os.path.abspath(os.path.join('../'))\n",
    "if module_path not in sys.path:\n",
    "    sys.path.append(module_path)\n",
    "    import src"
   ]
  },
  {
   "cell_type": "markdown",
   "metadata": {},
   "source": [
    "# Zonas Medellin"
   ]
  },
  {
   "cell_type": "code",
   "execution_count": 2,
   "metadata": {},
   "outputs": [
    {
     "name": "stdout",
     "output_type": "stream",
     "text": [
      "Procesando zona: floresta_HH\n",
      "Edges con longitud igual a 0: 0\n",
      "\n",
      "Procesando zona: moravia_LH\n",
      "Edges con longitud igual a 0: 0\n",
      "\n",
      "Procesando zona: aguacatala_HL\n",
      "Edges con longitud igual a 0: 0\n",
      "\n"
     ]
    }
   ],
   "source": [
    "# List of areas of interest\n",
    "zo = ['floresta_HH','moravia_LH','aguacatala_HL']\n",
    "# zo = ['moravia_LH']\n",
    "# z = zo[0]\n",
    "for z in zo:\n",
    "    # Show the zone that is running\n",
    "    print(f\"Procesando zona: {z}\")\n",
    "\n",
    "    # Load nodes and edges files\n",
    "    nodes = gpd.read_file(f'../data/output/shape/project_network_initial/{z}/{z}_nodes_proj_net_initial.shp')\n",
    "    edges = gpd.read_file(f'../data/output/shape/project_network_initial/{z}/{z}_edges_proj_net_initial.shp')\n",
    "\n",
    "    # Add 'key' column to edges\n",
    "    edges['key'] = 0\n",
    "\n",
    "    # Set indexes\n",
    "    nodes = nodes.set_index(['osmid'])\n",
    "    edges = edges.set_index(['u', 'v', 'key'])\n",
    "\n",
    "    # DEM file path\n",
    "    DEM_path = (f'../data/input/raster/medellin_DEM.tif')\n",
    "\n",
    "    # Calculate elevation\n",
    "    nodes, edges = src.elevation_DEM(nodes, edges, DEM_path)\n",
    "\n",
    "    # Filter and show edges with length 0\n",
    "    edges_con_longitud_cero = edges[edges['length'] == 0]\n",
    "    print(f'Edges con longitud igual a 0: {len(edges_con_longitud_cero)}\\n')\n",
    "    if len(edges_con_longitud_cero) != 0:\n",
    "        edges = edges[edges['length'] != 0]\n",
    "\n",
    "    nodes.to_file(f'../data/output/shape/physical_variables/slope/{z}/{z}_slope_nodes.shp')\n",
    "    edges.to_file(f'../data/output/shape/physical_variables/slope/{z}/{z}_slope_edges.shp')\n",
    "\n",
    "    # Limit the study area to the neighborhood polygon\n",
    "    edges = edges.reset_index()\n",
    "    edges = edges.to_crs('epsg:32618')\n",
    "    nodes = nodes.reset_index()\n",
    "    nodes = nodes.to_crs('epsg:32618')\n",
    "\n",
    "    if z == 'floresta_HH':\n",
    "        w = 'Alto_Alta'\n",
    "    elif z == 'moravia_LH':\n",
    "        w = 'Bajo_Alta'\n",
    "    elif z == 'aguacatala_HL':\n",
    "        w = 'Alto_Baja'\n",
    "\n",
    "    # Load polygon files\n",
    "    polygon = gpd.read_file(f'../data/input/shape/Poligonos/{w}.shp')\n",
    "    polygon = polygon.to_crs('epsg:32618')\n",
    "    polygon = polygon['geometry'].union_all()\n",
    "    polygon = gpd.GeoDataFrame(geometry = [polygon], crs = 'epsg:32618')\n",
    "\n",
    "    # Select the segments that are inside the polygon\n",
    "    for idx, row in polygon.iterrows():\n",
    "        # Filter the edges contained in the polygon\n",
    "        edges_in_polygon = edges[edges['geometry'].intersects(row['geometry'])]\n",
    "\n",
    "    # List of the nodes inside the polygon based on the 'u' and 'v' columns of the edges inside the polygon\n",
    "    nodes_in_polygon = edges_in_polygon['u'].to_list() + edges_in_polygon['v'].to_list()\n",
    "    # Make the nodes unique and sort it\n",
    "    nodes_in_polygon = list(set(nodes_in_polygon))\n",
    "    nodes_in_polygon.sort()\n",
    "    # Select the nodes inside the buffer\n",
    "    nodes_in_polygon = nodes.set_index('osmid').loc[nodes_in_polygon].reset_index()\n",
    "\n",
    "    # Export\n",
    "    nodes_in_polygon = nodes_in_polygon.to_crs('epsg:4326')\n",
    "    edges_in_polygon = edges_in_polygon.to_crs('epsg:4326')\n",
    "    nodes_in_polygon.to_file(f'../data/output/shape/project_network_filter/{z}/{z}_slope_nodes.shp')\n",
    "    edges_in_polygon.to_file(f'../data/output/shape/project_network_filter/{z}/{z}_slope_edges.shp')\n"
   ]
  },
  {
   "cell_type": "markdown",
   "metadata": {},
   "source": [
    "# Medellin"
   ]
  },
  {
   "cell_type": "code",
   "execution_count": 3,
   "metadata": {},
   "outputs": [
    {
     "name": "stdout",
     "output_type": "stream",
     "text": [
      "Edges con longitud igual a 0: 0\n",
      "\n"
     ]
    }
   ],
   "source": [
    "z = 'medellin'\n",
    "\n",
    "# # Load nodes and edges files\n",
    "nodes = gpd.read_file(f'../data/output/shape/project_network_initial/{z}/{z}_nodes_proj_net_initial.shp')\n",
    "edges = gpd.read_file(f'../data/output/shape/project_network_initial/{z}/{z}_edges_proj_net_initial.shp')\n",
    "\n",
    "# # Add 'key' column to edges\n",
    "# edges['key'] = 0\n",
    "\n",
    "# Set indexes\n",
    "nodes = nodes.set_index(['osmid'])\n",
    "edges = edges.set_index(['u', 'v', 'key'])\n",
    "\n",
    "# DEM file path\n",
    "DEM_path = (f'../data/input/raster/medellin_DEM.tif')\n",
    "\n",
    "# Calculate elevation\n",
    "nodes, edges = src.elevation_DEM(nodes, edges, DEM_path)\n",
    "\n",
    "# Filter and show edges with length 0\n",
    "edges_con_longitud_cero = edges[edges['length'] == 0]\n",
    "print(f'Edges con longitud igual a 0: {len(edges_con_longitud_cero)}\\n')\n",
    "if len(edges_con_longitud_cero) != 0:\n",
    "    edges = edges[edges['length'] != 0]\n",
    "\n",
    "nodes.to_file(f'../data/output/shape/physical_variables/slope/{z}/{z}_slope_nodes.shp')\n",
    "edges.to_file(f'../data/output/shape/physical_variables/slope/{z}/{z}_slope_edges.shp')"
   ]
  }
 ],
 "metadata": {
  "kernelspec": {
   "display_name": "Python 3 (ipykernel)",
   "language": "python",
   "name": "python3"
  },
  "language_info": {
   "codemirror_mode": {
    "name": "ipython",
    "version": 3
   },
   "file_extension": ".py",
   "mimetype": "text/x-python",
   "name": "python",
   "nbconvert_exporter": "python",
   "pygments_lexer": "ipython3",
   "version": "3.12.3"
  }
 },
 "nbformat": 4,
 "nbformat_minor": 4
}
