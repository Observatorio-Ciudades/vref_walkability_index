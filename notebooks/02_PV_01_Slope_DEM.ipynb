{
 "cells": [
  {
   "cell_type": "markdown",
   "metadata": {},
   "source": [
    "# Zonas Medellin"
   ]
  },
  {
   "cell_type": "code",
   "execution_count": 10,
   "metadata": {},
   "outputs": [
    {
     "name": "stdout",
     "output_type": "stream",
     "text": [
      "Primeras 10 filas de nodes:\n",
      "               x         y    elevation                   geometry\n",
      "osmid                                                             \n",
      "0     -75.565477  6.269190  1481.780029  POINT (-75.56548 6.26919)\n",
      "2     -75.565782  6.267539  1483.645386  POINT (-75.56578 6.26754)\n",
      "49    -75.564614  6.268904  1486.783936   POINT (-75.56461 6.2689)\n",
      "40    -75.565006  6.272216  1470.312866  POINT (-75.56501 6.27222)\n",
      "1     -75.566188  6.265307  1480.258545  POINT (-75.56619 6.26531)\n",
      "186   -75.566355  6.264403  1481.211792   POINT (-75.56635 6.2644)\n",
      "222   -75.566015  6.266285  1483.909912  POINT (-75.56602 6.26628)\n",
      "223   -75.564871  6.267493  1489.059692  POINT (-75.56487 6.26749)\n",
      "423   -75.565855  6.267142  1484.579224  POINT (-75.56586 6.26714)\n",
      "3     -75.573253  6.273303  1450.000000   POINT (-75.57325 6.2733)\n",
      "\n",
      "Primeras 10 filas de edges:\n",
      "             osmid                                           geometry  \\\n",
      "u   v   key                                                             \n",
      "0   2   0        0  LINESTRING (-75.56548 6.26919, -75.56578 6.26754)   \n",
      "    49  0        1   LINESTRING (-75.56548 6.26919, -75.56461 6.2689)   \n",
      "2   423 0        6  LINESTRING (-75.56578 6.26754, -75.56581 6.267...   \n",
      "49  48  0       93  LINESTRING (-75.56461 6.2689, -75.56426 6.2687...   \n",
      "40  0   0        2  LINESTRING (-75.56501 6.27222, -75.56498 6.272...   \n",
      "    42  0       77  LINESTRING (-75.56501 6.27222, -75.56497 6.272...   \n",
      "1   186 0        3  LINESTRING (-75.56619 6.26531, -75.56634 6.264...   \n",
      "    952 0     1348  LINESTRING (-75.56619 6.26531, -75.56529 6.26514)   \n",
      "186 247 0      854  LINESTRING (-75.56635 6.2644, -75.56709 6.2645...   \n",
      "    675 0      978   LINESTRING (-75.56635 6.2644, -75.56639 6.26423)   \n",
      "\n",
      "              length  grade  grade_abs  \n",
      "u   v   key                             \n",
      "0   2   0    186.614  0.010      0.010  \n",
      "    49  0    100.563  0.050      0.050  \n",
      "2   423 0     44.893  0.021      0.021  \n",
      "49  48  0    123.080  0.063      0.063  \n",
      "40  0   0    340.438  0.034      0.034  \n",
      "    42  0     84.159 -0.004      0.004  \n",
      "1   186 0    102.185  0.009      0.009  \n",
      "    952 0    101.165  0.131      0.131  \n",
      "186 247 0    118.216 -0.060      0.060  \n",
      "    675 0     20.002 -0.014      0.014  \n",
      "\n",
      "Edges con longitud igual a 0:\n",
      "Empty GeoDataFrame\n",
      "Columns: [osmid, geometry, length, grade, grade_abs]\n",
      "Index: []\n"
     ]
    }
   ],
   "source": [
    "import geopandas as gpd\n",
    "import osmnx as ox\n",
    "import utils.analysis as an\n",
    "\n",
    "# List of areas of interest\n",
    "zo = ['floresta_HH','moravia_LH','aguacatala_HL']\n",
    "z = zo[0]\n",
    "\n",
    "# Show the zone that is running\n",
    "print(f\"Zona ejecutada: {z}\")\n",
    "\n",
    "# Load nodes and edges files\n",
    "nodes = gpd.read_file(f'../output/shape/project_network_initial/{z}/{z}_nodes_proj_net_initial.shp')\n",
    "edges = gpd.read_file(f'../output/shape/project_network_initial/{z}/{z}_edges_proj_net_initial.shp')\n",
    "\n",
    "# Add 'key' column to edges\n",
    "edges['key'] = 0\n",
    "\n",
    "# Set indexes\n",
    "nodes = nodes.set_index(['osmid'])\n",
    "edges = edges.set_index(['u', 'v', 'key'])\n",
    "\n",
    "# DEM file path\n",
    "DEM_path = (f'../Input/raster/medellin_DEM.tif')\n",
    "\n",
    "# Calculate elevation\n",
    "nodes, edges = an.elevation_DEM(nodes, edges, DEM_path)\n",
    "\n",
    "# Show the first 10 rows of nodes and edges\n",
    "print(\"Primeras 10 filas de nodes:\")\n",
    "print(nodes.head(10))\n",
    "\n",
    "print(\"\\nPrimeras 10 filas de edges:\")\n",
    "print(edges.head(10))\n",
    "\n",
    "# Filter and show edges with length 0\n",
    "edges_con_longitud_cero = edges[edges['length'] == 0]\n",
    "print(\"\\nEdges con longitud igual a 0:\")\n",
    "print(edges_con_longitud_cero)\n",
    "\n",
    "nodes.to_file(f'../output/shape/slope/{z}/{z}_slope_nodes.shp')\n",
    "edges.to_file(f'../output/shape/slope/{z}/{z}_slope_edges.shp')\n"
   ]
  },
  {
   "cell_type": "code",
   "execution_count": null,
   "metadata": {},
   "outputs": [],
   "source": []
  }
 ],
 "metadata": {
  "kernelspec": {
   "display_name": "Python 3 (ipykernel)",
   "language": "python",
   "name": "python3"
  },
  "language_info": {
   "codemirror_mode": {
    "name": "ipython",
    "version": 3
   },
   "file_extension": ".py",
   "mimetype": "text/x-python",
   "name": "python",
   "nbconvert_exporter": "python",
   "pygments_lexer": "ipython3",
   "version": "3.11.4"
  }
 },
 "nbformat": 4,
 "nbformat_minor": 4
}
