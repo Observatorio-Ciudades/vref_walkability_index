{
 "cells": [
  {
   "cell_type": "code",
   "execution_count": 1,
   "metadata": {},
   "outputs": [
    {
     "name": "stderr",
     "output_type": "stream",
     "text": [
      "c:\\Users\\Sergio\\anaconda3\\envs\\ox_GIZ_2\\Lib\\site-packages\\tqdm\\auto.py:21: TqdmWarning: IProgress not found. Please update jupyter and ipywidgets. See https://ipywidgets.readthedocs.io/en/stable/user_install.html\n",
      "  from .autonotebook import tqdm as notebook_tqdm\n"
     ]
    }
   ],
   "source": [
    "import geopandas as gpd\n",
    "\n",
    "import utils.analysis as an"
   ]
  },
  {
   "cell_type": "markdown",
   "metadata": {},
   "source": [
    "# Medellin"
   ]
  },
  {
   "cell_type": "code",
   "execution_count": 2,
   "metadata": {},
   "outputs": [],
   "source": [
    "nodes = gpd.read_file('../data/input/shape/network_boeing/nodes/medellin-561_nodes.shp')\n",
    "edges = gpd.read_file('../data/input/shape/network_boeing/edges/medellin-561_edges.shp')"
   ]
  },
  {
   "cell_type": "code",
   "execution_count": 3,
   "metadata": {},
   "outputs": [],
   "source": [
    "zo = ['floresta_HH','moravia_LH','aguacatala_HL']\n",
    "z = zo[0]"
   ]
  },
  {
   "cell_type": "code",
   "execution_count": null,
   "metadata": {},
   "outputs": [],
   "source": [
    "for z in zo:\n",
    "    zone_blocks = gpd.read_file(f'../data/output/shape/zone_blocks/{z}/{z}_blocks.shp')\n",
    "    zone_blocks = zone_blocks.to_crs('32618')\n",
    "    boeing_nodes, boeing_edges = an.get_boeing_network(zone_blocks, nodes, edges, 500)\n",
    "    boeing_nodes.to_file(f'../data/output/shape/network_boeing/{z}/{z}_boeing_nodes.shp')\n",
    "    boeing_edges.to_file(f'../data/output/shape/network_boeing/{z}/{z}_boeing_edges.shp')"
   ]
  },
  {
   "cell_type": "markdown",
   "metadata": {},
   "source": [
    "# Guadalajara"
   ]
  },
  {
   "cell_type": "code",
   "execution_count": null,
   "metadata": {},
   "outputs": [],
   "source": [
    "nodes = gpd.read_file('../data/input/shape/network_boeing/nodes/guadalajara-88_nodes.shp')\n",
    "edges = gpd.read_file('../data/input/shape/network_boeing/edges/guadalajara-88_edges.shp')"
   ]
  },
  {
   "cell_type": "code",
   "execution_count": null,
   "metadata": {},
   "outputs": [],
   "source": [
    "zo = ['miramar_LH','colinas_HL','providencia_HH']\n",
    "z = zo[0]"
   ]
  },
  {
   "cell_type": "code",
   "execution_count": null,
   "metadata": {},
   "outputs": [],
   "source": [
    "for z in zo:\n",
    "    zone_blocks = gpd.read_file(f'../data/output/shape/zone_blocks/{z}/{z}_blocks.shp')\n",
    "    zone_blocks = zone_blocks.to_crs('32613')\n",
    "    boeing_nodes, boeing_edges = an.get_boeing_network(zone_blocks,nodes,edges,500)\n",
    "    boeing_nodes.to_file(f'../data/output/shape/network_boeing/{z}/{z}_boeing_nodes.shp')\n",
    "    boeing_edges.to_file(f'../data/output/shape/network_boeing/{z}/{z}_boeing_edges.shp')"
   ]
  }
 ],
 "metadata": {
  "kernelspec": {
   "display_name": "ox_GIZ_2",
   "language": "python",
   "name": "python3"
  },
  "language_info": {
   "codemirror_mode": {
    "name": "ipython",
    "version": 3
   },
   "file_extension": ".py",
   "mimetype": "text/x-python",
   "name": "python",
   "nbconvert_exporter": "python",
   "pygments_lexer": "ipython3",
   "version": "3.11.4"
  }
 },
 "nbformat": 4,
 "nbformat_minor": 2
}
