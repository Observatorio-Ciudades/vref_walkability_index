{
 "cells": [
  {
   "cell_type": "code",
   "execution_count": 1,
   "id": "484d8622-48cf-49e4-9c2b-0383de84d71c",
   "metadata": {},
   "outputs": [],
   "source": [
    "import pandas as pd\n",
    "import geopandas as gpd"
   ]
  },
  {
   "cell_type": "markdown",
   "id": "ced67e7b",
   "metadata": {},
   "source": [
    "# Medellin"
   ]
  },
  {
   "cell_type": "code",
   "execution_count": 9,
   "id": "18b469b7-fcb6-440c-b38b-08c632301cfc",
   "metadata": {},
   "outputs": [],
   "source": [
    "# # Import the population data\n",
    "# DANE_data = pd.read_csv('../data/input/table/DANE_2018_personas_manz.txt',low_memory=False)\n",
    "# Import medellin blocks\n",
    "blocks = gpd.read_file('../data/input/shape/Medellin_blocks_DANE_2018_new/Medellin_blocks_DANE_2018_new.shp')"
   ]
  },
  {
   "cell_type": "code",
   "execution_count": null,
   "id": "9c02b61d-ddf5-47b1-877f-b311a9addfd8",
   "metadata": {},
   "outputs": [],
   "source": [
    "# Filter blocks' information\n",
    "\n",
    "cols = ['COD_DANE_A','TP27_PERSO','DENSIDAD','TVIVIENDA','TP9_1_USO','TP9_2_1_MI','TP9_2_2_MI','TP9_2_3_MI','TP32_1_SEX','TP32_2_SEX',\n",
    "        'TP34_1_EDA','TP34_2_EDA','TP34_3_EDA','TP34_4_EDA','TP34_5_EDA','TP34_6_EDA','TP34_7_EDA','TP34_8_EDA','TP34_9_EDA',\n",
    "        'TP51PRIMAR','TP51SECUND','TP51SUPERI','TP51POSTGR','geometry']\n",
    "blocks_m = blocks[cols].copy()\n",
    "for i in cols[2:-1]:\n",
    "    blocks_m[i] = blocks_m[i].astype(int)\n",
    "\n",
    "blocks_m = blocks_m.rename(columns={'COD_DANE_A':'MANZ_CCNCT','TP27_PERSO':'pop','DENSIDAD':'rho','TVIVIENDA':'n_viv',\n",
    "                                    'TP9_1_USO':'n_res','TP9_2_1_MI':'n_ind','TP9_2_2_MI':'n_com','TP9_2_3_MI':'n_ser',\n",
    "                                    'TP32_1_SEX':'n_hom','TP32_2_SEX':'n_muj',\n",
    "                                    'TP34_1_EDA':'n_00_09_y','TP34_2_EDA':'n_10_19_y','TP34_3_EDA':'n_20_29_y','TP34_4_EDA':'n_30_39_y','TP34_5_EDA':'n_40_49_y',\n",
    "                                    'TP34_6_EDA':'n_50_59_y','TP34_7_EDA':'n_60_69_y','TP34_8_EDA':'n_70_79_y','TP34_9_EDA':'n_80_mo_y',\n",
    "                                    'TP51PRIMAR':'n_edu_pri','TP51SECUND':'n_edu_sec','TP51SUPERI':'n_edu_sup','TP51POSTGR':'n_edu_pos'})\n",
    "blocks_m = blocks_m.to_crs('epsg:32618')\n",
    "blocks_m['rho'] = blocks_m['pop']/(blocks_m.area/1e4) # hab/hec\n",
    "blocks_m = blocks_m.to_crs('epsg:4326')\n",
    "blocks_m.to_file('../data/output/shape/blocks/medellin_blocks.shp')"
   ]
  },
  {
   "cell_type": "code",
   "execution_count": null,
   "id": "b8d2a7d0-24a9-45e7-80b9-b5246f6c89b4",
   "metadata": {},
   "outputs": [],
   "source": [
    "# Zona de analisis\n",
    "zona = gpd.read_file('../data/input/shape/Poligonos/Alto_Alta.shp')\n",
    "zona = zona.to_crs('epsg:4326')\n",
    "zona = zona[['geometry']]\n",
    "# Filtrar los nodos de boeing de la zona\n",
    "zone_blocks_ = gpd.sjoin(blocks_m,zona,predicate='intersects')\n",
    "zone_blocks_ = zone_blocks_.drop(['index_right'],axis=1)\n",
    "zone_blocks_.to_file('../data/output/shape/zone_blocks/floresta_HH/floresta_HH_blocks.shp')"
   ]
  },
  {
   "cell_type": "code",
   "execution_count": null,
   "id": "f2453858-3955-4025-9f95-8ed2bf7d6553",
   "metadata": {},
   "outputs": [],
   "source": [
    "# Zona de analisis\n",
    "zona = gpd.read_file('../data/input/shape/Poligonos/Bajo_Alta.shp')\n",
    "zona = zona.to_crs('epsg:4326')\n",
    "zona = zona[['geometry']]\n",
    "# Filtrar los nodos de boeing de la zona\n",
    "zone_blocks_ = gpd.sjoin(blocks_m,zona,predicate='intersects')\n",
    "zone_blocks_ = zone_blocks_.drop(['index_right'],axis=1)\n",
    "zone_blocks_.to_file('../data/output/shape/zone_blocks/moravia_LH/moravia_LH_blocks.shp')"
   ]
  },
  {
   "cell_type": "code",
   "execution_count": null,
   "id": "6c9ecd97-31cd-499f-9632-c2a23774debb",
   "metadata": {},
   "outputs": [],
   "source": [
    "# Zona de analisis\n",
    "zona = gpd.read_file('../data/input/shape/Poligonos/Alto_Baja.shp')\n",
    "zona = zona.to_crs('epsg:4326')\n",
    "zona = zona[['geometry']]\n",
    "# Filtrar los nodos de boeing de la zona\n",
    "zone_blocks_ = gpd.sjoin(blocks_m,zona,predicate='intersects')\n",
    "zone_blocks_ = zone_blocks_.drop(['index_right'],axis=1)\n",
    "zone_blocks_.to_file('../data/output/shape/zone_blocks/aguacatala_HL/aguacatala_HL_blocks.shp')"
   ]
  },
  {
   "cell_type": "markdown",
   "id": "8e0a01f3",
   "metadata": {},
   "source": [
    "# Guadalajara\n",
    "\n",
    "La selección de las manzanas de las zonas de Guadalajara se hizo de forma manual a partir del archivo \"Manzanas_polígonos.gpkg\" guardado en la carpeta 03_Datos/03_1_Input/shape/Poligonos_manzanas/"
   ]
  },
  {
   "cell_type": "code",
   "execution_count": 2,
   "id": "5122df00",
   "metadata": {},
   "outputs": [],
   "source": [
    "ho = ['miramar','colinas','providencia']\n",
    "zo = ['miramar_LH','colinas_HL','providencia_HH']\n",
    "# z = zo[0]"
   ]
  },
  {
   "cell_type": "markdown",
   "id": "35153a8a",
   "metadata": {},
   "source": [
    "Arreglar el nombre cambiando el input y el conjunto zo a partir de la clasificacion que va a mandar Edgar"
   ]
  },
  {
   "cell_type": "code",
   "execution_count": 4,
   "id": "b338f3d4",
   "metadata": {},
   "outputs": [],
   "source": [
    "# Sacar las capas del geopackage y asignarles el crs de guadalajara\n",
    "for i in range(len(zo)):\n",
    "    zone_blocks = gpd.read_file(f'../data/input/shape/zone_blocks_guadalajara/{ho[i]}.shp')\n",
    "    zone_blocks = zone_blocks.set_crs('epsg:32613', allow_override=True)\n",
    "    zone_blocks = zone_blocks.to_crs('epsg:4326')\n",
    "    zone_blocks.to_file(f'../data/output/shape/zone_blocks/{zo[i]}/{zo[i]}_blocks.shp')"
   ]
  },
  {
   "cell_type": "markdown",
   "id": "27c68852",
   "metadata": {},
   "source": [
    "Sin embargo, para las manzanas de toda el área urbana será necesario hacer un filtro. Las manzanas de toda el área urbana están guardadas en el archivo \"Manzanas_AMG_INEGI20_UTM_v1.shp\" en la carpeta 03_Datos/03_1_Input/shape/Manzanas_Guadalajara/. Este archivo contiene unas unas manzanas llamandas contenedoras, las cuales (como su nombre lo dice) contienen a otras manzanas pero estas no representan manzanas verdaderas, por lo tanto será eliminadas para que en la creación de la malla vial por medio de Teselaciones no haya inconvenientes."
   ]
  },
  {
   "cell_type": "code",
   "execution_count": 9,
   "id": "d048b7f0",
   "metadata": {},
   "outputs": [],
   "source": [
    "blocks = gpd.read_file('../data/input/shape/Manzanas_Guadalajara/Manzanas_AMG_INEGI20_UTM_v1.shp')"
   ]
  },
  {
   "cell_type": "code",
   "execution_count": 10,
   "id": "6f95e64d",
   "metadata": {},
   "outputs": [
    {
     "name": "stdout",
     "output_type": "stream",
     "text": [
      "EPSG:32613\n"
     ]
    }
   ],
   "source": [
    "print(blocks.crs)"
   ]
  },
  {
   "cell_type": "code",
   "execution_count": 11,
   "id": "7e46c297",
   "metadata": {},
   "outputs": [],
   "source": [
    "# Eliminate 'contenedora' blocks\n",
    "blocks = blocks[blocks['TIPOMZA']!='Contenedora']\n",
    "blocks = blocks.to_crs('epsg:4326')\n",
    "blocks.to_file('../data/output/shape/blocks/guadalajara_blocks.shp')"
   ]
  }
 ],
 "metadata": {
  "kernelspec": {
   "display_name": "ox_GIZ_2",
   "language": "python",
   "name": "python3"
  },
  "language_info": {
   "codemirror_mode": {
    "name": "ipython",
    "version": 3
   },
   "file_extension": ".py",
   "mimetype": "text/x-python",
   "name": "python",
   "nbconvert_exporter": "python",
   "pygments_lexer": "ipython3",
   "version": "3.11.4"
  }
 },
 "nbformat": 4,
 "nbformat_minor": 5
}
