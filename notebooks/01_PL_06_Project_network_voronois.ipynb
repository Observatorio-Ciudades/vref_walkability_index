{
 "cells": [
  {
   "cell_type": "markdown",
   "id": "aa0cd546-7efb-4423-8ae9-9905857ce934",
   "metadata": {},
   "source": [
    "# 01_PL_06_Project_network_voronois"
   ]
  },
  {
   "cell_type": "markdown",
   "id": "6948203d-12c9-4b75-a1d3-545537df3c5f",
   "metadata": {},
   "source": [
    "This notebook loads pop data (Looking for population and density) to nodes for the project.\n",
    "\n",
    "__Inputs:__\n",
    "* Area of interest (City, Guadalajara)\n",
    "* Blocks with population data\n",
    "* Nodes from the project network, which was generated using the networks join procedure (Notebook 01_PL_04_Combine_networks)\n",
    "  \n",
    "__Outputs:__\n",
    "* Voronoi polygons for the project_network\n",
    "* Nodes with pop data (Population and density)"
   ]
  },
  {
   "cell_type": "markdown",
   "id": "6d3676ae-f7d5-4a4a-94a9-da3eaa16250f",
   "metadata": {},
   "source": [
    "## Import libraries"
   ]
  },
  {
   "cell_type": "code",
   "execution_count": 1,
   "id": "80427904-c061-4d62-97fd-e5e09b6bc297",
   "metadata": {},
   "outputs": [],
   "source": [
    "first_folder_path = \"../\""
   ]
  },
  {
   "cell_type": "code",
   "execution_count": 2,
   "id": "617e8ef9-75ba-4044-9d9d-503ad4fd277a",
   "metadata": {},
   "outputs": [],
   "source": [
    "import os\n",
    "import sys\n",
    "\n",
    "import pandas as pd\n",
    "import geopandas as gpd\n",
    "import osmnx as ox\n",
    "import numpy as np\n",
    "\n",
    "import matplotlib.pyplot as plt\n",
    "import seaborn as sns\n",
    "\n",
    "# Time processes\n",
    "import time\n",
    "\n",
    "import warnings\n",
    "warnings.simplefilter(action='ignore', category=FutureWarning)\n",
    "\n",
    "module_path = os.path.abspath(os.path.join(first_folder_path))\n",
    "if module_path not in sys.path:\n",
    "    sys.path.append(module_path)\n",
    "    import src\n",
    "else:\n",
    "    import src"
   ]
  },
  {
   "cell_type": "code",
   "execution_count": 3,
   "id": "ac5aa8a3-fb89-4844-84cf-a649bcf4af8b",
   "metadata": {},
   "outputs": [
    {
     "name": "stdout",
     "output_type": "stream",
     "text": [
      "2.0.1\n"
     ]
    }
   ],
   "source": [
    "print(ox.__version__)"
   ]
  },
  {
   "cell_type": "markdown",
   "id": "a87ffa46-50f1-4122-b411-c6046265edda",
   "metadata": {},
   "source": [
    "## Notebook config"
   ]
  },
  {
   "cell_type": "code",
   "execution_count": 4,
   "id": "2b530a18-48c8-41d1-a05a-45ccd4a5860d",
   "metadata": {},
   "outputs": [],
   "source": [
    "# ----- ----- ----- City of analysis ----- ----- -----\n",
    "city = 'guadalajara'\n",
    "\n",
    "# ----- ----- ----- Input data directories ----- ----- ----- \n",
    "# Nodes and edges from notebook 01_PL_04_Combine_networks\n",
    "nodes_dir = first_folder_path + f\"data/output/shape/network_project/{city}/part02_step05_ntwsclean/{city}_nodes_proj_net_final.gpkg\"\n",
    "edges_dir = first_folder_path + f\"data/output/shape/network_project/{city}/part02_step05_ntwsclean/{city}_edges_proj_net_final.gpkg\"\n",
    "\n",
    "# Blocks with population data\n",
    "blocks_dir = first_folder_path + f\"data/input/shape/Manzanas_Pop_Guadalajara/pobcenso_inegi_20_mzaageb_mza_gdl.gpkg\"\n",
    "# Blocks unique ID column (Will become index)\n",
    "blocks_unique_id = 'cvegeo_mza'\n",
    "# Column where population data is located within each block\n",
    "pop_col = 'pobtot'\n",
    "\n",
    "# ----- ----- ----- Projection to be used when needed ----- ----- ----- \n",
    "projected_crs = \"EPSG:32613\" #Guadalajara = 'EPSG:32613'\n",
    "\n",
    "# ----- ----- ----- Output ----- ----- ----- \n",
    "output_dir = first_folder_path + f\"data/output/shape/network_project_voronoi/\"\n",
    "local_save = True"
   ]
  },
  {
   "cell_type": "markdown",
   "id": "52c93f49-9938-4c03-baf0-ac1a23586885",
   "metadata": {},
   "source": [
    "## Load data"
   ]
  },
  {
   "cell_type": "markdown",
   "id": "4efac756-10bc-46a8-9fe1-5220f4ab1009",
   "metadata": {},
   "source": [
    "### __Load data__ - Pop data in blocks"
   ]
  },
  {
   "cell_type": "code",
   "execution_count": 4,
   "id": "836f3f36-6598-4b38-8ffc-a6c72cbb4dc3",
   "metadata": {},
   "outputs": [
    {
     "name": "stdout",
     "output_type": "stream",
     "text": [
      "TIME: 535.2859220504761 seconds.\n",
      "EPSG:32613\n",
      "<class 'geopandas.geodataframe.GeoDataFrame'>\n",
      "Index: 54804 entries, 1412000620299011 to 1412000017065020\n",
      "Columns: 237 entries, nom_ent to geometry\n",
      "dtypes: float64(220), geometry(1), int64(2), object(14)\n",
      "memory usage: 101.5+ MB\n",
      "None\n"
     ]
    },
    {
     "data": {
      "text/html": [
       "<div>\n",
       "<style scoped>\n",
       "    .dataframe tbody tr th:only-of-type {\n",
       "        vertical-align: middle;\n",
       "    }\n",
       "\n",
       "    .dataframe tbody tr th {\n",
       "        vertical-align: top;\n",
       "    }\n",
       "\n",
       "    .dataframe thead th {\n",
       "        text-align: right;\n",
       "    }\n",
       "</style>\n",
       "<table border=\"1\" class=\"dataframe\">\n",
       "  <thead>\n",
       "    <tr style=\"text-align: right;\">\n",
       "      <th></th>\n",
       "      <th>nom_ent</th>\n",
       "      <th>nom_mun</th>\n",
       "      <th>nom_loc</th>\n",
       "      <th>pobtot</th>\n",
       "      <th>pobfem</th>\n",
       "      <th>pobmas</th>\n",
       "      <th>p_0a2</th>\n",
       "      <th>p_0a2_f</th>\n",
       "      <th>p_0a2_m</th>\n",
       "      <th>p_3ymas</th>\n",
       "      <th>...</th>\n",
       "      <th>cve_loc</th>\n",
       "      <th>cve_ageb</th>\n",
       "      <th>cve_mza</th>\n",
       "      <th>cvegeo_mun</th>\n",
       "      <th>cvegeo_loc</th>\n",
       "      <th>cvegeo_ageb</th>\n",
       "      <th>ambito</th>\n",
       "      <th>tipomza</th>\n",
       "      <th>city</th>\n",
       "      <th>geometry</th>\n",
       "    </tr>\n",
       "    <tr>\n",
       "      <th>cvegeo_mza</th>\n",
       "      <th></th>\n",
       "      <th></th>\n",
       "      <th></th>\n",
       "      <th></th>\n",
       "      <th></th>\n",
       "      <th></th>\n",
       "      <th></th>\n",
       "      <th></th>\n",
       "      <th></th>\n",
       "      <th></th>\n",
       "      <th></th>\n",
       "      <th></th>\n",
       "      <th></th>\n",
       "      <th></th>\n",
       "      <th></th>\n",
       "      <th></th>\n",
       "      <th></th>\n",
       "      <th></th>\n",
       "      <th></th>\n",
       "      <th></th>\n",
       "      <th></th>\n",
       "    </tr>\n",
       "  </thead>\n",
       "  <tbody>\n",
       "    <tr>\n",
       "      <th>1412000620299011</th>\n",
       "      <td>Jalisco</td>\n",
       "      <td>Zapopan</td>\n",
       "      <td>La Cuchilla (Extramuros de Tesistán)</td>\n",
       "      <td>16</td>\n",
       "      <td>8.0</td>\n",
       "      <td>8.0</td>\n",
       "      <td>0.0</td>\n",
       "      <td>0.0</td>\n",
       "      <td>0.0</td>\n",
       "      <td>16.0</td>\n",
       "      <td>...</td>\n",
       "      <td>0062</td>\n",
       "      <td>0299</td>\n",
       "      <td>011</td>\n",
       "      <td>14120</td>\n",
       "      <td>141200062</td>\n",
       "      <td>1412000620299</td>\n",
       "      <td>Urbana</td>\n",
       "      <td>Típica</td>\n",
       "      <td>Guadalajara</td>\n",
       "      <td>POLYGON ((659974.886 2297605.164, 659923.165 2...</td>\n",
       "    </tr>\n",
       "    <tr>\n",
       "      <th>1412000620299032</th>\n",
       "      <td>Jalisco</td>\n",
       "      <td>Zapopan</td>\n",
       "      <td>La Cuchilla (Extramuros de Tesistán)</td>\n",
       "      <td>18</td>\n",
       "      <td>8.0</td>\n",
       "      <td>10.0</td>\n",
       "      <td>0.0</td>\n",
       "      <td>0.0</td>\n",
       "      <td>0.0</td>\n",
       "      <td>8.0</td>\n",
       "      <td>...</td>\n",
       "      <td>0062</td>\n",
       "      <td>0299</td>\n",
       "      <td>032</td>\n",
       "      <td>14120</td>\n",
       "      <td>141200062</td>\n",
       "      <td>1412000620299</td>\n",
       "      <td>Urbana</td>\n",
       "      <td>Típica</td>\n",
       "      <td>Guadalajara</td>\n",
       "      <td>POLYGON ((659879.976 2297823.117, 659923.355 2...</td>\n",
       "    </tr>\n",
       "  </tbody>\n",
       "</table>\n",
       "<p>2 rows × 237 columns</p>\n",
       "</div>"
      ],
      "text/plain": [
       "                  nom_ent  nom_mun                               nom_loc  \\\n",
       "cvegeo_mza                                                                 \n",
       "1412000620299011  Jalisco  Zapopan  La Cuchilla (Extramuros de Tesistán)   \n",
       "1412000620299032  Jalisco  Zapopan  La Cuchilla (Extramuros de Tesistán)   \n",
       "\n",
       "                  pobtot  pobfem  pobmas  p_0a2  p_0a2_f  p_0a2_m  p_3ymas  \\\n",
       "cvegeo_mza                                                                   \n",
       "1412000620299011      16     8.0     8.0    0.0      0.0      0.0     16.0   \n",
       "1412000620299032      18     8.0    10.0    0.0      0.0      0.0      8.0   \n",
       "\n",
       "                  ...  cve_loc  cve_ageb  cve_mza  cvegeo_mun  cvegeo_loc  \\\n",
       "cvegeo_mza        ...                                                       \n",
       "1412000620299011  ...     0062      0299      011       14120   141200062   \n",
       "1412000620299032  ...     0062      0299      032       14120   141200062   \n",
       "\n",
       "                    cvegeo_ageb  ambito  tipomza         city  \\\n",
       "cvegeo_mza                                                      \n",
       "1412000620299011  1412000620299  Urbana   Típica  Guadalajara   \n",
       "1412000620299032  1412000620299  Urbana   Típica  Guadalajara   \n",
       "\n",
       "                                                           geometry  \n",
       "cvegeo_mza                                                           \n",
       "1412000620299011  POLYGON ((659974.886 2297605.164, 659923.165 2...  \n",
       "1412000620299032  POLYGON ((659879.976 2297823.117, 659923.355 2...  \n",
       "\n",
       "[2 rows x 237 columns]"
      ]
     },
     "execution_count": 4,
     "metadata": {},
     "output_type": "execute_result"
    }
   ],
   "source": [
    "# ----- ----- ----- Time start\n",
    "time_1 = time.time()\n",
    "# ----- ----- ----- Process\n",
    "# Load blocks\n",
    "blocks_gdf = gpd.read_file(blocks_dir)\n",
    "# Set crs\n",
    "if blocks_gdf.crs != projected_crs:\n",
    "    blocks_gdf = blocks_gdf.to_crs(projected_crs)\n",
    "# Set index if necessary\n",
    "if blocks_unique_id in blocks_gdf.columns:\n",
    "    blocks_gdf.set_index(blocks_unique_id,inplace=True)\n",
    "# Filter for data of interest\n",
    "blocks_gdf = blocks_gdf[[pop_col,'geometry']]\n",
    "# ----- ----- ----- Time end\n",
    "time_2 = time.time()\n",
    "print(f\"TIME: {time_2-time_1} seconds.\")\n",
    "\n",
    "\n",
    "# Show\n",
    "print(blocks_gdf.crs)\n",
    "print(blocks_gdf.info())\n",
    "blocks_gdf.head(2)"
   ]
  },
  {
   "cell_type": "markdown",
   "id": "a3c2b5a6-5f09-4089-be00-17c6f11771b2",
   "metadata": {},
   "source": [
    "### __Load data__ - Network"
   ]
  },
  {
   "cell_type": "code",
   "execution_count": 5,
   "id": "ca4d4b24-74b7-4132-84f0-18de7c18e298",
   "metadata": {},
   "outputs": [
    {
     "name": "stdout",
     "output_type": "stream",
     "text": [
      "Dropped 0 nodes to set osmid as nodes index.\n",
      "TIME: 0.8252885341644287 seconds.\n",
      "EPSG:32613\n",
      "<class 'geopandas.geodataframe.GeoDataFrame'>\n",
      "Index: 138541 entries, 67637870229114485 to 67447978227424881\n",
      "Data columns (total 3 columns):\n",
      " #   Column    Non-Null Count   Dtype   \n",
      "---  ------    --------------   -----   \n",
      " 0   x         138541 non-null  float64 \n",
      " 1   y         138541 non-null  float64 \n",
      " 2   geometry  138541 non-null  geometry\n",
      "dtypes: float64(2), geometry(1)\n",
      "memory usage: 4.2 MB\n",
      "None\n"
     ]
    },
    {
     "data": {
      "text/html": [
       "<div>\n",
       "<style scoped>\n",
       "    .dataframe tbody tr th:only-of-type {\n",
       "        vertical-align: middle;\n",
       "    }\n",
       "\n",
       "    .dataframe tbody tr th {\n",
       "        vertical-align: top;\n",
       "    }\n",
       "\n",
       "    .dataframe thead th {\n",
       "        text-align: right;\n",
       "    }\n",
       "</style>\n",
       "<table border=\"1\" class=\"dataframe\">\n",
       "  <thead>\n",
       "    <tr style=\"text-align: right;\">\n",
       "      <th></th>\n",
       "      <th>x</th>\n",
       "      <th>y</th>\n",
       "      <th>geometry</th>\n",
       "    </tr>\n",
       "    <tr>\n",
       "      <th>osmid</th>\n",
       "      <th></th>\n",
       "      <th></th>\n",
       "      <th></th>\n",
       "    </tr>\n",
       "  </thead>\n",
       "  <tbody>\n",
       "    <tr>\n",
       "      <th>67637870229114485</th>\n",
       "      <td>676378.709485</td>\n",
       "      <td>2.291145e+06</td>\n",
       "      <td>POINT (676378.709 2291144.858)</td>\n",
       "    </tr>\n",
       "    <tr>\n",
       "      <th>67531453228992881</th>\n",
       "      <td>675314.533972</td>\n",
       "      <td>2.289929e+06</td>\n",
       "      <td>POINT (675314.534 2289928.819)</td>\n",
       "    </tr>\n",
       "  </tbody>\n",
       "</table>\n",
       "</div>"
      ],
      "text/plain": [
       "                               x             y                        geometry\n",
       "osmid                                                                         \n",
       "67637870229114485  676378.709485  2.291145e+06  POINT (676378.709 2291144.858)\n",
       "67531453228992881  675314.533972  2.289929e+06  POINT (675314.534 2289928.819)"
      ]
     },
     "execution_count": 5,
     "metadata": {},
     "output_type": "execute_result"
    }
   ],
   "source": [
    "# ----- ----- ----- Time start\n",
    "time_1 = time.time()\n",
    "# ----- ----- ----- Process\n",
    "# Load nodes\n",
    "nodes_gdf = gpd.read_file(nodes_dir)\n",
    "# Set crs\n",
    "if nodes_gdf.crs != projected_crs:\n",
    "    nodes_gdf = nodes_gdf.to_crs(projected_crs)\n",
    "    print(f\"Changed crs to {projected_crs}.\")\n",
    "# Set index if necessary\n",
    "if 'osmid' in nodes_gdf.columns:\n",
    "    original_len = len(nodes_gdf)\n",
    "    nodes_gdf = nodes_gdf.drop_duplicates(subset=['osmid'])\n",
    "    new_len = len(nodes_gdf)\n",
    "    nodes_gdf.set_index('osmid',inplace=True)\n",
    "    print(f\"Dropped {new_len-original_len} nodes to set osmid as nodes index.\")\n",
    "# Filter for data of interest\n",
    "nodes_gdf = nodes_gdf[['x','y','geometry']]\n",
    "# ----- ----- ----- Time end\n",
    "time_2 = time.time()\n",
    "print(f\"TIME: {time_2-time_1} seconds.\")\n",
    "\n",
    "# Show\n",
    "print(nodes_gdf.crs)\n",
    "print(nodes_gdf.info())\n",
    "nodes_gdf.head(2)"
   ]
  },
  {
   "cell_type": "code",
   "execution_count": 6,
   "id": "c113f6e6-7b1e-4f70-94dd-c33ef189dfc6",
   "metadata": {},
   "outputs": [
    {
     "name": "stdout",
     "output_type": "stream",
     "text": [
      "Dropped 0 edges to set 'u','v' and 'key' as nodes index.\n",
      "TIME: 4.342734336853027 seconds.\n",
      "EPSG:32613\n",
      "<class 'geopandas.geodataframe.GeoDataFrame'>\n",
      "MultiIndex: 211959 entries, (67637870229114485, 67640019229114922, 0) to (71055139227969248, 71063149227964435, 1)\n",
      "Data columns (total 2 columns):\n",
      " #   Column    Non-Null Count   Dtype   \n",
      "---  ------    --------------   -----   \n",
      " 0   length    211959 non-null  float64 \n",
      " 1   geometry  211959 non-null  geometry\n",
      "dtypes: float64(1), geometry(1)\n",
      "memory usage: 15.1 MB\n",
      "None\n"
     ]
    },
    {
     "data": {
      "text/html": [
       "<div>\n",
       "<style scoped>\n",
       "    .dataframe tbody tr th:only-of-type {\n",
       "        vertical-align: middle;\n",
       "    }\n",
       "\n",
       "    .dataframe tbody tr th {\n",
       "        vertical-align: top;\n",
       "    }\n",
       "\n",
       "    .dataframe thead th {\n",
       "        text-align: right;\n",
       "    }\n",
       "</style>\n",
       "<table border=\"1\" class=\"dataframe\">\n",
       "  <thead>\n",
       "    <tr style=\"text-align: right;\">\n",
       "      <th></th>\n",
       "      <th></th>\n",
       "      <th></th>\n",
       "      <th>length</th>\n",
       "      <th>geometry</th>\n",
       "    </tr>\n",
       "    <tr>\n",
       "      <th>u</th>\n",
       "      <th>v</th>\n",
       "      <th>key</th>\n",
       "      <th></th>\n",
       "      <th></th>\n",
       "    </tr>\n",
       "  </thead>\n",
       "  <tbody>\n",
       "    <tr>\n",
       "      <th>67637870229114485</th>\n",
       "      <th>67640019229114922</th>\n",
       "      <th>0</th>\n",
       "      <td>22.844750</td>\n",
       "      <td>MULTILINESTRING ((676378.709 2291144.858, 6763...</td>\n",
       "    </tr>\n",
       "    <tr>\n",
       "      <th>67632853229098496</th>\n",
       "      <th>67637870229114485</th>\n",
       "      <th>0</th>\n",
       "      <td>167.579445</td>\n",
       "      <td>MULTILINESTRING ((676328.534 2290984.966, 6763...</td>\n",
       "    </tr>\n",
       "  </tbody>\n",
       "</table>\n",
       "</div>"
      ],
      "text/plain": [
       "                                             length  \\\n",
       "u                 v                 key               \n",
       "67637870229114485 67640019229114922 0     22.844750   \n",
       "67632853229098496 67637870229114485 0    167.579445   \n",
       "\n",
       "                                                                                  geometry  \n",
       "u                 v                 key                                                     \n",
       "67637870229114485 67640019229114922 0    MULTILINESTRING ((676378.709 2291144.858, 6763...  \n",
       "67632853229098496 67637870229114485 0    MULTILINESTRING ((676328.534 2290984.966, 6763...  "
      ]
     },
     "execution_count": 6,
     "metadata": {},
     "output_type": "execute_result"
    }
   ],
   "source": [
    "# ----- ----- ----- Time start\n",
    "time_1 = time.time()\n",
    "# ----- ----- ----- Process\n",
    "# Load edges\n",
    "edges_gdf = gpd.read_file(edges_dir)\n",
    "# Set crs\n",
    "if edges_gdf.crs != projected_crs:\n",
    "    edges_gdf = edges_gdf.to_crs(projected_crs)\n",
    "    print(f\"Changed crs to {projected_crs}.\")\n",
    "# Set index if necessary\n",
    "if 'u' in edges_gdf.columns:\n",
    "    original_len = len(edges_gdf)\n",
    "    edges_gdf = edges_gdf.drop_duplicates(subset=['u','v','key'])\n",
    "    new_len = len(edges_gdf)\n",
    "    edges_gdf.set_index(['u','v','key'],inplace=True)\n",
    "    print(f\"Dropped {new_len-original_len} edges to set 'u','v' and 'key' as nodes index.\")\n",
    "# Filter for data of interest\n",
    "edges_gdf = edges_gdf[['length','geometry']]\n",
    "# ----- ----- ----- Time end\n",
    "time_2 = time.time()\n",
    "print(f\"TIME: {time_2-time_1} seconds.\")\n",
    "\n",
    "# Show\n",
    "print(edges_gdf.crs)\n",
    "print(edges_gdf.info())\n",
    "edges_gdf.head(2)"
   ]
  },
  {
   "cell_type": "markdown",
   "id": "91fe2d37-ba49-455d-bb2a-325b73e4d6e0",
   "metadata": {},
   "source": [
    "## Consolidate network to reduce the number of intersections/nodes from where voronoi polygons will be created"
   ]
  },
  {
   "cell_type": "code",
   "execution_count": 7,
   "id": "ae3862fb-ca81-4735-81fa-c0cf464847a8",
   "metadata": {},
   "outputs": [
    {
     "name": "stdout",
     "output_type": "stream",
     "text": [
      "['osmid']\n",
      "0\n",
      "Point    138541\n",
      "Name: count, dtype: int64\n"
     ]
    },
    {
     "data": {
      "text/html": [
       "<div>\n",
       "<style scoped>\n",
       "    .dataframe tbody tr th:only-of-type {\n",
       "        vertical-align: middle;\n",
       "    }\n",
       "\n",
       "    .dataframe tbody tr th {\n",
       "        vertical-align: top;\n",
       "    }\n",
       "\n",
       "    .dataframe thead th {\n",
       "        text-align: right;\n",
       "    }\n",
       "</style>\n",
       "<table border=\"1\" class=\"dataframe\">\n",
       "  <thead>\n",
       "    <tr style=\"text-align: right;\">\n",
       "      <th></th>\n",
       "      <th>x</th>\n",
       "      <th>y</th>\n",
       "      <th>geometry</th>\n",
       "    </tr>\n",
       "    <tr>\n",
       "      <th>osmid</th>\n",
       "      <th></th>\n",
       "      <th></th>\n",
       "      <th></th>\n",
       "    </tr>\n",
       "  </thead>\n",
       "  <tbody>\n",
       "    <tr>\n",
       "      <th>67637870229114485</th>\n",
       "      <td>676378.709485</td>\n",
       "      <td>2.291145e+06</td>\n",
       "      <td>POINT (676378.709 2291144.858)</td>\n",
       "    </tr>\n",
       "    <tr>\n",
       "      <th>67531453228992881</th>\n",
       "      <td>675314.533972</td>\n",
       "      <td>2.289929e+06</td>\n",
       "      <td>POINT (675314.534 2289928.819)</td>\n",
       "    </tr>\n",
       "  </tbody>\n",
       "</table>\n",
       "</div>"
      ],
      "text/plain": [
       "                               x             y                        geometry\n",
       "osmid                                                                         \n",
       "67637870229114485  676378.709485  2.291145e+06  POINT (676378.709 2291144.858)\n",
       "67531453228992881  675314.533972  2.289929e+06  POINT (675314.534 2289928.819)"
      ]
     },
     "execution_count": 7,
     "metadata": {},
     "output_type": "execute_result"
    }
   ],
   "source": [
    "# Revisión de indexes\n",
    "print(nodes_gdf.index.names)\n",
    "# Revisión de duplicados en index\n",
    "print(nodes_gdf.index.duplicated().sum())\n",
    "# Revisión de geometrías (Deberían ser puntos)\n",
    "print(nodes_gdf.geom_type.value_counts())\n",
    "\n",
    "nodes_gdf.head(2)"
   ]
  },
  {
   "cell_type": "code",
   "execution_count": 15,
   "id": "38101379-a333-441b-9773-95b10817b099",
   "metadata": {},
   "outputs": [
    {
     "name": "stdout",
     "output_type": "stream",
     "text": [
      "['u', 'v', 'key']\n",
      "0\n",
      "MultiLineString    211959\n",
      "Name: count, dtype: int64\n"
     ]
    },
    {
     "data": {
      "text/html": [
       "<div>\n",
       "<style scoped>\n",
       "    .dataframe tbody tr th:only-of-type {\n",
       "        vertical-align: middle;\n",
       "    }\n",
       "\n",
       "    .dataframe tbody tr th {\n",
       "        vertical-align: top;\n",
       "    }\n",
       "\n",
       "    .dataframe thead th {\n",
       "        text-align: right;\n",
       "    }\n",
       "</style>\n",
       "<table border=\"1\" class=\"dataframe\">\n",
       "  <thead>\n",
       "    <tr style=\"text-align: right;\">\n",
       "      <th></th>\n",
       "      <th></th>\n",
       "      <th></th>\n",
       "      <th>length</th>\n",
       "      <th>geometry</th>\n",
       "    </tr>\n",
       "    <tr>\n",
       "      <th>u</th>\n",
       "      <th>v</th>\n",
       "      <th>key</th>\n",
       "      <th></th>\n",
       "      <th></th>\n",
       "    </tr>\n",
       "  </thead>\n",
       "  <tbody>\n",
       "    <tr>\n",
       "      <th>67637870229114485</th>\n",
       "      <th>67640019229114922</th>\n",
       "      <th>0</th>\n",
       "      <td>22.844750</td>\n",
       "      <td>MULTILINESTRING ((676378.709 2291144.858, 6763...</td>\n",
       "    </tr>\n",
       "    <tr>\n",
       "      <th>67632853229098496</th>\n",
       "      <th>67637870229114485</th>\n",
       "      <th>0</th>\n",
       "      <td>167.579445</td>\n",
       "      <td>MULTILINESTRING ((676328.534 2290984.966, 6763...</td>\n",
       "    </tr>\n",
       "  </tbody>\n",
       "</table>\n",
       "</div>"
      ],
      "text/plain": [
       "                                             length  \\\n",
       "u                 v                 key               \n",
       "67637870229114485 67640019229114922 0     22.844750   \n",
       "67632853229098496 67637870229114485 0    167.579445   \n",
       "\n",
       "                                                                                  geometry  \n",
       "u                 v                 key                                                     \n",
       "67637870229114485 67640019229114922 0    MULTILINESTRING ((676378.709 2291144.858, 6763...  \n",
       "67632853229098496 67637870229114485 0    MULTILINESTRING ((676328.534 2290984.966, 6763...  "
      ]
     },
     "execution_count": 15,
     "metadata": {},
     "output_type": "execute_result"
    }
   ],
   "source": [
    "# Revisión de indexes\n",
    "print(edges_gdf.index.names)\n",
    "# Revisión de duplicados en index\n",
    "print(edges_gdf.index.duplicated().sum())\n",
    "# Revisión de geometrías (Deberían ser lineas)\n",
    "print(edges_gdf.geom_type.value_counts())\n",
    "\n",
    "# Show\n",
    "edges_gdf.head(2)"
   ]
  },
  {
   "cell_type": "code",
   "execution_count": 20,
   "id": "41ca21ca-a6b3-48a1-9f98-ade30b848b36",
   "metadata": {},
   "outputs": [
    {
     "name": "stdout",
     "output_type": "stream",
     "text": [
      "Creating graph...\n"
     ]
    },
    {
     "ename": "ValueError",
     "evalue": "`gdf_edges` must be multi-indexed by `(u, v, key)`.",
     "output_type": "error",
     "traceback": [
      "\u001b[0;31m---------------------------------------------------------------------------\u001b[0m",
      "\u001b[0;31mValueError\u001b[0m                                Traceback (most recent call last)",
      "Cell \u001b[0;32mIn[20], line 2\u001b[0m\n\u001b[1;32m      1\u001b[0m \u001b[38;5;28mprint\u001b[39m(\u001b[38;5;124m'\u001b[39m\u001b[38;5;124mCreating graph...\u001b[39m\u001b[38;5;124m'\u001b[39m)\n\u001b[0;32m----> 2\u001b[0m G \u001b[38;5;241m=\u001b[39m \u001b[43mox\u001b[49m\u001b[38;5;241;43m.\u001b[39;49m\u001b[43mgraph_from_gdfs\u001b[49m\u001b[43m(\u001b[49m\u001b[43mnodes_gdf\u001b[49m\u001b[43m,\u001b[49m\u001b[43m \u001b[49m\u001b[43medges_gdf\u001b[49m\u001b[43m)\u001b[49m\n\u001b[1;32m      3\u001b[0m \u001b[38;5;28mprint\u001b[39m(\u001b[38;5;124mf\u001b[39m\u001b[38;5;124m'\u001b[39m\u001b[38;5;124mConsolidating graph using tolerance of 5 meters...\u001b[39m\u001b[38;5;124m'\u001b[39m)\n\u001b[1;32m      4\u001b[0m \u001b[38;5;66;03m# consolidate graph\u001b[39;00m\n",
      "File \u001b[0;32m/opt/conda/envs/gds/lib/python3.9/site-packages/osmnx/convert.py:306\u001b[0m, in \u001b[0;36mgraph_from_gdfs\u001b[0;34m(gdf_nodes, gdf_edges, graph_attrs)\u001b[0m\n\u001b[1;32m    270\u001b[0m \u001b[38;5;28;01mdef\u001b[39;00m \u001b[38;5;21mgraph_from_gdfs\u001b[39m(\n\u001b[1;32m    271\u001b[0m     gdf_nodes: gpd\u001b[38;5;241m.\u001b[39mGeoDataFrame,\n\u001b[1;32m    272\u001b[0m     gdf_edges: gpd\u001b[38;5;241m.\u001b[39mGeoDataFrame,\n\u001b[1;32m    273\u001b[0m     \u001b[38;5;241m*\u001b[39m,\n\u001b[1;32m    274\u001b[0m     graph_attrs: \u001b[38;5;28mdict\u001b[39m[\u001b[38;5;28mstr\u001b[39m, Any] \u001b[38;5;241m|\u001b[39m \u001b[38;5;28;01mNone\u001b[39;00m \u001b[38;5;241m=\u001b[39m \u001b[38;5;28;01mNone\u001b[39;00m,\n\u001b[1;32m    275\u001b[0m ) \u001b[38;5;241m-\u001b[39m\u001b[38;5;241m>\u001b[39m nx\u001b[38;5;241m.\u001b[39mMultiDiGraph:\n\u001b[1;32m    276\u001b[0m \u001b[38;5;250m    \u001b[39m\u001b[38;5;124;03m\"\"\"\u001b[39;00m\n\u001b[1;32m    277\u001b[0m \u001b[38;5;124;03m    Convert node and edge GeoDataFrames to a MultiDiGraph.\u001b[39;00m\n\u001b[1;32m    278\u001b[0m \n\u001b[0;32m   (...)\u001b[0m\n\u001b[1;32m    304\u001b[0m \u001b[38;5;124;03m    G\u001b[39;00m\n\u001b[1;32m    305\u001b[0m \u001b[38;5;124;03m    \"\"\"\u001b[39;00m\n\u001b[0;32m--> 306\u001b[0m     \u001b[43m_validate_node_edge_gdfs\u001b[49m\u001b[43m(\u001b[49m\u001b[43mgdf_nodes\u001b[49m\u001b[43m,\u001b[49m\u001b[43m \u001b[49m\u001b[43mgdf_edges\u001b[49m\u001b[43m)\u001b[49m\n\u001b[1;32m    308\u001b[0m     \u001b[38;5;66;03m# drop geometry column from gdf_nodes (since we use x and y for geometry\u001b[39;00m\n\u001b[1;32m    309\u001b[0m     \u001b[38;5;66;03m# information), but warn the user if the geometry values differ from the\u001b[39;00m\n\u001b[1;32m    310\u001b[0m     \u001b[38;5;66;03m# coordinates in the x and y columns. this results in a df instead of gdf.\u001b[39;00m\n\u001b[1;32m    311\u001b[0m     \u001b[38;5;28;01mif\u001b[39;00m gdf_nodes\u001b[38;5;241m.\u001b[39mactive_geometry_name \u001b[38;5;129;01mis\u001b[39;00m \u001b[38;5;28;01mNone\u001b[39;00m:  \u001b[38;5;66;03m# pragma: no cover\u001b[39;00m\n",
      "File \u001b[0;32m/opt/conda/envs/gds/lib/python3.9/site-packages/osmnx/convert.py:250\u001b[0m, in \u001b[0;36m_validate_node_edge_gdfs\u001b[0;34m(gdf_nodes, gdf_edges)\u001b[0m\n\u001b[1;32m    248\u001b[0m \u001b[38;5;28;01mif\u001b[39;00m \u001b[38;5;129;01mnot\u001b[39;00m (check1 \u001b[38;5;129;01mand\u001b[39;00m check2):  \u001b[38;5;66;03m# pragma: no cover\u001b[39;00m\n\u001b[1;32m    249\u001b[0m     msg \u001b[38;5;241m=\u001b[39m \u001b[38;5;124m\"\u001b[39m\u001b[38;5;124m`gdf_edges` must be multi-indexed by `(u, v, key)`.\u001b[39m\u001b[38;5;124m\"\u001b[39m\n\u001b[0;32m--> 250\u001b[0m     \u001b[38;5;28;01mraise\u001b[39;00m \u001b[38;5;167;01mValueError\u001b[39;00m(msg)\n\u001b[1;32m    252\u001b[0m \u001b[38;5;66;03m# warn user if geometry values differ from coordinates in x/y columns,\u001b[39;00m\n\u001b[1;32m    253\u001b[0m \u001b[38;5;66;03m# because we discard the geometry column\u001b[39;00m\n\u001b[1;32m    254\u001b[0m \u001b[38;5;28;01mif\u001b[39;00m gdf_nodes\u001b[38;5;241m.\u001b[39mactive_geometry_name \u001b[38;5;129;01mis\u001b[39;00m \u001b[38;5;129;01mnot\u001b[39;00m \u001b[38;5;28;01mNone\u001b[39;00m:  \u001b[38;5;66;03m# pragma: no cover\u001b[39;00m\n",
      "\u001b[0;31mValueError\u001b[0m: `gdf_edges` must be multi-indexed by `(u, v, key)`."
     ]
    }
   ],
   "source": [
    "print('Creating graph...')\n",
    "G = ox.graph_from_gdfs(nodes_gdf, edges_gdf)\n",
    "print(f'Consolidating graph using tolerance of 5 meters...')\n",
    "# consolidate graph\n",
    "G2 = ox.consolidate_intersections(G, rebuild_graph=True, tolerance=5, dead_ends=True)\n",
    "del G #Save space\n",
    "# Extract nodes and edges from consolidated graph\n",
    "cons_nodes, cons_edges = ox.graph_to_gdfs(G2)\n",
    "del G2 #Save space\n",
    "# Format nodes\n",
    "print('Formating nodes...')\n",
    "cons_nodes = cons_nodes.reset_index()\n",
    "cons_nodes = cons_nodes.drop(columns=['osmid'])\n",
    "cons_nodes = cons_nodes.rename(columns={'osmid_original':'osmid'})\n",
    "cons_nodes = cons_nodes.set_index('osmid')\n",
    "# Format edges\n",
    "print('Formating edges...')\n",
    "cons_edges = cons_edges.reset_index()\n",
    "cons_edges = cons_edges.drop(columns=['u','v','index'])\n",
    "cons_edges = cons_edges.rename(columns={'u_original':'u',\n",
    "'v_original':'v'})\n",
    "cons_edges = cons_edges.set_index(['u','v','key'])\n",
    "# Drop column 'index' if present\n",
    "if 'index' in cons_nodes.columns:\n",
    "    cons_nodes = cons_nodes.drop(columns=['index'])\n",
    "if 'index' in cons_edges.columns:\n",
    "    cons_edges = cons_edges.drop(columns=['index'])\n",
    "\n",
    "# Show\n",
    "print(cons_nodes.crs)\n",
    "print(cons_nodes.info())\n",
    "cons_nodes.head(2)"
   ]
  },
  {
   "cell_type": "code",
   "execution_count": 12,
   "id": "64dbdfde-8393-437e-aa51-e1e9d38525e1",
   "metadata": {},
   "outputs": [
    {
     "name": "stdout",
     "output_type": "stream",
     "text": [
      "MultiLineString    211959\n",
      "Name: count, dtype: int64\n"
     ]
    }
   ],
   "source": [
    "print(edges_gdf.geom_type.value_counts())"
   ]
  },
  {
   "cell_type": "markdown",
   "id": "c55c3fdb-5bb0-45b1-9beb-6d082e832601",
   "metadata": {},
   "source": [
    "## Create voronoi polygons using nodes"
   ]
  },
  {
   "cell_type": "code",
   "execution_count": null,
   "id": "55d174cd-cc50-493c-a6d4-9b86509f9f87",
   "metadata": {},
   "outputs": [],
   "source": [
    "print(f\"--- Creating voronois with nodes osmid data.\")\n",
    "\n",
    "#Time start\n",
    "time_1 = time.time()\n",
    "#Process\n",
    "voronois_gdf = src.voronoi_polygons(cons_nodes)\n",
    "#Time end\n",
    "time_2 = time.time()\n",
    "print(f\"TIME: {time_2-time_1} seconds.\")\n",
    "\n",
    "# Show\n",
    "print(voronois_gdf.crs)\n",
    "print(voronois_gdf.info())\n",
    "voronois_gdf.head(2)"
   ]
  },
  {
   "cell_type": "markdown",
   "id": "71ed1157-e338-4785-9598-1fcac84c6f4d",
   "metadata": {},
   "source": [
    "## Assign blocks population data to voronois"
   ]
  },
  {
   "cell_type": "code",
   "execution_count": null,
   "id": "c632b101-04cc-4812-9c79-398dd16bd5ed",
   "metadata": {},
   "outputs": [],
   "source": [
    "print(f\"--- Assigning pop col {pop_col} from blocks to voronois .\")\n",
    "\n",
    "#Time start\n",
    "time_1 = time.time()\n",
    "#Process\n",
    "voronois_pop_gdf = assing_blocks_attribute_to_voronoi(blocks_gdf, voronois_gdf, attribute_column=pop_col)\n",
    "#Time end\n",
    "time_2 = time.time()\n",
    "print(f\"TIME: {time_2-time_1} seconds.\")\n",
    "\n",
    "# Show\n",
    "print(voronois_pop_gdf.shape)\n",
    "voronois_pop_gdf.head(2)"
   ]
  },
  {
   "cell_type": "markdown",
   "id": "e5cb7c9f-d010-4e01-942b-e40c85f1a180",
   "metadata": {},
   "source": [
    "## Calculate pop density in nodes (Using it's voronoi polygon's area)"
   ]
  },
  {
   "cell_type": "code",
   "execution_count": null,
   "id": "bae1ad7a-080c-4a4e-9b56-18f3dc0da44f",
   "metadata": {},
   "outputs": [],
   "source": [
    "print(\"--- Adding density using each voronoi polygon's area.\")\n",
    "# Set crs\n",
    "if voronois_pop_gdf.crs != projected_crs:\n",
    "    voronois_pop_gdf = voronois_pop_gdf.to_crs(projected_crs)\n",
    "# Calculate whole voronoi's area\n",
    "voronois_pop_gdf['area_has'] = voronois_pop_gdf.area/10000\n",
    "# Calculate density\n",
    "voronois_pop_gdf['dens_pob_ha'] = voronois_pop_gdf[pop_col] / voronois_pop_gdf['area_has']\n",
    "\n",
    "# Show\n",
    "print(voronois_pop_gdf.shape)\n",
    "voronois_pop_gdf.head(2)"
   ]
  },
  {
   "cell_type": "markdown",
   "id": "80fe806c-28f2-49d8-a2da-428eceb242e0",
   "metadata": {},
   "source": [
    "## Save voronoi polygons with population and density data"
   ]
  },
  {
   "cell_type": "code",
   "execution_count": null,
   "id": "dbad7642-2431-4e90-9a67-e56ba28d2e37",
   "metadata": {},
   "outputs": [],
   "source": [
    "if local_save:\n",
    "    print(\"--- Saving result locally.\")\n",
    "    voronois_pop_gdf.to_file(output_dir+f\"{city}_voronois_pop_gdf.gpkg\")\n",
    "    print(\"--- Result saved.\")"
   ]
  },
  {
   "cell_type": "code",
   "execution_count": null,
   "id": "84ba7a37-1622-4919-9964-641b482ab026",
   "metadata": {},
   "outputs": [],
   "source": []
  }
 ],
 "metadata": {
  "kernelspec": {
   "display_name": "GDS-10.0",
   "language": "python",
   "name": "gds"
  },
  "language_info": {
   "codemirror_mode": {
    "name": "ipython",
    "version": 3
   },
   "file_extension": ".py",
   "mimetype": "text/x-python",
   "name": "python",
   "nbconvert_exporter": "python",
   "pygments_lexer": "ipython3",
   "version": "3.9.18"
  }
 },
 "nbformat": 4,
 "nbformat_minor": 5
}
