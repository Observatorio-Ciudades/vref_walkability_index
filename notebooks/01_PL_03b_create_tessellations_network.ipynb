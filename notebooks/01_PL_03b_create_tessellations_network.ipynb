{
 "cells": [
  {
   "cell_type": "markdown",
   "id": "add0d34c-5018-4158-b6f1-6e617120fcd8",
   "metadata": {},
   "source": [
    "# 01_PL_03b_create_tessellations_network"
   ]
  },
  {
   "cell_type": "markdown",
   "id": "c86c5daa-58fb-48d8-95c3-1253568f3368",
   "metadata": {},
   "source": [
    "This notebook uses an updated version of network_from_tessellation() in order to __include the 'consolidate' argument__, which triggers the use of function ox.consolidate_intersections() function with a given tolerance."
   ]
  },
  {
   "cell_type": "markdown",
   "id": "a63068a7-3fb5-4b02-960c-3a20bb82e250",
   "metadata": {},
   "source": [
    "## Import libraries"
   ]
  },
  {
   "cell_type": "code",
   "execution_count": null,
   "id": "3cca2b92-f59b-4e9a-b7b5-9991ded90138",
   "metadata": {},
   "outputs": [],
   "source": [
    "first_folder_path = \"../\""
   ]
  },
  {
   "cell_type": "code",
   "execution_count": 1,
   "id": "788d84ca-0e34-49dc-9304-f6ec17874551",
   "metadata": {},
   "outputs": [
    {
     "name": "stderr",
     "output_type": "stream",
     "text": [
      "/home/observatorio/.cache/pypoetry/virtualenvs/vref-walkability-index-z1BTlbCQ-py3.12/lib/python3.12/site-packages/tqdm/auto.py:21: TqdmWarning: IProgress not found. Please update jupyter and ipywidgets. See https://ipywidgets.readthedocs.io/en/stable/user_install.html\n",
      "  from .autonotebook import tqdm as notebook_tqdm\n"
     ]
    }
   ],
   "source": [
    "import geopandas as gpd\n",
    "import pandas as pd\n",
    "\n",
    "import os\n",
    "import sys\n",
    "module_path = os.path.abspath(os.path.join(first_folder_path))\n",
    "if module_path not in sys.path:\n",
    "    sys.path.append(module_path)\n",
    "    import src\n",
    "else:\n",
    "    import src"
   ]
  },
  {
   "cell_type": "markdown",
   "id": "1b157e79-253c-4ab8-8bdf-62a91df119ec",
   "metadata": {},
   "source": [
    "## Main function"
   ]
  },
  {
   "cell_type": "code",
   "execution_count": null,
   "id": "53dd701d-b40e-4f18-b8a2-ddc8b0ea3180",
   "metadata": {},
   "outputs": [],
   "source": [
    "def main(gdf_input_path, crs, gdf_output_path):\n",
    "\n",
    "    # Load the blocks shapefile\n",
    "    print(\"--- Loading blocks shapefile...\")\n",
    "    gdf = gpd.read_file(gdf_input_path)\n",
    "    \n",
    "    # Create the tessellations network\n",
    "    print(\"--- Creating tessellations network...\")\n",
    "    nodes, edges = src.network_from_tessellation(gdf, crs, consolidate=consolidate)\n",
    "    \n",
    "    # Save the tessellations network locally\n",
    "    print(\"--- Saving tessellations network...\")\n",
    "    if consolidate==0: \n",
    "        nodes.to_file(gdf_output_path+\"medellin_tessellations_nodes_before_consolidation.shp\")\n",
    "        edges.to_file(gdf_output_path+\"medellin_tessellations_edges_before_consolidation.shp\")\n",
    "    else:\n",
    "        nodes.to_file(gdf_output_path+f\"medellin_tessellations_nodes_consolidation_{consolidate}m.shp\")\n",
    "        edges.to_file(gdf_output_path+f\"medellin_tessellations_edges_consolidation_{consolidate}m.shp\")"
   ]
  },
  {
   "cell_type": "markdown",
   "id": "d42c08ee-9125-4b2e-9f6b-cc97208a48d2",
   "metadata": {},
   "source": [
    "## Run main function"
   ]
  },
  {
   "cell_type": "code",
   "execution_count": null,
   "id": "748f40be-2a74-4249-a305-a9644cc61d14",
   "metadata": {},
   "outputs": [],
   "source": [
    "# CRS (projected)\n",
    "crs = \"EPSG:32618\" # \"EPSG:32618\" for Medellín, \"EPSG:32613\" for Guadalajara\n",
    "\n",
    "# Consolidate the tessellations network? (True/False, consolidation_tolerance) [Check function ox.consolidate_intersections()]\n",
    "consolidate = (False,0)\n",
    "\n",
    "# Directory where city's blocks shapefile is stored\n",
    "gdf_input_path = first_folder_path + \"data/input/shape/Medellin_blocks_DANE_2018_new/Medellin_blocks_DANE_2018_new.shp\" \n",
    "\n",
    "# Directory (folder) where the resulting tessellations network will be stored\n",
    "gdf_output_path = first_folder_path + \"data/output/shape/network_tessellations/medellin/\"\n",
    "\n",
    "# Run main function\n",
    "main(gdf_input_path, crs, gdf_output_path)"
   ]
  }
 ],
 "metadata": {
  "kernelspec": {
   "display_name": "Python 3 (ipykernel)",
   "language": "python",
   "name": "python3"
  },
  "language_info": {
   "codemirror_mode": {
    "name": "ipython",
    "version": 3
   },
   "file_extension": ".py",
   "mimetype": "text/x-python",
   "name": "python",
   "nbconvert_exporter": "python",
   "pygments_lexer": "ipython3",
   "version": "3.12.3"
  }
 },
 "nbformat": 4,
 "nbformat_minor": 5
}
