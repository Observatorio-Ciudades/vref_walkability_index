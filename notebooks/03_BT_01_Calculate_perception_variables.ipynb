{
 "cells": [
  {
   "cell_type": "markdown",
   "id": "9b7c0724",
   "metadata": {},
   "source": [
    "# Importaciones"
   ]
  },
  {
   "cell_type": "code",
   "execution_count": 1,
   "id": "68e80782",
   "metadata": {},
   "outputs": [
    {
     "name": "stderr",
     "output_type": "stream",
     "text": [
      "c:\\Users\\Laura\\anaconda3\\envs\\ox_eafit\\Lib\\site-packages\\tqdm\\auto.py:21: TqdmWarning: IProgress not found. Please update jupyter and ipywidgets. See https://ipywidgets.readthedocs.io/en/stable/user_install.html\n",
      "  from .autonotebook import tqdm as notebook_tqdm\n"
     ]
    }
   ],
   "source": [
    "import pandas as pd\n",
    "import numpy as np\n",
    "# from sklearn.preprocessing import OrdinalEncoder\n",
    "\n",
    "import os\n",
    "import sys\n",
    "\n",
    "module_path = os.path.abspath(os.path.join('../'))\n",
    "if module_path not in sys.path:\n",
    "    sys.path.append(module_path)\n",
    "\n",
    "import src.analysis as an"
   ]
  },
  {
   "cell_type": "markdown",
   "id": "42177fe0",
   "metadata": {},
   "source": [
    "# Lectura de los datos"
   ]
  },
  {
   "cell_type": "code",
   "execution_count": 2,
   "id": "344954f7",
   "metadata": {},
   "outputs": [],
   "source": [
    "# Carga el archivo xlsx\n",
    "medellin_csv = \"../data/output/table/encuestas/Encuesta caminata (Medellín)(1-613).xlsx\"\n",
    "\n",
    "# Lee el archivo CSV en un DataFrame\n",
    "df_medellin = pd.read_excel(medellin_csv)"
   ]
  },
  {
   "cell_type": "code",
   "execution_count": 3,
   "id": "b08a4126",
   "metadata": {},
   "outputs": [],
   "source": [
    "# Carga el archivo CSV\n",
    "guadalajara_csv = \"../data/output/table/encuestas/Encuesta caminata (Guadalajara)(1-553).xlsx\"\n",
    "\n",
    "# Lee el archivo CSV en un DataFrame\n",
    "df_guadalajara = pd.read_excel(guadalajara_csv)"
   ]
  },
  {
   "cell_type": "markdown",
   "id": "a6cb67f0",
   "metadata": {},
   "source": [
    "## Eliminación de encuestas de Valentina Vasquez"
   ]
  },
  {
   "cell_type": "code",
   "execution_count": 4,
   "id": "5e171a1a",
   "metadata": {},
   "outputs": [
    {
     "name": "stdout",
     "output_type": "stream",
     "text": [
      "613\n",
      "535\n"
     ]
    }
   ],
   "source": [
    "print(len(df_medellin))\n",
    "df_medellin = df_medellin[df_medellin['Encuestador']!='Valentina_Vasquez']\n",
    "print(len(df_medellin))"
   ]
  },
  {
   "cell_type": "markdown",
   "id": "e86d38f8",
   "metadata": {},
   "source": [
    "## Eliminación de columnas que no son de nuestro interés\n",
    "No se tienen en cuenta personas con discapacidad, y personas que no hacen uso de ningún equipamiento"
   ]
  },
  {
   "cell_type": "code",
   "execution_count": 5,
   "id": "7fcec26a",
   "metadata": {},
   "outputs": [],
   "source": [
    "df_medellin = df_medellin[df_medellin['¿Hace uso de algún equipamiento/sitio de interés localizado en el sector/territorio?'] == 'Si']\n",
    "df_guadalajara = df_guadalajara[df_guadalajara['¿Hace uso de algún equipamiento/sitio de interés localizado en el sector/territorio?'] == 'Si']\n",
    "\n",
    "df_medellin = df_medellin[df_medellin['¿Se encuentra usted en alguna condición de discapacidad?'] != 'Si']\n",
    "df_guadalajara = df_guadalajara[df_guadalajara['¿Se encuentra usted en alguna condición de discapacidad?'] != 'Si']\n",
    "# df_medellin = df_medellin.drop(columns=['ID', 'Hora de inicio', 'Correo electrónico', 'Nombre', 'Hora de la última modificación', \n",
    "df_medellin = df_medellin.drop(columns=['Hora de inicio', 'Correo electrónico', 'Nombre', 'Hora de la última modificación',\n",
    "                    'Fecha de realización', 'Encuestador', 'Encuesta #', 'Hora de finalización', \n",
    "                    'Lugar donde se realizó la encuesta',\n",
    "                    'Lugar donde se realizó la encuesta (Moravia)', 'Lugar donde se realizó la encuesta (Floresta)', \n",
    "                    'Lugar donde se realizó la encuesta (Aguacatala)',\n",
    "                    '¿Hace uso de algún equipamiento/sitio de interés localizado en el sector/territorio?', ##\n",
    "                    '¿Cómo suple las necesidades de equipamientos educativos?', ##\n",
    "                    '¿Cómo suple las necesidades de equipamientos de cultura o deportivos?', ##\n",
    "                    '¿Se encuentra usted en alguna condición de discapacidad?', ###\n",
    "                    'Indique cuál de las siguientes condiciones de discapacidad presenta', ###\n",
    "                    'Indique el lugar donde inició de su recorrido lo más preciso posible (Punto de referencia, intersección más cercana)', \n",
    "                    'Indique la hora de salida de su lugar de origen de recorrido (formato militar)', 'Ingrese los minutos de salida', \n",
    "                    'Indique el lugar de destino de su recorrido lo más precios posible (Punto de referencia, intersección más cercana) (old)',\n",
    "                    'Indique el lugar de destino de su recorrido',\n",
    "                    '¿Cuánto tiempo le tomó el recorrido caminando para legar a su lugar de destino? (Ingresar en minutos)', \n",
    "                    'Describa la ruta que tomó para este último viaje desde su lugar de origen hasta su lugar de destino. Puede utilizar direcciones y/o lugares conocidos de referencia para facilitar la identificación...'], ###\n",
    "                               axis=1)\n",
    "df_guadalajara = df_guadalajara.drop(columns=['ID', 'Hora de inicio', 'Correo electrónico', 'Nombre', 'Hora de la última modificación', \n",
    "                    'Fecha de realización', 'Encuestador', 'Encuesta #', 'Hora de finalización',\n",
    "                    '¿Hace uso de algún equipamiento/sitio de interés localizado en el sector/territorio?', ##\n",
    "                    '¿Cómo suple las necesidades de equipamientos educativos?', ##\n",
    "                    '¿Cómo suple las necesidades de equipamientos de cultura o deportivos?', ##\n",
    "                    'Estrato socioeconómico (NO APLICA)', # Está lleno de NaN\n",
    "                    '¿Se encuentra usted en alguna condición de discapacidad?', ###\n",
    "                    'Indique cuál de las siguientes condiciones de discapacidad presenta', ###\n",
    "                    'Indique el lugar donde inició de su recorrido lo más preciso posible (Punto de referencia, intersección más cercana)', \n",
    "                    'Indique la hora de salida de su lugar de origen de recorrido (formato militar)', 'Ingrese los minutos de salida', \n",
    "                    'Indique el lugar de destino de su recorrido lo más precios posible (Punto de referencia, intersección más cercana)', \n",
    "                    '¿Cuánto tiempo le tomó el recorrido caminando para legar a su lugar de destino? (Ingresar en minutos)', \n",
    "                    'Describa la ruta que tomó para este último viaje desde su lugar de origen hasta su lugar de destino. Puede utilizar direcciones y/o lugares conocidos de referencia para facilitar la identificación...'], ###\n",
    "                               axis=1)"
   ]
  },
  {
   "cell_type": "code",
   "execution_count": 6,
   "id": "bf351648",
   "metadata": {},
   "outputs": [
    {
     "name": "stdout",
     "output_type": "stream",
     "text": [
      "(502, 45)\n",
      "(462, 44)\n"
     ]
    }
   ],
   "source": [
    "print(df_medellin.shape)\n",
    "print(df_guadalajara.shape)"
   ]
  },
  {
   "cell_type": "markdown",
   "id": "18a4a161",
   "metadata": {},
   "source": [
    "# Estandarización de formatos"
   ]
  },
  {
   "cell_type": "code",
   "execution_count": 7,
   "id": "86efeef4",
   "metadata": {},
   "outputs": [],
   "source": [
    "# Para dataframe de guadalajara\n",
    "nombres_nuevos = {\n",
    "    'Estrato socioeconómico (NO APLICA)': 'Estrato socioeconómico',\n",
    "    'La cercanía del equipamiento X': 'Qué tan importante es para usted la cercanía del equipamiento X',\n",
    "    'La presencia de andenes': 'Qué tan importante es para usted la presencia de andenes',\n",
    "    'Sentirme seguro/a frente a otros vehículos': 'Qué tan importante es para usted sentirse seguro/a frente a otros vehículos',\n",
    "    'Sentirme seguro/a frente a posibles delitos en mi trayecto': 'Qué tan importante es para usted sentirse seguro/a frente a posibles delitos en su trayecto',\n",
    "    'La posibilidad de hacer múltiples vueltas/trámites en mi recorrido': 'Qué tan importante es para usted la posibilidad de hacer múltiples vueltas/trámites en su recorrido',\n",
    "    'La posibilidad de poder tomar desvíos y hacer múltiples trayectos en mi recorrido': 'Qué tan importante es para usted la posibilidad de poder tomar desvíos y hacer múltiples trayectos en su recorrido',\n",
    "    'Sentirme cómodo/a por la sombra generada por la vegetación': 'Qué tan importante es para usted sentirse cómodo/a por la sombra generada por la vegetación',\n",
    "    'Sentirme cómodo/a en términos de la cantidad de gente a lo largo de mi recorrido': 'Qué tan importante es para usted sentirse cómodo/a en términos de la cantidad de gente a lo largo de mi recorrido',\n",
    "    'Que el paisaje sea agradable': 'Qué tan importante es para usted que el paisaje sea agradable',\n",
    "    'Column': '36. A lo largo de su recorrido, ¿Sientes que hay personas a tu alrededor que pudieran apoyarte en caso de algún problema?',\n",
    "    '2': '37. A lo largo de su recorrido, ¿Sientes que hay diversas intersecciones que te permiten cruzar las calles de manera segura?',\n",
    "    '3': '38. ¿Se te hace largo y aburrido el recorrido?',\n",
    "    '4': '39. A lo largo de tu recorrido, ¿Es posible desviarse en múltiples puntos/intersecciones para cambiar de ruta?',\n",
    "    '5': '40. A lo largo de tu recorrido, ¿Puedes aprovechar para acceder a múltiples servicios y satisfacer necesidades diversas (realizar vueltas/pendientes, comprar alimentos, divertirse, etc.)?',\n",
    "    '6': '41. A lo largo de tu recorrido, ¿Sientes que la comodidad en tu caminar se ve influenciada por la cantidad de personas y actividades que se realizan en el andén?',\n",
    "    '7': '42. A lo largo de tu recorrido, ¿Encuentras elementos que hacen que tu caminata sea poco monótona?',\n",
    "    '8': '43. A lo largo de tu recorrido, ¿Sientes que el tipo de vegetación te genera sombra y protección del sol?',\n",
    "    '9': '44. A lo largo de tu recorrido, ¿Sientes que la presencia y el tipo de vegetación crea un entorno agradable?',\n",
    "    '10': '45. A lo largo de tu recorrido, ¿Consideras que el hecho de caminar te implicó un gran esfuerzo físico debido a la pendiente/inclinación?',\n",
    "    '11': '46. A lo largo de tu recorrido, ¿Te sientes seguro(a) ante la presencia de vehículos?',\n",
    "    '12': '47. A lo largo de tu recorrido, ¿Sientes que la continuidad de andenes te permite caminar de manera cómoda (no hay: cambios de niveles, interrupciones repentinas del andén, presencia de obstáculos, cambios en el ancho del andén, etc.)?',\n",
    "    '¿Cuáles?': '¿Cuáles equipamientos de interés en el sector utilizas?'\n",
    "}\n",
    "\n",
    "# Renombrar las columnas específicas  \n",
    "df_guadalajara.rename(columns=nombres_nuevos, inplace=True)\n",
    "df_medellin.rename(columns=nombres_nuevos, inplace=True)"
   ]
  },
  {
   "cell_type": "markdown",
   "id": "fd6ab9bf",
   "metadata": {},
   "source": [
    "# División por caminantes y no caminantes"
   ]
  },
  {
   "cell_type": "code",
   "execution_count": 8,
   "id": "3c15d277",
   "metadata": {},
   "outputs": [],
   "source": [
    "med_caminantes = df_medellin[df_medellin[\"¿Qué medio de transporte utilizó para llegar al equipamiento X? (último viaje realizado)\"] == \"Caminata\"]\n",
    "med_no_caminantes = df_medellin[df_medellin[\"¿Qué medio de transporte utilizó para llegar al equipamiento X? (último viaje realizado)\"] != \"Caminata\"]\n",
    "\n",
    "gua_caminantes = df_guadalajara[df_guadalajara[\"¿Qué medio de transporte utilizó para llegar al equipamiento X? (último viaje realizado)\"] == \"Caminata\"]\n",
    "gua_no_caminantes = df_guadalajara[df_guadalajara[\"¿Qué medio de transporte utilizó para llegar al equipamiento X? (último viaje realizado)\"] != \"Caminata\"]"
   ]
  },
  {
   "cell_type": "code",
   "execution_count": 9,
   "id": "040a8494",
   "metadata": {},
   "outputs": [
    {
     "name": "stdout",
     "output_type": "stream",
     "text": [
      "(502, 45)\n",
      "(403, 45)\n",
      "(99, 45)\n"
     ]
    }
   ],
   "source": [
    "print(df_medellin.shape)\n",
    "print(med_caminantes.shape)\n",
    "print(med_no_caminantes.shape)"
   ]
  },
  {
   "cell_type": "markdown",
   "id": "f57b4d2a",
   "metadata": {},
   "source": [
    "Eliminación de columnas no acordes con los caminantes"
   ]
  },
  {
   "cell_type": "code",
   "execution_count": 10,
   "id": "4ae1c113",
   "metadata": {},
   "outputs": [],
   "source": [
    "# Se elimina campo de transporte porque ya se filtró,\n",
    "# y se eliminan columnas asociadas a personas que usan otro medio de transporte\n",
    "med_caminantes = med_caminantes.drop(columns=['¿Qué medio de transporte utilizó para llegar al equipamiento X? (último viaje realizado)',\n",
    "                                            'En una semana típica, ¿Cuántas veces realiza este mismo viaje utilizando el mismo modo de transporte?',\n",
    "                                            'Debido a la lejanía del equipamiento X', 'Debido a la ausencia de andenes',\n",
    "                                            'Porque no me siento seguro/a frente a otros vehículos', \n",
    "                                            'Porque no me siento seguro/a frente a posibles delitos en mi trayecto', \n",
    "                                            'Debido al esfuerzo que debo hacer a causa de la pendiente de las calles', \n",
    "                                            'Debido a que no me siento cómodo/a por el calor', 'Debido a que siento que los andenes muy saturados de gente', \n",
    "                                            'Debido a que el paisaje a lo largo del recorrido no es agradable'], axis=1)\n",
    "# Se elimina campo de transporte porque ya se filtró,\n",
    "# y se eliminan columnas asociadas a personas que usan otro medio de transporte\n",
    "gua_caminantes = gua_caminantes.drop(columns=['¿Qué medio de transporte utilizó para llegar al equipamiento X? (último viaje realizado)',\n",
    "                                            'En una semana típica, ¿Cuántas veces realiza este mismo viaje utilizando el mismo modo de transporte?',\n",
    "                                            'Debido a la lejanía del equipamiento X', 'Debido a la ausencia de andenes',\n",
    "                                            'Porque no me siento seguro/a frente a otros vehículos', \n",
    "                                            'Porque no me siento seguro/a frente a posibles delitos en mi trayecto', \n",
    "                                            'Debido al esfuerzo que debo hacer a causa de la pendiente de las calles', \n",
    "                                            'Debido a que no me siento cómodo/a por el calor', 'Debido a que siento que los andenes muy saturados de gente', \n",
    "                                            'Debido a que el paisaje a lo largo del recorrido no es agradable'], axis=1)"
   ]
  },
  {
   "cell_type": "code",
   "execution_count": 11,
   "id": "e680159b",
   "metadata": {},
   "outputs": [
    {
     "name": "stdout",
     "output_type": "stream",
     "text": [
      "(403, 35)\n",
      "(178, 34)\n"
     ]
    }
   ],
   "source": [
    "med_caminantes.dropna(axis=0, inplace=True)\n",
    "gua_caminantes.dropna(axis=0, inplace=True)\n",
    "print(med_caminantes.shape)\n",
    "print(gua_caminantes.shape)"
   ]
  },
  {
   "cell_type": "code",
   "execution_count": 12,
   "id": "9ab3238c",
   "metadata": {},
   "outputs": [
    {
     "name": "stdout",
     "output_type": "stream",
     "text": [
      "0\n",
      "0\n"
     ]
    }
   ],
   "source": [
    "print(med_caminantes.isnull().sum().sum())\n",
    "print(gua_caminantes.isnull().sum().sum())"
   ]
  },
  {
   "cell_type": "markdown",
   "id": "81bdfd60",
   "metadata": {},
   "source": [
    "# Corrección de Formatos\n",
    "Convertir a numérico"
   ]
  },
  {
   "cell_type": "code",
   "execution_count": 13,
   "id": "cfec77ca",
   "metadata": {},
   "outputs": [],
   "source": [
    "lista_columnas = [\"Género\", \"Edad (años)\", \"Estrato socioeconómico\", \"Nivel educativo completado\", \"En una semana típica, ¿Cuántas veces realiza este mismo viaje utilizando la caminata como modo de transporte? (CAMINATA)\"]\n",
    "orden = [['Femenino','Masculino'], \n",
    "         ['10-19', '20-29', '30-39', '40-49', '50-59', 'Mayor a 60'], \n",
    "         ['E1', 'E2', 'E3', 'E4', 'E5', 'E6'], \n",
    "         ['Ninguno', 'Primaria', 'Secundaria', 'Técnico', 'Tecnológico', 'Pregrado', 'Posgrado'], \n",
    "         ['Muy poco frecuente', '1', '2', '3', '4', '5 o más']]\n",
    "\n",
    "for i, columna in enumerate(lista_columnas):\n",
    "    med_caminantes = an.ordinal_encoding(med_caminantes, columna, orden[i])\n",
    "    if columna != \"Estrato socioeconómico\":\n",
    "        gua_caminantes = an.ordinal_encoding(gua_caminantes, columna, orden[i])"
   ]
  },
  {
   "cell_type": "code",
   "execution_count": 14,
   "id": "40e4206c",
   "metadata": {},
   "outputs": [],
   "source": [
    "med_caminantes = med_caminantes.rename(columns={'Edad (años)': 'Rango edad (10 años)'})\n",
    "med_caminantes = med_caminantes.rename(columns={'¿Cuáles?': '¿Cuáles equipamientos de interés en el sector utilizas?'})\n",
    "\n",
    "gua_caminantes = gua_caminantes.rename(columns={'Edad (años)': 'Rango edad (10 años)'})\n",
    "gua_caminantes = gua_caminantes.rename(columns={'¿Cuáles?': '¿Cuáles equipamientos de interés en el sector utilizas?'})"
   ]
  },
  {
   "cell_type": "markdown",
   "id": "ff911988",
   "metadata": {},
   "source": [
    "## Corrección de preguntas de importancia y percepción\n",
    "Trasladar a rango (0,1)"
   ]
  },
  {
   "cell_type": "code",
   "execution_count": 15,
   "id": "42ab6509",
   "metadata": {},
   "outputs": [],
   "source": [
    "# Pasar de datos cualitativos a cuantitativos en el rango [0,1]\n",
    "columnas_importancia = ['Qué tan importante es para usted la cercanía del equipamiento X', \n",
    "                       'Qué tan importante es para usted la presencia de andenes', \n",
    "                       'Qué tan importante es para usted sentirse seguro/a frente a otros vehículos', \n",
    "                       'Qué tan importante es para usted sentirse seguro/a frente a posibles delitos en su trayecto', \n",
    "                       'Qué tan importante es para usted la posibilidad de hacer múltiples vueltas/trámites en su recorrido', \n",
    "                       'Qué tan importante es para usted la posibilidad de poder tomar desvíos y hacer múltiples trayectos en su recorrido', \n",
    "                       'Qué tan importante es para usted sentirse cómodo/a por la sombra generada por la vegetación', \n",
    "                       'Qué tan importante es para usted sentirse cómodo/a en términos de la cantidad de gente a lo largo de mi recorrido', \n",
    "                       'Qué tan importante es para usted que el paisaje sea agradable']\n",
    "# Defino la jerarquía u orden de las categorías, de menor a mayor\n",
    "# (el número que se le asignará a cada uno dependerá de esto: 0 al primer elemento, 1 al segundo, etc...)\n",
    "orden = ['No es importante', 'Es poco importante', 'Moderadamente importante', 'Importante',   'Muy importante']\n",
    "    \n",
    "for columna in columnas_importancia:\n",
    "    med_caminantes = an.ordinal_encoding(med_caminantes, columna, orden)\n",
    "    med_caminantes[columna] = med_caminantes[columna]*0.25\n",
    "    med_caminantes[columna] = pd.to_numeric(med_caminantes[columna])\n",
    "    \n",
    "    gua_caminantes = an.ordinal_encoding(gua_caminantes, columna, orden)\n",
    "    gua_caminantes[columna] = gua_caminantes[columna]*0.25\n",
    "    gua_caminantes[columna] = pd.to_numeric(gua_caminantes[columna])"
   ]
  },
  {
   "cell_type": "code",
   "execution_count": 16,
   "id": "1b71aea7",
   "metadata": {},
   "outputs": [],
   "source": [
    "# Pasar de datos cualitativos a cuantitativos en el rango [0,1]\n",
    "columnas_percepcion = ['36. A lo largo de su recorrido, ¿Sientes que hay personas a tu alrededor que pudieran apoyarte en caso de algún problema?', \n",
    "                       '37. A lo largo de su recorrido, ¿Sientes que hay diversas intersecciones que te permiten cruzar las calles de manera segura?', \n",
    "                       '38. ¿Se te hace largo y aburrido el recorrido?', \n",
    "                       '39. A lo largo de tu recorrido, ¿Es posible desviarse en múltiples puntos/intersecciones para cambiar de ruta?', \n",
    "                       '40. A lo largo de tu recorrido, ¿Puedes aprovechar para acceder a múltiples servicios y satisfacer necesidades diversas (realizar vueltas/pendientes, comprar alimentos, divertirse, etc.)?', \n",
    "                       '41. A lo largo de tu recorrido, ¿Sientes que la comodidad en tu caminar se ve influenciada por la cantidad de personas y actividades que se realizan en el andén?', \n",
    "                       '42. A lo largo de tu recorrido, ¿Encuentras elementos que hacen que tu caminata sea poco monótona?', \n",
    "                       '43. A lo largo de tu recorrido, ¿Sientes que el tipo de vegetación te genera sombra y protección del sol?', \n",
    "                       '44. A lo largo de tu recorrido, ¿Sientes que la presencia y el tipo de vegetación crea un entorno agradable?', \n",
    "                       '45. A lo largo de tu recorrido, ¿Consideras que el hecho de caminar te implicó un gran esfuerzo físico debido a la pendiente/inclinación?', \n",
    "                       '46. A lo largo de tu recorrido, ¿Te sientes seguro(a) ante la presencia de vehículos?', \n",
    "                       '47. A lo largo de tu recorrido, ¿Sientes que la continuidad de andenes te permite caminar de manera cómoda (no hay: cambios de niveles, interrupciones repentinas del andén, presencia de obstáculos, cambios en el ancho del andén, etc.)?']\n",
    "\n",
    "# Defino la jerarquía u orden de las categorías, de menor a mayor\n",
    "# (el número que se le asignará a cada uno dependerá de esto: 0 al primer elemento, 1 al segundo, etc...)\n",
    "orden = ['Totalmente en desacuerdo', 'En desacuerdo', 'Ni de acuerdo, ni en desacuerdo', 'De acuerdo', 'Totalmente de acuerdo']\n",
    "    \n",
    "for columna in columnas_percepcion:\n",
    "    med_caminantes = an.ordinal_encoding(med_caminantes, columna, orden)\n",
    "    med_caminantes[columna] = med_caminantes[columna]*0.25\n",
    "    med_caminantes[columna] = pd.to_numeric(med_caminantes[columna])\n",
    "    \n",
    "    gua_caminantes = an.ordinal_encoding(gua_caminantes, columna, orden)\n",
    "    gua_caminantes[columna] = gua_caminantes[columna]*0.25\n",
    "    gua_caminantes[columna] = pd.to_numeric(gua_caminantes[columna])"
   ]
  },
  {
   "cell_type": "markdown",
   "id": "5c8a36d0",
   "metadata": {},
   "source": [
    "Corregir sentido de preguntas, para que todas aporten al índice de forma positiva"
   ]
  },
  {
   "cell_type": "code",
   "execution_count": 17,
   "id": "9b3869f2",
   "metadata": {},
   "outputs": [],
   "source": [
    "med_caminantes['38. ¿Se te hace largo y aburrido el recorrido?'] = 1 - med_caminantes['38. ¿Se te hace largo y aburrido el recorrido?']\n",
    "med_caminantes = med_caminantes.rename(columns={'38. ¿Se te hace largo y aburrido el recorrido?': '38. ¿Se te hace corto y agradable el recorrido?'})\n",
    "med_caminantes['41. A lo largo de tu recorrido, ¿Sientes que la comodidad en tu caminar se ve influenciada por la cantidad de personas y actividades que se realizan en el andén?'] = 1 - med_caminantes['41. A lo largo de tu recorrido, ¿Sientes que la comodidad en tu caminar se ve influenciada por la cantidad de personas y actividades que se realizan en el andén?']\n",
    "med_caminantes = med_caminantes.rename(columns={'41. A lo largo de tu recorrido, ¿Sientes que la comodidad en tu caminar se ve influenciada por la cantidad de personas y actividades que se realizan en el andén?': '41. A lo largo de tu recorrido, ¿Sientes que la comodidad en tu caminar NO se ve influenciada por la cantidad de personas y actividades que se realizan en el andén?'})\n",
    "med_caminantes['45. A lo largo de tu recorrido, ¿Consideras que el hecho de caminar te implicó un gran esfuerzo físico debido a la pendiente/inclinación?'] = 1 - med_caminantes['45. A lo largo de tu recorrido, ¿Consideras que el hecho de caminar te implicó un gran esfuerzo físico debido a la pendiente/inclinación?']\n",
    "med_caminantes = med_caminantes.rename(columns={'45. A lo largo de tu recorrido, ¿Consideras que el hecho de caminar te implicó un gran esfuerzo físico debido a la pendiente/inclinación?': '45. A lo largo de tu recorrido, ¿Consideras que el hecho de caminar NO te implicó un gran esfuerzo físico debido a la pendiente/inclinación?'})\n",
    "\n",
    "gua_caminantes['38. ¿Se te hace largo y aburrido el recorrido?'] = 1 - gua_caminantes['38. ¿Se te hace largo y aburrido el recorrido?']\n",
    "gua_caminantes = gua_caminantes.rename(columns={'38. ¿Se te hace largo y aburrido el recorrido?': '38. ¿Se te hace corto y agradable el recorrido?'})\n",
    "gua_caminantes['41. A lo largo de tu recorrido, ¿Sientes que la comodidad en tu caminar se ve influenciada por la cantidad de personas y actividades que se realizan en el andén?'] = 1 - gua_caminantes['41. A lo largo de tu recorrido, ¿Sientes que la comodidad en tu caminar se ve influenciada por la cantidad de personas y actividades que se realizan en el andén?']\n",
    "gua_caminantes = gua_caminantes.rename(columns={'41. A lo largo de tu recorrido, ¿Sientes que la comodidad en tu caminar se ve influenciada por la cantidad de personas y actividades que se realizan en el andén?': '41. A lo largo de tu recorrido, ¿Sientes que la comodidad en tu caminar NO se ve influenciada por la cantidad de personas y actividades que se realizan en el andén?'})\n",
    "gua_caminantes['45. A lo largo de tu recorrido, ¿Consideras que el hecho de caminar te implicó un gran esfuerzo físico debido a la pendiente/inclinación?'] = 1 - gua_caminantes['45. A lo largo de tu recorrido, ¿Consideras que el hecho de caminar te implicó un gran esfuerzo físico debido a la pendiente/inclinación?']\n",
    "gua_caminantes = gua_caminantes.rename(columns={'45. A lo largo de tu recorrido, ¿Consideras que el hecho de caminar te implicó un gran esfuerzo físico debido a la pendiente/inclinación?': '45. A lo largo de tu recorrido, ¿Consideras que el hecho de caminar NO te implicó un gran esfuerzo físico debido a la pendiente/inclinación?'})"
   ]
  },
  {
   "cell_type": "markdown",
   "id": "1a60fb2d",
   "metadata": {},
   "source": [
    "Guardar nombre de columnas en listas"
   ]
  },
  {
   "cell_type": "code",
   "execution_count": 18,
   "id": "db64c087",
   "metadata": {},
   "outputs": [],
   "source": [
    "columnas_importancia = ['Qué tan importante es para usted sentirse seguro/a frente a posibles delitos en su trayecto',\n",
    "\n",
    "                        'Qué tan importante es para usted la posibilidad de poder tomar desvíos y hacer múltiples trayectos en su recorrido', \n",
    " \n",
    "                        'Qué tan importante es para usted la posibilidad de hacer múltiples vueltas/trámites en su recorrido',\n",
    "                        'Qué tan importante es para usted sentirse cómodo/a en términos de la cantidad de gente a lo largo de mi recorrido',\n",
    "                        \n",
    "                        'Qué tan importante es para usted sentirse cómodo/a por la sombra generada por la vegetación', \n",
    "                        'Qué tan importante es para usted que el paisaje sea agradable',    \n",
    "                        \n",
    "                        'Qué tan importante es para usted sentirse seguro/a frente a otros vehículos', \n",
    "                        'Qué tan importante es para usted la presencia de andenes',\n",
    "                        \n",
    "                        'Qué tan importante es para usted la cercanía del equipamiento X']\n",
    "\n",
    "columnas_percepcion = ['36. A lo largo de su recorrido, ¿Sientes que hay personas a tu alrededor que pudieran apoyarte en caso de algún problema?', \n",
    "                       \n",
    "                       '37. A lo largo de su recorrido, ¿Sientes que hay diversas intersecciones que te permiten cruzar las calles de manera segura?', \n",
    "                       '38. ¿Se te hace corto y agradable el recorrido?', \n",
    "                       '39. A lo largo de tu recorrido, ¿Es posible desviarse en múltiples puntos/intersecciones para cambiar de ruta?', \n",
    "                       \n",
    "                       '40. A lo largo de tu recorrido, ¿Puedes aprovechar para acceder a múltiples servicios y satisfacer necesidades diversas (realizar vueltas/pendientes, comprar alimentos, divertirse, etc.)?', \n",
    "                       '41. A lo largo de tu recorrido, ¿Sientes que la comodidad en tu caminar NO se ve influenciada por la cantidad de personas y actividades que se realizan en el andén?', \n",
    "                       '42. A lo largo de tu recorrido, ¿Encuentras elementos que hacen que tu caminata sea poco monótona?', \n",
    "                       \n",
    "                       '43. A lo largo de tu recorrido, ¿Sientes que el tipo de vegetación te genera sombra y protección del sol?', \n",
    "                       '44. A lo largo de tu recorrido, ¿Sientes que la presencia y el tipo de vegetación crea un entorno agradable?', \n",
    "                       \n",
    "                       '45. A lo largo de tu recorrido, ¿Consideras que el hecho de caminar NO te implicó un gran esfuerzo físico debido a la pendiente/inclinación?', \n",
    "                       \n",
    "                       '46. A lo largo de tu recorrido, ¿Te sientes seguro(a) ante la presencia de vehículos?', \n",
    "                       '47. A lo largo de tu recorrido, ¿Sientes que la continuidad de andenes te permite caminar de manera cómoda (no hay: cambios de niveles, interrupciones repentinas del andén, presencia de obstáculos, cambios en el ancho del andén, etc.)?']"
   ]
  },
  {
   "cell_type": "markdown",
   "id": "57d8e7fd",
   "metadata": {},
   "source": [
    "# Betas Medellin"
   ]
  },
  {
   "cell_type": "code",
   "execution_count": 19,
   "id": "cc1d026c",
   "metadata": {},
   "outputs": [
    {
     "name": "stdout",
     "output_type": "stream",
     "text": [
      "TA_Moravia perception\n",
      "    variable    beta\n",
      "0    den_pop  0.6813\n",
      "1  den_inter  0.6708\n",
      "2   land_use  0.5865\n",
      "3   ind_ndvi  0.6326\n",
      "4  grade_abs  0.7032\n",
      "5   sidewalk  0.6059\n",
      "TA_Moravia importance\n",
      "    variable    beta\n",
      "0    den_pop  0.6546\n",
      "1  den_inter  0.5935\n",
      "2   land_use  0.6393\n",
      "3   ind_ndvi  0.7176\n",
      "4   sidewalk  0.7214\n",
      "TA_Floresta perception\n",
      "    variable    beta\n",
      "0    den_pop  0.6198\n",
      "1  den_inter  0.7422\n",
      "2   land_use  0.5634\n",
      "3   ind_ndvi  0.7279\n",
      "4  grade_abs  0.7969\n",
      "5   sidewalk  0.6120\n",
      "TA_Floresta importance\n",
      "    variable    beta\n",
      "0    den_pop  0.8021\n",
      "1  den_inter  0.6094\n",
      "2   land_use  0.6471\n",
      "3   ind_ndvi  0.7721\n",
      "4   sidewalk  0.7995\n",
      "TA_Aguacatala perception\n",
      "    variable    beta\n",
      "0    den_pop  0.6167\n",
      "1  den_inter  0.6741\n",
      "2   land_use  0.5093\n",
      "3   ind_ndvi  0.7583\n",
      "4  grade_abs  0.7833\n",
      "5   sidewalk  0.6944\n",
      "TA_Aguacatala importance\n",
      "    variable    beta\n",
      "0    den_pop  0.8944\n",
      "1  den_inter  0.5167\n",
      "2   land_use  0.6333\n",
      "3   ind_ndvi  0.6694\n",
      "4   sidewalk  0.8750\n"
     ]
    }
   ],
   "source": [
    "TAs = ['TA_Moravia','TA_Floresta','TA_Aguacatala']\n",
    "\n",
    "# TA = TAs[0]\n",
    "for TA in TAs:\n",
    "    \n",
    "    # Filtrar por el territorio de analisis\n",
    "    TA_caminantes = med_caminantes[med_caminantes[\"Territorio de análisis\"] == TA]\n",
    "\n",
    "    # Segmentacion de los tipos de preguntas\n",
    "    TA_caminantes_percepcion = TA_caminantes[columnas_percepcion]\n",
    "    TA_caminantes_importancia = TA_caminantes[columnas_importancia]\n",
    "\n",
    "    # Segmentacion de las preguntas de percepcion\n",
    "    TA_per_densidad_pob = TA_caminantes_percepcion[columnas_percepcion[0]]\n",
    "    TA_per_densidad_inter = TA_caminantes_percepcion[columnas_percepcion[1:4]]\n",
    "    TA_per_usos_suelo = TA_caminantes_percepcion[columnas_percepcion[4:7]]\n",
    "    TA_per_ind_vegetacion = TA_caminantes_percepcion[columnas_percepcion[7:9]]\n",
    "    TA_per_pendiente = TA_caminantes_percepcion[columnas_percepcion[9]]\n",
    "    TA_per_presenc_aceras = TA_caminantes_percepcion[columnas_percepcion[10:]]\n",
    "\n",
    "    # Segmentacion de las preguntas de importancia\n",
    "    TA_imp_densidad_pob = TA_caminantes_importancia[columnas_importancia[0]]\n",
    "    TA_imp_densidad_inter = TA_caminantes_importancia[columnas_importancia[1]]\n",
    "    TA_imp_usos_suelo = TA_caminantes_importancia[columnas_importancia[2:4]]\n",
    "    TA_imp_ind_vegetacion = TA_caminantes_importancia[columnas_importancia[4:6]]\n",
    "    TA_imp_cercania = TA_caminantes_importancia[columnas_importancia[8]]\n",
    "    TA_imp_presenc_aceras = TA_caminantes_importancia[columnas_importancia[6:8]]\n",
    "\n",
    "    # # Definicion de casos de preguntas de percepcion multiples para una sola variable\n",
    "    # campos_multiples_per = [TA_per_densidad_inter, TA_per_usos_suelo, TA_per_ind_vegetacion, TA_per_presenc_aceras]\n",
    "    # lista_multiple_per = ['densidad_inter', 'usos_suelo', 'ind_vegetacion', 'presenc_aceras']\n",
    "\n",
    "    # # Definicion de casos de preguntas de importancia multiples para una sola variable\n",
    "    # campos_multiples_imp = [TA_imp_usos_suelo, TA_imp_ind_vegetacion, TA_imp_presenc_aceras]\n",
    "    # lista_multiple_imp = ['usos_suelo', 'ind_vegetacion', 'presenc_aceras']\n",
    "\n",
    "    # Calculo de los betas por preuntas\n",
    "    TA_per_betas_preguntas = np.zeros(12)\n",
    "    for i in range(TA_caminantes_percepcion.shape[1]):\n",
    "        TA_per_betas_preguntas[i] = TA_caminantes_percepcion.iloc[:,i].mean()\n",
    "\n",
    "    # Calculo de los betas por variables fisicas\n",
    "    TA_per_campos = [TA_per_densidad_pob, TA_per_densidad_inter, TA_per_usos_suelo, TA_per_ind_vegetacion, TA_per_pendiente, TA_per_presenc_aceras]\n",
    "    lista = ['densidad_pob', 'densidad_inter', 'usos_suelo', 'ind_vegetacion', 'pendiente', 'presenc_aceras']\n",
    "    TA_per_betas_campos = {}\n",
    "    for i in range(len(TA_per_campos)):\n",
    "        TA_per_betas_campos[lista[i]] = TA_per_campos[i].mean().mean()\n",
    "\n",
    "    # print('Betas de cada pregunta')\n",
    "    # print(TA_per_betas_preguntas)\n",
    "    # print('Betas por cada campo')\n",
    "    # print(TA_per_betas_campos)\n",
    "\n",
    "    df_betas = pd.DataFrame(list(TA_per_betas_campos.items()), columns=['variable', 'beta']).round(4)\n",
    "    change = {'densidad_pob':'den_pop','densidad_inter':'den_inter','usos_suelo':'land_use',\n",
    "            'ind_vegetacion':'ind_ndvi','pendiente':'grade_abs','presenc_aceras':'sidewalk'}\n",
    "    df_betas = df_betas.replace({'variable':change})\n",
    "    df_betas.to_csv(f'../data/output/table/betas/{TA}_betas.txt',index=False)\n",
    "    print(TA, 'perception')\n",
    "    print(df_betas)\n",
    "\n",
    "    # Calculo de los betas por variables fisicas\n",
    "    TA_imp_campos = [TA_imp_densidad_pob, TA_imp_densidad_inter, TA_imp_usos_suelo, TA_imp_ind_vegetacion, TA_imp_presenc_aceras]\n",
    "    lista_imp = ['densidad_pob', 'densidad_inter', 'usos_suelo', 'ind_vegetacion', 'presenc_aceras']\n",
    "    TA_imp_betas_campos = {}\n",
    "    for i in range(len(TA_imp_campos)):\n",
    "        TA_imp_betas_campos[lista_imp[i]] = TA_imp_campos[i].mean().mean()\n",
    "\n",
    "    df_betas_imp = pd.DataFrame(list(TA_imp_betas_campos.items()), columns=['variable', 'beta']).round(4)\n",
    "    change = {'densidad_pob':'den_pop','densidad_inter':'den_inter','usos_suelo':'land_use',\n",
    "            'ind_vegetacion':'ind_ndvi','presenc_aceras':'sidewalk'}\n",
    "    df_betas_imp = df_betas_imp.replace({'variable':change})\n",
    "    df_betas_imp.to_csv(f'../data/output/table/betas/imp_{TA}_betas.txt',index=False)\n",
    "    print(TA, 'importance')\n",
    "    print(df_betas_imp)"
   ]
  },
  {
   "cell_type": "markdown",
   "id": "30a28ce7",
   "metadata": {},
   "source": [
    "# Betas Guadalajara"
   ]
  },
  {
   "cell_type": "code",
   "execution_count": 20,
   "id": "05c72401",
   "metadata": {},
   "outputs": [
    {
     "name": "stdout",
     "output_type": "stream",
     "text": [
      "TA_Miramar perception\n",
      "    variable    beta\n",
      "0    den_pop  0.6619\n",
      "1  den_inter  0.6587\n",
      "2   land_use  0.5325\n",
      "3   ind_ndvi  0.4381\n",
      "4  grade_abs  0.7167\n",
      "5   sidewalk  0.3690\n",
      "TA_Miramar importance\n",
      "    variable    beta\n",
      "0    den_pop  0.9143\n",
      "1  den_inter  0.7048\n",
      "2   land_use  0.8298\n",
      "3   ind_ndvi  0.8821\n",
      "4   sidewalk  0.9155\n",
      "TA_Providencia perception\n",
      "    variable    beta\n",
      "0    den_pop  0.6310\n",
      "1  den_inter  0.7937\n",
      "2   land_use  0.5595\n",
      "3   ind_ndvi  0.8433\n",
      "4  grade_abs  0.9008\n",
      "5   sidewalk  0.6329\n",
      "TA_Providencia importance\n",
      "    variable    beta\n",
      "0    den_pop  0.9286\n",
      "1  den_inter  0.6071\n",
      "2   land_use  0.6766\n",
      "3   ind_ndvi  0.8472\n",
      "4   sidewalk  0.9266\n",
      "TA_Colinas perception\n",
      "    variable    beta\n",
      "0    den_pop  0.6750\n",
      "1  den_inter  0.7417\n",
      "2   land_use  0.6167\n",
      "3   ind_ndvi  0.6250\n",
      "4  grade_abs  0.7250\n",
      "5   sidewalk  0.4625\n",
      "TA_Colinas importance\n",
      "    variable    beta\n",
      "0    den_pop  0.9750\n",
      "1  den_inter  0.6250\n",
      "2   land_use  0.7125\n",
      "3   ind_ndvi  1.0000\n",
      "4   sidewalk  0.9375\n"
     ]
    }
   ],
   "source": [
    "TAs = ['TA_Miramar','TA_Providencia','TA_Colinas']\n",
    "\n",
    "# TA = TAs[0]\n",
    "for TA in TAs:\n",
    "\n",
    "    # Filtrar por el territorio de analisis\n",
    "    TA_caminantes = gua_caminantes[gua_caminantes[\"Territorio de análisis\"] == TA]\n",
    "    # TA_caminantes.drop(columns = \"Territorio de análisis\", axis = 1)\n",
    "    # Segmentacion de los tipos de preguntas\n",
    "    TA_caminantes_percepcion = TA_caminantes[columnas_percepcion]\n",
    "    TA_caminantes_importancia = TA_caminantes[columnas_importancia]\n",
    "\n",
    "    # Segmentacion de las preguntas de percepcion\n",
    "    TA_per_densidad_pob = TA_caminantes_percepcion[columnas_percepcion[0]]\n",
    "    TA_per_densidad_inter = TA_caminantes_percepcion[columnas_percepcion[1:4]]\n",
    "    TA_per_usos_suelo = TA_caminantes_percepcion[columnas_percepcion[4:7]]\n",
    "    TA_per_ind_vegetacion = TA_caminantes_percepcion[columnas_percepcion[7:9]]\n",
    "    TA_per_pendiente = TA_caminantes_percepcion[columnas_percepcion[9]]\n",
    "    TA_per_presenc_aceras = TA_caminantes_percepcion[columnas_percepcion[10:]]\n",
    "\n",
    "    # Segmentacion de las preguntas de importancia\n",
    "    TA_imp_densidad_pob = TA_caminantes_importancia[columnas_importancia[0]]\n",
    "    TA_imp_densidad_inter = TA_caminantes_importancia[columnas_importancia[1]]\n",
    "    TA_imp_usos_suelo = TA_caminantes_importancia[columnas_importancia[2:4]]\n",
    "    TA_imp_ind_vegetacion = TA_caminantes_importancia[columnas_importancia[4:6]]\n",
    "    TA_imp_cercania = TA_caminantes_importancia[columnas_importancia[8]]\n",
    "    TA_imp_presenc_aceras = TA_caminantes_importancia[columnas_importancia[6:8]]\n",
    "\n",
    "    # # Definicion de casos de preguntas de percepcion multiples para una sola variable\n",
    "    # campos_multiples_per = [TA_per_densidad_inter, TA_per_usos_suelo, TA_per_ind_vegetacion, TA_per_presenc_aceras]\n",
    "    # lista_multiple_per = ['densidad_inter', 'usos_suelo', 'ind_vegetacion', 'presenc_aceras']\n",
    "\n",
    "    # # Definicion de casos de preguntas de importancia multiples para una sola variable\n",
    "    # campos_multiples_imp = [TA_imp_usos_suelo, TA_imp_ind_vegetacion, TA_imp_presenc_aceras]\n",
    "    # lista_multiple_imp = ['usos_suelo', 'ind_vegetacion', 'presenc_aceras']\n",
    "\n",
    "    # Calculo de los betas por preuntas\n",
    "    TA_per_betas_preguntas = np.zeros(12)\n",
    "    for i in range(TA_caminantes_percepcion.shape[1]):\n",
    "        TA_per_betas_preguntas[i] = TA_caminantes_percepcion.iloc[:,i].mean()\n",
    "\n",
    "    # Calculo de los betas por variables fisicas\n",
    "    TA_per_campos = [TA_per_densidad_pob, TA_per_densidad_inter, TA_per_usos_suelo, TA_per_ind_vegetacion, TA_per_pendiente, TA_per_presenc_aceras]\n",
    "    lista = ['densidad_pob', 'densidad_inter', 'usos_suelo', 'ind_vegetacion', 'pendiente', 'presenc_aceras']\n",
    "    TA_per_betas_campos = {}\n",
    "    for i in range(len(TA_per_campos)):\n",
    "        TA_per_betas_campos[lista[i]] = TA_per_campos[i].mean().mean()\n",
    "\n",
    "    # print('Betas de cada pregunta')\n",
    "    # print(TA_per_betas_preguntas)\n",
    "    # print('Betas por cada campo')\n",
    "    # print(TA_per_betas_campos)\n",
    "\n",
    "    df_betas = pd.DataFrame(list(TA_per_betas_campos.items()), columns=['variable', 'beta']).round(4)\n",
    "    change = {'densidad_pob':'den_pop','densidad_inter':'den_inter','usos_suelo':'land_use',\n",
    "            'ind_vegetacion':'ind_ndvi','pendiente':'grade_abs','presenc_aceras':'sidewalk'}\n",
    "    df_betas = df_betas.replace({'variable':change})\n",
    "    df_betas.to_csv(f'../data/output/table/betas/{TA}_betas.txt',index=False)\n",
    "    print(TA, 'perception')\n",
    "    print(df_betas)\n",
    "\n",
    "    # Calculo de los betas por variables fisicas\n",
    "    TA_imp_campos = [TA_imp_densidad_pob, TA_imp_densidad_inter, TA_imp_usos_suelo, TA_imp_ind_vegetacion, TA_imp_presenc_aceras]\n",
    "    lista_imp = ['densidad_pob', 'densidad_inter', 'usos_suelo', 'ind_vegetacion', 'presenc_aceras']\n",
    "    TA_imp_betas_campos = {}\n",
    "    for i in range(len(TA_imp_campos)):\n",
    "        TA_imp_betas_campos[lista_imp[i]] = TA_imp_campos[i].mean().mean()\n",
    "\n",
    "    df_betas_imp = pd.DataFrame(list(TA_imp_betas_campos.items()), columns=['variable', 'beta']).round(4)\n",
    "    change = {'densidad_pob':'den_pop','densidad_inter':'den_inter','usos_suelo':'land_use',\n",
    "            'ind_vegetacion':'ind_ndvi','presenc_aceras':'sidewalk'}\n",
    "    df_betas_imp = df_betas_imp.replace({'variable':change})\n",
    "    df_betas_imp.to_csv(f'../data/output/table/betas/imp_{TA}_betas.txt',index=False)\n",
    "    print(TA, 'importance')\n",
    "    print(df_betas_imp)"
   ]
  }
 ],
 "metadata": {
  "kernelspec": {
   "display_name": "ox_eafit",
   "language": "python",
   "name": "python3"
  },
  "language_info": {
   "codemirror_mode": {
    "name": "ipython",
    "version": 3
   },
   "file_extension": ".py",
   "mimetype": "text/x-python",
   "name": "python",
   "nbconvert_exporter": "python",
   "pygments_lexer": "ipython3",
   "version": "3.11.4"
  }
 },
 "nbformat": 4,
 "nbformat_minor": 5
}
