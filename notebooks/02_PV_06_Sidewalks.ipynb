{
 "cells": [
  {
   "cell_type": "code",
   "execution_count": 31,
   "metadata": {},
   "outputs": [],
   "source": [
    "import pandas as pd\n",
    "import geopandas as gpd\n",
    "\n",
    "import utils.analysis as an"
   ]
  },
  {
   "cell_type": "markdown",
   "metadata": {},
   "source": [
    "# Zonas Medellin"
   ]
  },
  {
   "cell_type": "code",
   "execution_count": null,
   "metadata": {},
   "outputs": [],
   "source": [
    "zo = ['aguacatala_HL', 'moravia_LH', 'floresta_HH']\n",
    "# z = zo[0]\n",
    "for z in zo:\n",
    "    print(f\"Processing zone: {z}\")\n",
    "\n",
    "    zone_edges = gpd.read_file(f'../data/output/shape/project_network_initial/{z}/{z}_edges_proj_net_initial.shp')\n",
    "    zone_nodes = gpd.read_file(f'../data/output/shape/project_network_initial/{z}/{z}_nodes_proj_net_initial.shp')\n",
    "    sidewalks = gpd.read_file('../data/input/shape/sidewalks/sidewalks.shp')\n",
    "    zone_edges = zone_edges.to_crs('epsg:32618')\n",
    "    sidewalks = sidewalks.to_crs('epsg:32618')\n",
    "\n",
    "    # Create a buffer around the street segments (e.g., 20 meters)\n",
    "    zone_edges = zone_edges.copy()\n",
    "    zone_edges['buffer'] = zone_edges['geometry'].buffer(20)  # Adjust buffer size as needed\n",
    "\n",
    "    # Create a column to store the proportion of sidewalk presence\n",
    "    zone_edges['sidewalk'] = 0.0\n",
    "\n",
    "    # Iterate over each buffer and calculate the lengths of sidewalks within it\n",
    "    for idx, edge in zone_edges.iterrows():\n",
    "        # Filter the sidewalks contained in the buffer\n",
    "        sidewalks_in_buffer = sidewalks[sidewalks['geometry'].within(edge['buffer'])]\n",
    "\n",
    "        # Calculate the total length of sidewalks within the buffer\n",
    "        total_length = sidewalks_in_buffer['geometry'].length.sum()\n",
    "        \n",
    "        # Calculate the length of sidewalks with sidewalk=1\n",
    "        length_with_sidewalks = sidewalks_in_buffer[sidewalks_in_buffer['sidewalk'] == 1]['geometry'].length.sum()\n",
    "        \n",
    "        # Avoid division by zero\n",
    "        if total_length > 0:\n",
    "            # Calculate the proportion of sidewalks (length of sidewalks with sidewalk=1 / total length)\n",
    "            zone_edges.at[idx, 'sidewalk'] = length_with_sidewalks / total_length\n",
    "\n",
    "    zone_edges = zone_edges.drop(['buffer'], axis=1)\n",
    "    zone_edges = zone_edges.to_crs('epsg:4326')\n",
    "    zone_nodes = zone_nodes.to_crs('epsg:4326')\n",
    "    zone_edges.to_file(f'../data/output/shape/sidewalks/{z}/{z}_sidewalks_edges.shp')\n",
    "    zone_nodes.to_file(f'../data/output/shape/sidewalks/{z}/{z}_sidewalks_nodes.shp')"
   ]
  }
 ],
 "metadata": {
  "kernelspec": {
   "display_name": "ox_GIZ_2",
   "language": "python",
   "name": "python3"
  },
  "language_info": {
   "codemirror_mode": {
    "name": "ipython",
    "version": 3
   },
   "file_extension": ".py",
   "mimetype": "text/x-python",
   "name": "python",
   "nbconvert_exporter": "python",
   "pygments_lexer": "ipython3",
   "version": "3.12.4"
  }
 },
 "nbformat": 4,
 "nbformat_minor": 2
}
