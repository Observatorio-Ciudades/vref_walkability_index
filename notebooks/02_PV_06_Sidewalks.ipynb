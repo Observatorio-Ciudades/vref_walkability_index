{
 "cells": [
  {
   "cell_type": "code",
   "execution_count": 1,
   "metadata": {},
   "outputs": [
    {
     "name": "stderr",
     "output_type": "stream",
     "text": [
      "c:\\Users\\Sergio\\anaconda3\\envs\\ox_eafit\\Lib\\site-packages\\tqdm\\auto.py:21: TqdmWarning: IProgress not found. Please update jupyter and ipywidgets. See https://ipywidgets.readthedocs.io/en/stable/user_install.html\n",
      "  from .autonotebook import tqdm as notebook_tqdm\n"
     ]
    }
   ],
   "source": [
    "import pandas as pd\n",
    "import geopandas as gpd\n",
    "\n",
    "import utils.analysis as an"
   ]
  },
  {
   "cell_type": "markdown",
   "metadata": {},
   "source": [
    "# Zonas Medellin"
   ]
  },
  {
   "cell_type": "code",
   "execution_count": 2,
   "metadata": {},
   "outputs": [
    {
     "name": "stdout",
     "output_type": "stream",
     "text": [
      "Processing zone: aguacatala_HL\n",
      "Processing zone: moravia_LH\n",
      "Processing zone: floresta_HH\n"
     ]
    }
   ],
   "source": [
    "zo = ['aguacatala_HL', 'moravia_LH', 'floresta_HH']\n",
    "z = zo[0]\n",
    "for z in zo:\n",
    "    print(f\"Processing zone: {z}\")\n",
    "\n",
    "    zone_edges = gpd.read_file(f'../data/output/shape/project_network_initial/{z}/{z}_edges_proj_net_initial.shp')\n",
    "    zone_nodes = gpd.read_file(f'../data/output/shape/project_network_initial/{z}/{z}_nodes_proj_net_initial.shp')\n",
    "    sidewalks = gpd.read_file('../data/input/shape/sidewalks/sidewalks.shp')\n",
    "    zone_edges = zone_edges.to_crs('epsg:32618')\n",
    "    sidewalks = sidewalks.to_crs('epsg:32618')\n",
    "\n",
    "    # Buffer the original geometry to avoid float arithmetic problems (in intersects or within)\n",
    "    sidewalks_buffer = sidewalks.copy()\n",
    "    sidewalks_buffer.geometry = sidewalks_buffer.geometry.buffer(0.0001)\n",
    "    # Manzanas del territorio\n",
    "    zone_blocks = gpd.read_file(f'../data/output/shape/zone_blocks/{z}/{z}_blocks.shp')\n",
    "    zone_blocks = zone_blocks.to_crs('epsg:32618')\n",
    "    # Generar el poligono ampliado de la zona de analisis con un buffer\n",
    "    poligono_ampliado = zone_blocks.union_all().convex_hull.buffer(500)\n",
    "    poligono_ampliado_gdf = gpd.GeoDataFrame(geometry=gpd.GeoSeries([poligono_ampliado]), crs=zone_blocks.crs)\n",
    "    # Seleccionar las manzanas de todo el territorio que caen dentro del poligono ampliado\n",
    "    sidewalks = sidewalks[sidewalks.geometry.intersects(poligono_ampliado)]\n",
    "    # Unir los andenes y las calles\n",
    "    lineas = pd.concat([sidewalks,zone_edges], ignore_index=True)\n",
    "    # Use union_all to split all the self-intersected LineStrings\n",
    "    un = lineas.geometry.union_all()\n",
    "    geometrias = [i for i in un.geoms]\n",
    "    unary = gpd.GeoDataFrame({\"geometry\":geometrias}, crs=lineas.crs)\n",
    "    # Use a spatial join (with within or intersect) to join the two dataframes and retrieve the original attributes\n",
    "    sidewalks_splits = gpd.sjoin(unary, sidewalks_buffer, how=\"left\", predicate='within')\n",
    "    sidewalks_splits = sidewalks_splits.dropna()\n",
    "    sidewalks_splits = sidewalks_splits.drop(['index_right'], axis=1)\n",
    "    sidewalks_splits['sidewalk'] = sidewalks_splits['sidewalk'].astype(int)\n",
    "    # sidewalks_splits.to_file(f'../data/output/shape/physical_variables/sidewalks/{z}/{z}_sidewalks_splits_try.shp')\n",
    "\n",
    "\n",
    "    # Create a buffer around the street segments (e.g., 20 meters)\n",
    "    zone_edges['buffer'] = zone_edges['geometry'].buffer(20)  # Adjust buffer size as needed\n",
    "\n",
    "    # Create a column to store the proportion of sidewalk presence\n",
    "    zone_edges['sidewalk'] = 0.0\n",
    "\n",
    "    # Iterate over each buffer and calculate the lengths of sidewalks within it\n",
    "    for idx, edge in zone_edges.iterrows():\n",
    "\n",
    "\n",
    "        # Filter the sidewalks contained in the buffer\n",
    "        sidewalks_in_buffer = sidewalks_splits[sidewalks_splits['geometry'].within(edge['buffer'])]\n",
    "        # # Filter the sidewalks intersected by the buffer\n",
    "        # sidewalks_in_buffer = sidewalks[sidewalks['geometry'].intersects(edge['buffer'])]\n",
    "\n",
    "\n",
    "        # Calculate the total length of sidewalks within the buffer\n",
    "        total_length = sidewalks_in_buffer['geometry'].length.sum()\n",
    "        \n",
    "        # Calculate the length of sidewalks with sidewalk=1\n",
    "        length_with_sidewalks = sidewalks_in_buffer[sidewalks_in_buffer['sidewalk'] == 1]['geometry'].length.sum()\n",
    "        \n",
    "        # Avoid division by zero\n",
    "        if total_length > 0:\n",
    "            # Calculate the proportion of sidewalks (length of sidewalks with sidewalk=1 / total length)\n",
    "            zone_edges.at[idx, 'sidewalk'] = length_with_sidewalks / total_length\n",
    "\n",
    "\n",
    "    # # Filter the sidewalks intersected by the buffer and cutting them\n",
    "    # sidewalks_in_buffer_all = gpd.overlay(sidewalks, zone_edges[['osmid','buffer']].set_geometry('buffer'), how='intersection')\n",
    "    # for idx, edge in zone_edges.iterrows():\n",
    "        \n",
    "    #     sidewalks_in_buffer = sidewalks_in_buffer_all[sidewalks_in_buffer_all['osmid']==edge['osmid']]\n",
    "\n",
    "    #     # Calculate the total length of sidewalks within the buffer\n",
    "    #     total_length = sidewalks_in_buffer['geometry'].length.sum()\n",
    "        \n",
    "    #     # Calculate the length of sidewalks with sidewalk=1\n",
    "    #     length_with_sidewalks = sidewalks_in_buffer[sidewalks_in_buffer['sidewalk'] == 1]['geometry'].length.sum()\n",
    "        \n",
    "    #     # Avoid division by zero\n",
    "    #     if total_length > 0:\n",
    "    #         # Calculate the proportion of sidewalks (length of sidewalks with sidewalk=1 / total length)\n",
    "    #         zone_edges.at[idx, 'sidewalk'] = length_with_sidewalks / total_length\n",
    "\n",
    "\n",
    "    zone_edges = zone_edges.drop(['buffer'], axis=1)\n",
    "    zone_edges = zone_edges.to_crs('epsg:4326')\n",
    "    zone_nodes = zone_nodes.to_crs('epsg:4326')\n",
    "    zone_edges.to_file(f'../data/output/shape/physical_variables/sidewalks/{z}/{z}_sidewalks_edges.shp')\n",
    "    zone_nodes.to_file(f'../data/output/shape/physical_variables/sidewalks/{z}/{z}_sidewalks_nodes.shp')"
   ]
  },
  {
   "cell_type": "code",
   "execution_count": 3,
   "metadata": {},
   "outputs": [],
   "source": [
    "# from shapely.ops import split\n",
    "\n",
    "# # Crear una lista para almacenar las líneas divididas\n",
    "# divided_lines = []\n",
    "\n",
    "# # Dividir las líneas usando las líneas de corte\n",
    "# for index, line in sidewalks.iterrows():\n",
    "#     geometry = line.geometry\n",
    "#     for _, splitter in zone_edges.iterrows():\n",
    "#         print(index,_)\n",
    "#         geometry = split(geometry, splitter.geometry)\n",
    "#     divided_lines.extend(geometry)\n",
    "\n",
    "# # Crear un GeoDataFrame con las líneas divididas\n",
    "# output_gdf = gpd.GeoDataFrame(geometry=divided_lines, crs=sidewalks.crs)\n",
    "# output_gdf"
   ]
  }
 ],
 "metadata": {
  "kernelspec": {
   "display_name": "ox_eafit",
   "language": "python",
   "name": "python3"
  },
  "language_info": {
   "codemirror_mode": {
    "name": "ipython",
    "version": 3
   },
   "file_extension": ".py",
   "mimetype": "text/x-python",
   "name": "python",
   "nbconvert_exporter": "python",
   "pygments_lexer": "ipython3",
   "version": "3.11.4"
  }
 },
 "nbformat": 4,
 "nbformat_minor": 2
}
