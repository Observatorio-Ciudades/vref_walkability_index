{
 "cells": [
  {
   "cell_type": "markdown",
   "id": "2e571189-59d2-44be-87d3-47f1f0ce7dbd",
   "metadata": {},
   "source": [
    "# 01_PL_09_Project_network_partitioning [Work in progress]"
   ]
  },
  {
   "cell_type": "markdown",
   "id": "00022263-c375-44b7-9e3b-25eed2b4d011",
   "metadata": {},
   "source": [
    "## Import libraries"
   ]
  },
  {
   "cell_type": "code",
   "execution_count": 1,
   "id": "bf54be8c-4a7a-47d3-be57-a4bb079c31b1",
   "metadata": {},
   "outputs": [],
   "source": [
    "first_folder_path = \"../\""
   ]
  },
  {
   "cell_type": "code",
   "execution_count": 134,
   "id": "097365bb-66b3-4761-9c1e-114e3633292c",
   "metadata": {},
   "outputs": [],
   "source": [
    "import os\n",
    "import sys\n",
    "\n",
    "import pandas as pd\n",
    "import geopandas as gpd\n",
    "import osmnx as ox\n",
    "import numpy as np\n",
    "\n",
    "import matplotlib.pyplot as plt\n",
    "import seaborn as sns\n",
    "\n",
    "# To create points (missing nodes) inside function network_partition()\n",
    "from shapely.geometry import Point\n",
    "# Time processes\n",
    "import time\n",
    "\n",
    "import warnings\n",
    "warnings.simplefilter(action='ignore', category=FutureWarning)\n",
    "\n",
    "module_path = os.path.abspath(os.path.join(first_folder_path))\n",
    "if module_path not in sys.path:\n",
    "    sys.path.append(module_path)\n",
    "    import src\n",
    "else:\n",
    "    import src"
   ]
  },
  {
   "cell_type": "markdown",
   "id": "1d13a22e-91d2-4614-b47e-4d62e3b9ebef",
   "metadata": {},
   "source": [
    "## Notebook config"
   ]
  },
  {
   "cell_type": "code",
   "execution_count": 10,
   "id": "78373748-45c1-4fa7-918d-1351c050bfdc",
   "metadata": {},
   "outputs": [],
   "source": [
    "# ----- ----- ----- City of analysis ----- ----- -----\n",
    "city = 'guadalajara'\n",
    "\n",
    "# ----- ----- ----- Input data directories ----- ----- ----- \n",
    "# Nodes and edges from notebook 01_PL_04_Combine_networks\n",
    "nodes_dir = first_folder_path + f\"data/output/shape/network_project/{city}/part02_step06_ntwsconsolidate/{city}_nodes_proj_net_consolidated5m.gpkg\"\n",
    "edges_dir = first_folder_path + f\"data/output/shape/network_project/{city}/part02_step06_ntwsconsolidate/{city}_edges_proj_net_consolidated5m.gpkg\"\n",
    "\n",
    "# Polygons to create network partitions\n",
    "polys_dir = first_folder_path + f\"data/input/shape/Poligonos_Guadalajara/Poligonos.gpkg\"\n",
    "\n",
    "# ----- ----- ----- Projection to be used when needed ----- ----- ----- \n",
    "projected_crs = \"EPSG:32613\" #Guadalajara = 'EPSG:32613'\n",
    "\n",
    "# ----- ----- ----- Output ----- ----- ----- \n",
    "output_dir = first_folder_path + f\"data/output/shape/network_project_partitions/\"\n",
    "local_save = False"
   ]
  },
  {
   "cell_type": "markdown",
   "id": "5086004a-f77f-4555-a769-153e224c52fa",
   "metadata": {},
   "source": [
    "## Load data"
   ]
  },
  {
   "cell_type": "code",
   "execution_count": 14,
   "id": "f7b7fc10-e365-4ebe-9d50-f04d48c95d3f",
   "metadata": {},
   "outputs": [
    {
     "name": "stdout",
     "output_type": "stream",
     "text": [
      "EPSG:32613\n",
      "<class 'geopandas.geodataframe.GeoDataFrame'>\n",
      "RangeIndex: 3 entries, 0 to 2\n",
      "Data columns (total 2 columns):\n",
      " #   Column    Non-Null Count  Dtype   \n",
      "---  ------    --------------  -----   \n",
      " 0   name      3 non-null      object  \n",
      " 1   geometry  3 non-null      geometry\n",
      "dtypes: geometry(1), object(1)\n",
      "memory usage: 176.0+ bytes\n",
      "None\n"
     ]
    },
    {
     "data": {
      "text/html": [
       "<div>\n",
       "<style scoped>\n",
       "    .dataframe tbody tr th:only-of-type {\n",
       "        vertical-align: middle;\n",
       "    }\n",
       "\n",
       "    .dataframe tbody tr th {\n",
       "        vertical-align: top;\n",
       "    }\n",
       "\n",
       "    .dataframe thead th {\n",
       "        text-align: right;\n",
       "    }\n",
       "</style>\n",
       "<table border=\"1\" class=\"dataframe\">\n",
       "  <thead>\n",
       "    <tr style=\"text-align: right;\">\n",
       "      <th></th>\n",
       "      <th>name</th>\n",
       "      <th>geometry</th>\n",
       "    </tr>\n",
       "  </thead>\n",
       "  <tbody>\n",
       "    <tr>\n",
       "      <th>0</th>\n",
       "      <td>miramar</td>\n",
       "      <td>POLYGON ((659404.786 2283009.827, 660250.98 22...</td>\n",
       "    </tr>\n",
       "    <tr>\n",
       "      <th>1</th>\n",
       "      <td>providencia</td>\n",
       "      <td>POLYGON ((668619.092 2288755.457, 668816.754 2...</td>\n",
       "    </tr>\n",
       "    <tr>\n",
       "      <th>2</th>\n",
       "      <td>colinas</td>\n",
       "      <td>POLYGON ((665060.447 2289080.643, 665057.51 22...</td>\n",
       "    </tr>\n",
       "  </tbody>\n",
       "</table>\n",
       "</div>"
      ],
      "text/plain": [
       "          name                                           geometry\n",
       "0      miramar  POLYGON ((659404.786 2283009.827, 660250.98 22...\n",
       "1  providencia  POLYGON ((668619.092 2288755.457, 668816.754 2...\n",
       "2      colinas  POLYGON ((665060.447 2289080.643, 665057.51 22..."
      ]
     },
     "execution_count": 14,
     "metadata": {},
     "output_type": "execute_result"
    }
   ],
   "source": [
    "# Load areas of interest\n",
    "polys_gdf = gpd.read_file(polys_dir)\n",
    "# Set crs\n",
    "if polys_gdf.crs != projected_crs:\n",
    "    polys_gdf = polys_gdf.to_crs(projected_crs)\n",
    "    print(f\"Changed crs to {projected_crs}.\")\n",
    "\n",
    "# Show\n",
    "print(polys_gdf.crs)\n",
    "print(polys_gdf.info())\n",
    "polys_gdf"
   ]
  },
  {
   "cell_type": "code",
   "execution_count": 151,
   "id": "4abb2288-b490-47df-8e8e-3da2e065c9cd",
   "metadata": {},
   "outputs": [
    {
     "name": "stdout",
     "output_type": "stream",
     "text": [
      "EPSG:32613\n",
      "<class 'geopandas.geodataframe.GeoDataFrame'>\n",
      "RangeIndex: 125089 entries, 0 to 125088\n",
      "Data columns (total 4 columns):\n",
      " #   Column    Non-Null Count   Dtype   \n",
      "---  ------    --------------   -----   \n",
      " 0   osmid     125089 non-null  object  \n",
      " 1   x         125089 non-null  float64 \n",
      " 2   y         125089 non-null  float64 \n",
      " 3   geometry  125089 non-null  geometry\n",
      "dtypes: float64(2), geometry(1), object(1)\n",
      "memory usage: 3.8+ MB\n",
      "None\n"
     ]
    },
    {
     "data": {
      "text/html": [
       "<div>\n",
       "<style scoped>\n",
       "    .dataframe tbody tr th:only-of-type {\n",
       "        vertical-align: middle;\n",
       "    }\n",
       "\n",
       "    .dataframe tbody tr th {\n",
       "        vertical-align: top;\n",
       "    }\n",
       "\n",
       "    .dataframe thead th {\n",
       "        text-align: right;\n",
       "    }\n",
       "</style>\n",
       "<table border=\"1\" class=\"dataframe\">\n",
       "  <thead>\n",
       "    <tr style=\"text-align: right;\">\n",
       "      <th></th>\n",
       "      <th>osmid</th>\n",
       "      <th>x</th>\n",
       "      <th>y</th>\n",
       "      <th>geometry</th>\n",
       "    </tr>\n",
       "  </thead>\n",
       "  <tbody>\n",
       "    <tr>\n",
       "      <th>0</th>\n",
       "      <td>67637870229114485</td>\n",
       "      <td>676378.709485</td>\n",
       "      <td>2.291145e+06</td>\n",
       "      <td>POINT (676378.709 2291144.858)</td>\n",
       "    </tr>\n",
       "    <tr>\n",
       "      <th>1</th>\n",
       "      <td>67640019229114922</td>\n",
       "      <td>676400.196372</td>\n",
       "      <td>2.291149e+06</td>\n",
       "      <td>POINT (676400.196 2291149.223)</td>\n",
       "    </tr>\n",
       "  </tbody>\n",
       "</table>\n",
       "</div>"
      ],
      "text/plain": [
       "               osmid              x             y  \\\n",
       "0  67637870229114485  676378.709485  2.291145e+06   \n",
       "1  67640019229114922  676400.196372  2.291149e+06   \n",
       "\n",
       "                         geometry  \n",
       "0  POINT (676378.709 2291144.858)  \n",
       "1  POINT (676400.196 2291149.223)  "
      ]
     },
     "execution_count": 151,
     "metadata": {},
     "output_type": "execute_result"
    }
   ],
   "source": [
    "# Load nodes\n",
    "cons_nodes = gpd.read_file(nodes_dir)\n",
    "# Set crs\n",
    "if cons_nodes.crs != projected_crs:\n",
    "    cons_nodes = cons_nodes.to_crs(projected_crs)\n",
    "    print(f\"Changed crs to {projected_crs}.\")\n",
    "# Filter for data of interest\n",
    "cons_nodes = cons_nodes[['osmid','x','y','geometry']]\n",
    "\n",
    "# Show\n",
    "print(cons_nodes.crs)\n",
    "print(cons_nodes.info())\n",
    "cons_nodes.head(2)"
   ]
  },
  {
   "cell_type": "code",
   "execution_count": 152,
   "id": "861544cb-b699-48b4-98f4-dd3e52c5313d",
   "metadata": {},
   "outputs": [
    {
     "data": {
      "text/html": [
       "<div>\n",
       "<style scoped>\n",
       "    .dataframe tbody tr th:only-of-type {\n",
       "        vertical-align: middle;\n",
       "    }\n",
       "\n",
       "    .dataframe tbody tr th {\n",
       "        vertical-align: top;\n",
       "    }\n",
       "\n",
       "    .dataframe thead th {\n",
       "        text-align: right;\n",
       "    }\n",
       "</style>\n",
       "<table border=\"1\" class=\"dataframe\">\n",
       "  <thead>\n",
       "    <tr style=\"text-align: right;\">\n",
       "      <th></th>\n",
       "      <th>osmid</th>\n",
       "      <th>x</th>\n",
       "      <th>y</th>\n",
       "      <th>geometry</th>\n",
       "    </tr>\n",
       "  </thead>\n",
       "  <tbody>\n",
       "    <tr>\n",
       "      <th>3</th>\n",
       "      <td>[67636596229115605, 67636388229116380]</td>\n",
       "      <td>676364.926099</td>\n",
       "      <td>2.291160e+06</td>\n",
       "      <td>POINT (676364.926 2291159.926)</td>\n",
       "    </tr>\n",
       "    <tr>\n",
       "      <th>23</th>\n",
       "      <td>[67546216228903067, 67546363228903968]</td>\n",
       "      <td>675462.903223</td>\n",
       "      <td>2.289035e+06</td>\n",
       "      <td>POINT (675462.903 2289035.181)</td>\n",
       "    </tr>\n",
       "    <tr>\n",
       "      <th>75</th>\n",
       "      <td>[67638110229118667, 67637506229118442]</td>\n",
       "      <td>676378.086001</td>\n",
       "      <td>2.291186e+06</td>\n",
       "      <td>POINT (676378.086 2291185.551)</td>\n",
       "    </tr>\n",
       "    <tr>\n",
       "      <th>77</th>\n",
       "      <td>[67425123228792493, 67424937228791839]</td>\n",
       "      <td>674250.306669</td>\n",
       "      <td>2.287922e+06</td>\n",
       "      <td>POINT (674250.307 2287921.667)</td>\n",
       "    </tr>\n",
       "    <tr>\n",
       "      <th>93</th>\n",
       "      <td>[67392126228725236, 67392326228725929]</td>\n",
       "      <td>673922.268754</td>\n",
       "      <td>2.287256e+06</td>\n",
       "      <td>POINT (673922.269 2287255.834)</td>\n",
       "    </tr>\n",
       "    <tr>\n",
       "      <th>...</th>\n",
       "      <td>...</td>\n",
       "      <td>...</td>\n",
       "      <td>...</td>\n",
       "      <td>...</td>\n",
       "    </tr>\n",
       "    <tr>\n",
       "      <th>124036</th>\n",
       "      <td>[71637744227421114, 71637975227421197]</td>\n",
       "      <td>716378.600312</td>\n",
       "      <td>2.274212e+06</td>\n",
       "      <td>POINT (716378.6 2274211.56)</td>\n",
       "    </tr>\n",
       "    <tr>\n",
       "      <th>124037</th>\n",
       "      <td>[71638303227428121, 71638443227428270]</td>\n",
       "      <td>716383.734214</td>\n",
       "      <td>2.274282e+06</td>\n",
       "      <td>POINT (716383.734 2274281.959)</td>\n",
       "    </tr>\n",
       "    <tr>\n",
       "      <th>124038</th>\n",
       "      <td>[71638986227435066, 71639309227435177]</td>\n",
       "      <td>716391.481548</td>\n",
       "      <td>2.274351e+06</td>\n",
       "      <td>POINT (716391.482 2274351.219)</td>\n",
       "    </tr>\n",
       "    <tr>\n",
       "      <th>124041</th>\n",
       "      <td>[71644748227446635, 71644713227446196]</td>\n",
       "      <td>716447.311880</td>\n",
       "      <td>2.274464e+06</td>\n",
       "      <td>POINT (716447.312 2274464.158)</td>\n",
       "    </tr>\n",
       "    <tr>\n",
       "      <th>124774</th>\n",
       "      <td>[66125477227084802, 66125474227084796]</td>\n",
       "      <td>661254.764374</td>\n",
       "      <td>2.270848e+06</td>\n",
       "      <td>POINT (661254.764 2270847.993)</td>\n",
       "    </tr>\n",
       "  </tbody>\n",
       "</table>\n",
       "<p>12039 rows × 4 columns</p>\n",
       "</div>"
      ],
      "text/plain": [
       "                                         osmid              x             y  \\\n",
       "3       [67636596229115605, 67636388229116380]  676364.926099  2.291160e+06   \n",
       "23      [67546216228903067, 67546363228903968]  675462.903223  2.289035e+06   \n",
       "75      [67638110229118667, 67637506229118442]  676378.086001  2.291186e+06   \n",
       "77      [67425123228792493, 67424937228791839]  674250.306669  2.287922e+06   \n",
       "93      [67392126228725236, 67392326228725929]  673922.268754  2.287256e+06   \n",
       "...                                        ...            ...           ...   \n",
       "124036  [71637744227421114, 71637975227421197]  716378.600312  2.274212e+06   \n",
       "124037  [71638303227428121, 71638443227428270]  716383.734214  2.274282e+06   \n",
       "124038  [71638986227435066, 71639309227435177]  716391.481548  2.274351e+06   \n",
       "124041  [71644748227446635, 71644713227446196]  716447.311880  2.274464e+06   \n",
       "124774  [66125477227084802, 66125474227084796]  661254.764374  2.270848e+06   \n",
       "\n",
       "                              geometry  \n",
       "3       POINT (676364.926 2291159.926)  \n",
       "23      POINT (675462.903 2289035.181)  \n",
       "75      POINT (676378.086 2291185.551)  \n",
       "77      POINT (674250.307 2287921.667)  \n",
       "93      POINT (673922.269 2287255.834)  \n",
       "...                                ...  \n",
       "124036     POINT (716378.6 2274211.56)  \n",
       "124037  POINT (716383.734 2274281.959)  \n",
       "124038  POINT (716391.482 2274351.219)  \n",
       "124041  POINT (716447.312 2274464.158)  \n",
       "124774  POINT (661254.764 2270847.993)  \n",
       "\n",
       "[12039 rows x 4 columns]"
      ]
     },
     "execution_count": 152,
     "metadata": {},
     "output_type": "execute_result"
    }
   ],
   "source": [
    "mask = cons_nodes['osmid'].astype(str).str.startswith('[') & cons_nodes['osmid'].astype(str).str.endswith(']')\n",
    "rows_with_lists_as_strings = cons_nodes[mask]\n",
    "rows_with_lists_as_strings"
   ]
  },
  {
   "cell_type": "code",
   "execution_count": 16,
   "id": "c9dc8db8-835a-421f-9e15-712aa52bfbc5",
   "metadata": {},
   "outputs": [
    {
     "name": "stdout",
     "output_type": "stream",
     "text": [
      "EPSG:32613\n",
      "<class 'geopandas.geodataframe.GeoDataFrame'>\n",
      "RangeIndex: 197918 entries, 0 to 197917\n",
      "Data columns (total 4 columns):\n",
      " #   Column    Non-Null Count   Dtype   \n",
      "---  ------    --------------   -----   \n",
      " 0   u         197918 non-null  int64   \n",
      " 1   v         197918 non-null  int64   \n",
      " 2   key       197918 non-null  int64   \n",
      " 3   geometry  197918 non-null  geometry\n",
      "dtypes: geometry(1), int64(3)\n",
      "memory usage: 6.0 MB\n",
      "None\n"
     ]
    },
    {
     "data": {
      "text/html": [
       "<div>\n",
       "<style scoped>\n",
       "    .dataframe tbody tr th:only-of-type {\n",
       "        vertical-align: middle;\n",
       "    }\n",
       "\n",
       "    .dataframe tbody tr th {\n",
       "        vertical-align: top;\n",
       "    }\n",
       "\n",
       "    .dataframe thead th {\n",
       "        text-align: right;\n",
       "    }\n",
       "</style>\n",
       "<table border=\"1\" class=\"dataframe\">\n",
       "  <thead>\n",
       "    <tr style=\"text-align: right;\">\n",
       "      <th></th>\n",
       "      <th>u</th>\n",
       "      <th>v</th>\n",
       "      <th>key</th>\n",
       "      <th>geometry</th>\n",
       "    </tr>\n",
       "  </thead>\n",
       "  <tbody>\n",
       "    <tr>\n",
       "      <th>0</th>\n",
       "      <td>67637870229114485</td>\n",
       "      <td>67640019229114922</td>\n",
       "      <td>0</td>\n",
       "      <td>LINESTRING (676378.709 2291144.858, 676386.243...</td>\n",
       "    </tr>\n",
       "    <tr>\n",
       "      <th>1</th>\n",
       "      <td>67640019229114922</td>\n",
       "      <td>67640526229117504</td>\n",
       "      <td>0</td>\n",
       "      <td>LINESTRING (676400.196 2291149.223, 676404.65 ...</td>\n",
       "    </tr>\n",
       "  </tbody>\n",
       "</table>\n",
       "</div>"
      ],
      "text/plain": [
       "                   u                  v  key  \\\n",
       "0  67637870229114485  67640019229114922    0   \n",
       "1  67640019229114922  67640526229117504    0   \n",
       "\n",
       "                                            geometry  \n",
       "0  LINESTRING (676378.709 2291144.858, 676386.243...  \n",
       "1  LINESTRING (676400.196 2291149.223, 676404.65 ...  "
      ]
     },
     "execution_count": 16,
     "metadata": {},
     "output_type": "execute_result"
    }
   ],
   "source": [
    "# Load edges\n",
    "cons_edges = gpd.read_file(edges_dir)\n",
    "# Set crs\n",
    "if cons_edges.crs != projected_crs:\n",
    "    cons_edges = cons_edges.to_crs(projected_crs)\n",
    "    print(f\"Changed crs to {projected_crs}.\")\n",
    "# Filter for data of interest\n",
    "cons_edges = cons_edges[['u','v','key','geometry']]\n",
    "\n",
    "# Show\n",
    "print(cons_edges.crs)\n",
    "print(cons_edges.info())\n",
    "cons_edges.head(2)"
   ]
  },
  {
   "cell_type": "markdown",
   "id": "bf8d98eb-c3ac-4e33-80d5-e961c14b7a04",
   "metadata": {},
   "source": [
    "## Create partitions"
   ]
  },
  {
   "cell_type": "code",
   "execution_count": 143,
   "id": "b3f4178f-d45d-46c8-9a05-19c0b7c6681f",
   "metadata": {},
   "outputs": [],
   "source": [
    "def network_partition(aoi, nodes_gdf, edges_gdf, projected_crs):\n",
    "    \"\"\"\n",
    "    Download OSMnx edges and nodes from DataBase according to GeoDataFrame boundary\n",
    "\n",
    "    Arguments:\n",
    "        aoi (geopandas.GeoDataFrame): GeoDataFrame polygon boundary.\n",
    "        nodes_gdf (geopandas.GeoDataFrame): GeoDataFrame containing network nodes with 'osmid', 'x', 'y' and 'geometry' as columns.\n",
    "        edges_gdf (geopandas.GeoDataFrame): GeoDataFrame containing network edges with 'u', 'v', 'key' and 'geometry' as columns.\n",
    "        projected_crs (str, optional): string containing projected crs to be used depending on area of interest. Defaults to \"EPSG:6372\".\n",
    "\n",
    "    Returns:\n",
    "        G (networkx.MultiDiGraph): Graph with edges and nodes within boundaries.\n",
    "\t\tnodes (geopandas.GeoDataFrame): GeoDataFrame for nodes within boundaries.\n",
    "\t\tedges (geopandas.GeoDataFrame): GeoDataFrame for edges within boundaries.\n",
    "    \"\"\"\n",
    "\n",
    "    # --- Prepare area of interest\n",
    "    aoi = aoi.to_crs(projected_crs)\n",
    "    aoi = aoi.buffer(1).reset_index().rename(columns={0: \"geometry\"})\n",
    "    aoi = aoi.set_geometry(\"geometry\")\n",
    "    aoi = aoi[['geometry']]\n",
    "    \n",
    "    # --- Prepare nodes\n",
    "    nodes_gdf = nodes_gdf[['osmid','x','y','geometry']].copy()\n",
    "    nodes_gdf['osmid'] = nodes_gdf['osmid'].astype('str')\n",
    "    nodes_gdf = nodes_gdf.to_crs(projected_crs)\n",
    "\n",
    "    # --- Prepare edges\n",
    "    edges_gdf = edges_gdf[['u','v','key','geometry']].copy()\n",
    "    edges_gdf['u'] = edges_gdf['u'].astype('str')\n",
    "    edges_gdf['v'] = edges_gdf['v'].astype('str')\n",
    "    edges_gdf['key'] = edges_gdf['key'].astype('str')\n",
    "    edges_gdf = edges_gdf.to_crs(projected_crs)\n",
    "\n",
    "    # --- Identify edges within area of interest (Spatial join)\n",
    "    edges_in_aoi = gpd.sjoin(edges_gdf, aoi)\n",
    "    edges_in_aoi = edges_in_aoi.drop(columns=['index_right'])\n",
    "    \n",
    "    # --- Identify the nodes that are used by those edges (Using edge's 'u' and 'v' values)\n",
    "    nodes_id = edges_in_aoi.v.unique().tolist()\n",
    "    u = edges_in_aoi.u.unique().tolist()\n",
    "    nodes_id.extend(u)\n",
    "    myset = set(nodes_id)\n",
    "    nodes_id = list(myset)\n",
    "    nodes_from_edges = nodes_gdf.loc[nodes_gdf.osmid.isin(nodes_id)].copy()\n",
    "\n",
    "    # --- OUTPUT: Final format for edges\n",
    "    # Drop duplicates\n",
    "    edges_in_aoi.drop_duplicates(inplace=True)\n",
    "    # Solve 'key' values\n",
    "    edges = src.resolve_duplicates_indexes(edges_in_aoi, projected_crs)\n",
    "    # Set indexes and set crs\n",
    "    edges = edges.set_index([\"u\", \"v\", \"key\"])\n",
    "\n",
    "    # --- Create any missing node that's not available to avoid problems when creating G\n",
    "    # Preformat nodes - Drop duplicates\n",
    "    nodes_from_edges.drop_duplicates(inplace=True)\n",
    "    # Preformat nodes - Reset index\n",
    "    nodes_from_edges.reset_index(inplace=True,drop=True)\n",
    "    # Preformat edges - Reset index to be able to access 'u' and 'v'\n",
    "    edges_tmp = edges.reset_index().copy()\n",
    "    # Turn nodes into a dictionary that will be turned back into a gdf\n",
    "    nodes_dict = nodes_from_edges.to_dict()\n",
    "    \n",
    "    # Edges 'u' that are missing from nodes 'osmid'\n",
    "    from_osmid = list(set(edges_tmp['u'].to_list()).difference(set(list(nodes_dict['osmid'].values()))))\n",
    "    # For each missing 'u', append to nodes_dict the missing node\n",
    "    for i in from_osmid:\n",
    "        # Data\n",
    "        row = edges_tmp.loc[(edges_tmp.u==i)].iloc[0]\n",
    "        coords = [(coords) for coords in list(row['geometry'].coords)]\n",
    "        first_coord, last_coord = [ coords[i] for i in (0, -1) ]\n",
    "        # Register data\n",
    "        nodes_dict['osmid'][len(nodes_dict['osmid'])] = i\n",
    "        nodes_dict['x'][len(nodes_dict['x'])] = first_coord[0]\n",
    "        nodes_dict['y'][len(nodes_dict['y'])] = first_coord[1]\n",
    "        nodes_dict['geometry'][len(nodes_dict['geometry'])] = Point(first_coord)\n",
    "            \n",
    "    # Edges 'v' that are missing from nodes 'osmid'\n",
    "    to_osmid = list(set(edges_tmp['v'].to_list()).difference(set(list(nodes_dict['osmid'].values()))))\n",
    "    # For each missing 'v', append to nodes_dict the missing node\n",
    "    for i in to_osmid:\n",
    "        # Data\n",
    "        row = edges_tmp.loc[(edges_tmp.v==i)].iloc[0]\n",
    "        coords = [(coords) for coords in list(row['geometry'].coords)]\n",
    "        first_coord, last_coord = [ coords[i] for i in (0, -1) ]\n",
    "        # Register data\n",
    "        nodes_dict['osmid'][len(nodes_dict['osmid'])] = i\n",
    "        nodes_dict['x'][len(nodes_dict['x'])] = last_coord[0]\n",
    "        nodes_dict['y'][len(nodes_dict['y'])] = last_coord[1]\n",
    "        nodes_dict['geometry'][len(nodes_dict['geometry'])] = Point(last_coord)\n",
    "\n",
    "    nodes_needing_creation = len(from_osmid) + len(to_osmid)\n",
    "    print(f\"Needed creation of {nodes_needing_creation} missing nodes.\")\n",
    "    if nodes_needing_creation>1:\n",
    "        print(\"Missing nodes:\")\n",
    "        print(list(set(from_osmid+to_osmid)))\n",
    "    \n",
    "    # --- OUTPUT: Turn registered data back into gdf\n",
    "    nodes = pd.DataFrame.from_dict(nodes_dict)\n",
    "    nodes = gpd.GeoDataFrame(nodes, crs=\"EPSG:4326\", geometry='geometry')\n",
    "    nodes.set_index('osmid',inplace=True)\n",
    "\n",
    "    # --- OUTPUT: Create G from final nodes and edges\n",
    "    G = ox.graph_from_gdfs(nodes, edges)\n",
    "\n",
    "    return G, nodes, edges"
   ]
  },
  {
   "cell_type": "code",
   "execution_count": 144,
   "id": "0bd0c399-4e14-4d4c-be56-4643c1be8c01",
   "metadata": {},
   "outputs": [
    {
     "name": "stdout",
     "output_type": "stream",
     "text": [
      "Needed creation of 43 missing nodes.\n",
      "Missing nodes:\n",
      "['66005151228345931', '66004547228342819', '65989134228338646', '66009247228400956', '65963088228308213', '66005259228346488', '65996656228357879', '66003665228338822', '66008768228398159', '66025648228341662', '65998953228368383', '66014499228397043', '65992790228314574', '65996850228358767', '65999151228369284', '65948797228295249', '65972038228350470', '66004441228342235', '65973498228348998', '66003799228339379', '65999547228301031', '65972711228350357', '66007677228357735', '66025859228341633', '66021243228373533', '65957886228360329', '65989145228338794', '65957905228360298', '66021036228372587', '65992951228315493', '65976149228348946', '65962926228307361', '66013696228396462', '66017167228354993', '66008762228397876', '66007522228357007', '66007948228312345', '66008731228400821', '66007795228311593', '65973537228348963', '65998979228301108', '65976180228348928', '66017000228354285']\n"
     ]
    }
   ],
   "source": [
    "aoi = polys_gdf.loc[polys_gdf.name=='miramar'].copy()\n",
    "\n",
    "G, nodes, edges = network_partition(aoi, cons_nodes, cons_edges, projected_crs)"
   ]
  },
  {
   "cell_type": "code",
   "execution_count": 148,
   "id": "e9f64800-d25b-4484-8975-7d94f3c2c96d",
   "metadata": {},
   "outputs": [
    {
     "data": {
      "text/html": [
       "<div>\n",
       "<style scoped>\n",
       "    .dataframe tbody tr th:only-of-type {\n",
       "        vertical-align: middle;\n",
       "    }\n",
       "\n",
       "    .dataframe tbody tr th {\n",
       "        vertical-align: top;\n",
       "    }\n",
       "\n",
       "    .dataframe thead th {\n",
       "        text-align: right;\n",
       "    }\n",
       "</style>\n",
       "<table border=\"1\" class=\"dataframe\">\n",
       "  <thead>\n",
       "    <tr style=\"text-align: right;\">\n",
       "      <th></th>\n",
       "      <th>osmid</th>\n",
       "      <th>x</th>\n",
       "      <th>y</th>\n",
       "      <th>geometry</th>\n",
       "    </tr>\n",
       "  </thead>\n",
       "  <tbody>\n",
       "  </tbody>\n",
       "</table>\n",
       "</div>"
      ],
      "text/plain": [
       "Empty GeoDataFrame\n",
       "Columns: [osmid, x, y, geometry]\n",
       "Index: []"
      ]
     },
     "execution_count": 148,
     "metadata": {},
     "output_type": "execute_result"
    }
   ],
   "source": [
    "cons_nodes.loc[cons_nodes.osmid=='66005151228345931']"
   ]
  },
  {
   "cell_type": "code",
   "execution_count": 149,
   "id": "b6a66e13-7c9c-4b11-ac38-e1c7a863ef82",
   "metadata": {},
   "outputs": [
    {
     "data": {
      "text/html": [
       "<div>\n",
       "<style scoped>\n",
       "    .dataframe tbody tr th:only-of-type {\n",
       "        vertical-align: middle;\n",
       "    }\n",
       "\n",
       "    .dataframe tbody tr th {\n",
       "        vertical-align: top;\n",
       "    }\n",
       "\n",
       "    .dataframe thead th {\n",
       "        text-align: right;\n",
       "    }\n",
       "</style>\n",
       "<table border=\"1\" class=\"dataframe\">\n",
       "  <thead>\n",
       "    <tr style=\"text-align: right;\">\n",
       "      <th></th>\n",
       "      <th>u</th>\n",
       "      <th>v</th>\n",
       "      <th>key</th>\n",
       "      <th>geometry</th>\n",
       "    </tr>\n",
       "  </thead>\n",
       "  <tbody>\n",
       "    <tr>\n",
       "      <th>73856</th>\n",
       "      <td>66005151228345931</td>\n",
       "      <td>66004547228342819</td>\n",
       "      <td>0</td>\n",
       "      <td>LINESTRING (660052.056 2283462.1, 660051.52 22...</td>\n",
       "    </tr>\n",
       "    <tr>\n",
       "      <th>73857</th>\n",
       "      <td>66005151228345931</td>\n",
       "      <td>66014705228344516</td>\n",
       "      <td>0</td>\n",
       "      <td>LINESTRING (660052.056 2283462.1, 660051.52 22...</td>\n",
       "    </tr>\n",
       "  </tbody>\n",
       "</table>\n",
       "</div>"
      ],
      "text/plain": [
       "                       u                  v key  \\\n",
       "73856  66005151228345931  66004547228342819   0   \n",
       "73857  66005151228345931  66014705228344516   0   \n",
       "\n",
       "                                                geometry  \n",
       "73856  LINESTRING (660052.056 2283462.1, 660051.52 22...  \n",
       "73857  LINESTRING (660052.056 2283462.1, 660051.52 22...  "
      ]
     },
     "execution_count": 149,
     "metadata": {},
     "output_type": "execute_result"
    }
   ],
   "source": [
    "cons_edges.loc[cons_edges.u=='66005151228345931']"
   ]
  },
  {
   "cell_type": "code",
   "execution_count": 150,
   "id": "84a2438e-5fee-4222-9348-2233ea64d753",
   "metadata": {},
   "outputs": [
    {
     "data": {
      "text/html": [
       "<div>\n",
       "<style scoped>\n",
       "    .dataframe tbody tr th:only-of-type {\n",
       "        vertical-align: middle;\n",
       "    }\n",
       "\n",
       "    .dataframe tbody tr th {\n",
       "        vertical-align: top;\n",
       "    }\n",
       "\n",
       "    .dataframe thead th {\n",
       "        text-align: right;\n",
       "    }\n",
       "</style>\n",
       "<table border=\"1\" class=\"dataframe\">\n",
       "  <thead>\n",
       "    <tr style=\"text-align: right;\">\n",
       "      <th></th>\n",
       "      <th>u</th>\n",
       "      <th>v</th>\n",
       "      <th>key</th>\n",
       "      <th>geometry</th>\n",
       "    </tr>\n",
       "  </thead>\n",
       "  <tbody>\n",
       "  </tbody>\n",
       "</table>\n",
       "</div>"
      ],
      "text/plain": [
       "Empty GeoDataFrame\n",
       "Columns: [u, v, key, geometry]\n",
       "Index: []"
      ]
     },
     "execution_count": 150,
     "metadata": {},
     "output_type": "execute_result"
    }
   ],
   "source": [
    "cons_edges.loc[cons_edges.v=='66005151228345931']"
   ]
  },
  {
   "cell_type": "code",
   "execution_count": 137,
   "id": "6c68eb10-1102-4a7d-8c20-1131808da426",
   "metadata": {},
   "outputs": [
    {
     "data": {
      "text/html": [
       "<div>\n",
       "<style scoped>\n",
       "    .dataframe tbody tr th:only-of-type {\n",
       "        vertical-align: middle;\n",
       "    }\n",
       "\n",
       "    .dataframe tbody tr th {\n",
       "        vertical-align: top;\n",
       "    }\n",
       "\n",
       "    .dataframe thead th {\n",
       "        text-align: right;\n",
       "    }\n",
       "</style>\n",
       "<table border=\"1\" class=\"dataframe\">\n",
       "  <thead>\n",
       "    <tr style=\"text-align: right;\">\n",
       "      <th></th>\n",
       "      <th>x</th>\n",
       "      <th>y</th>\n",
       "      <th>geometry</th>\n",
       "    </tr>\n",
       "    <tr>\n",
       "      <th>osmid</th>\n",
       "      <th></th>\n",
       "      <th></th>\n",
       "      <th></th>\n",
       "    </tr>\n",
       "  </thead>\n",
       "  <tbody>\n",
       "    <tr>\n",
       "      <th>66039321228374187</th>\n",
       "      <td>660393.218659</td>\n",
       "      <td>2.283742e+06</td>\n",
       "      <td>POINT (660393.21866 2283741.87896)</td>\n",
       "    </tr>\n",
       "    <tr>\n",
       "      <th>66043571228373413</th>\n",
       "      <td>660435.715820</td>\n",
       "      <td>2.283734e+06</td>\n",
       "      <td>POINT (660435.71582 2283734.13361)</td>\n",
       "    </tr>\n",
       "  </tbody>\n",
       "</table>\n",
       "</div>"
      ],
      "text/plain": [
       "                               x             y  \\\n",
       "osmid                                            \n",
       "66039321228374187  660393.218659  2.283742e+06   \n",
       "66043571228373413  660435.715820  2.283734e+06   \n",
       "\n",
       "                                             geometry  \n",
       "osmid                                                  \n",
       "66039321228374187  POINT (660393.21866 2283741.87896)  \n",
       "66043571228373413  POINT (660435.71582 2283734.13361)  "
      ]
     },
     "execution_count": 137,
     "metadata": {},
     "output_type": "execute_result"
    }
   ],
   "source": [
    "nodes.head(2)"
   ]
  },
  {
   "cell_type": "code",
   "execution_count": 138,
   "id": "130cfcdf-5421-496e-9279-00184327a0de",
   "metadata": {},
   "outputs": [
    {
     "data": {
      "text/html": [
       "<div>\n",
       "<style scoped>\n",
       "    .dataframe tbody tr th:only-of-type {\n",
       "        vertical-align: middle;\n",
       "    }\n",
       "\n",
       "    .dataframe tbody tr th {\n",
       "        vertical-align: top;\n",
       "    }\n",
       "\n",
       "    .dataframe thead th {\n",
       "        text-align: right;\n",
       "    }\n",
       "</style>\n",
       "<table border=\"1\" class=\"dataframe\">\n",
       "  <thead>\n",
       "    <tr style=\"text-align: right;\">\n",
       "      <th></th>\n",
       "      <th></th>\n",
       "      <th></th>\n",
       "      <th>geometry</th>\n",
       "    </tr>\n",
       "    <tr>\n",
       "      <th>u</th>\n",
       "      <th>v</th>\n",
       "      <th>key</th>\n",
       "      <th></th>\n",
       "    </tr>\n",
       "  </thead>\n",
       "  <tbody>\n",
       "    <tr>\n",
       "      <th>66039321228374187</th>\n",
       "      <th>66043571228373413</th>\n",
       "      <th>0</th>\n",
       "      <td>LINESTRING (660393.219 2283741.879, 660435.716...</td>\n",
       "    </tr>\n",
       "    <tr>\n",
       "      <th>66042318228368862</th>\n",
       "      <th>66043571228373413</th>\n",
       "      <th>0</th>\n",
       "      <td>LINESTRING (660423.183 2283688.624, 660435.716...</td>\n",
       "    </tr>\n",
       "  </tbody>\n",
       "</table>\n",
       "</div>"
      ],
      "text/plain": [
       "                                                                                  geometry\n",
       "u                 v                 key                                                   \n",
       "66039321228374187 66043571228373413 0    LINESTRING (660393.219 2283741.879, 660435.716...\n",
       "66042318228368862 66043571228373413 0    LINESTRING (660423.183 2283688.624, 660435.716..."
      ]
     },
     "execution_count": 138,
     "metadata": {},
     "output_type": "execute_result"
    }
   ],
   "source": [
    "edges.head(2)"
   ]
  },
  {
   "cell_type": "code",
   "execution_count": 97,
   "id": "e7d0e431-908b-4aa2-8457-74f9b8cf50ea",
   "metadata": {},
   "outputs": [
    {
     "data": {
      "text/plain": [
       "<Axes: >"
      ]
     },
     "execution_count": 97,
     "metadata": {},
     "output_type": "execute_result"
    },
    {
     "data": {
      "image/png": "[encoded data removed]",
      "text/plain": [
       "<Figure size 640x480 with 1 Axes>"
      ]
     },
     "metadata": {},
     "output_type": "display_data"
    }
   ],
   "source": [
    "fig,ax = plt.subplots(1,1)\n",
    "\n",
    "nodes_from_edges.plot(ax=ax,zorder=0)\n",
    "edges_tmp.plot(ax=ax,zorder=0)"
   ]
  },
  {
   "cell_type": "code",
   "execution_count": 86,
   "id": "c0402b2d-0500-4fbe-8047-06b9b8b9f415",
   "metadata": {},
   "outputs": [
    {
     "data": {
      "text/plain": [
       "<Axes: >"
      ]
     },
     "execution_count": 86,
     "metadata": {},
     "output_type": "execute_result"
    },
    {
     "data": {
      "image/png": "[encoded data removed]",
      "text/plain": [
       "<Figure size 640x480 with 1 Axes>"
      ]
     },
     "metadata": {},
     "output_type": "display_data"
    }
   ],
   "source": [
    "fig,ax = plt.subplots(1,1)\n",
    "\n",
    "aoi.plot(ax=ax,zorder=1,linewidth=5,facecolor=\"none\")\n",
    "nodes_from_edges.plot(ax=ax,zorder=0)\n",
    "edges_in_aoi.plot(ax=ax,zorder=0)"
   ]
  },
  {
   "cell_type": "code",
   "execution_count": 20,
   "id": "4b5e8245-edd5-48e8-8571-b8948bc807c8",
   "metadata": {},
   "outputs": [
    {
     "data": {
      "text/html": [
       "<div>\n",
       "<style scoped>\n",
       "    .dataframe tbody tr th:only-of-type {\n",
       "        vertical-align: middle;\n",
       "    }\n",
       "\n",
       "    .dataframe tbody tr th {\n",
       "        vertical-align: top;\n",
       "    }\n",
       "\n",
       "    .dataframe thead th {\n",
       "        text-align: right;\n",
       "    }\n",
       "</style>\n",
       "<table border=\"1\" class=\"dataframe\">\n",
       "  <thead>\n",
       "    <tr style=\"text-align: right;\">\n",
       "      <th></th>\n",
       "      <th>name</th>\n",
       "      <th>geometry</th>\n",
       "    </tr>\n",
       "  </thead>\n",
       "  <tbody>\n",
       "    <tr>\n",
       "      <th>0</th>\n",
       "      <td>miramar</td>\n",
       "      <td>POLYGON ((659404.786 2283009.827, 660250.98 22...</td>\n",
       "    </tr>\n",
       "  </tbody>\n",
       "</table>\n",
       "</div>"
      ],
      "text/plain": [
       "      name                                           geometry\n",
       "0  miramar  POLYGON ((659404.786 2283009.827, 660250.98 22..."
      ]
     },
     "execution_count": 20,
     "metadata": {},
     "output_type": "execute_result"
    }
   ],
   "source": [
    "aoi"
   ]
  },
  {
   "cell_type": "code",
   "execution_count": null,
   "id": "471853d4-4324-470a-9329-2f3d5ba422ca",
   "metadata": {},
   "outputs": [],
   "source": []
  }
 ],
 "metadata": {
  "kernelspec": {
   "display_name": "GDS-10.0",
   "language": "python",
   "name": "gds"
  },
  "language_info": {
   "codemirror_mode": {
    "name": "ipython",
    "version": 3
   },
   "file_extension": ".py",
   "mimetype": "text/x-python",
   "name": "python",
   "nbconvert_exporter": "python",
   "pygments_lexer": "ipython3",
   "version": "3.9.18"
  }
 },
 "nbformat": 4,
 "nbformat_minor": 5
}
