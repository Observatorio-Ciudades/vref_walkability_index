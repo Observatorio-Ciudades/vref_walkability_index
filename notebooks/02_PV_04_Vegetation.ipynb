{
 "cells": [
  {
   "cell_type": "code",
   "execution_count": 1,
   "id": "0d1d6bec",
   "metadata": {},
   "outputs": [],
   "source": [
    "import geopandas as gpd"
   ]
  },
  {
   "cell_type": "markdown",
   "id": "7cd7fea5",
   "metadata": {},
   "source": [
    "# Zonas Medellin"
   ]
  },
  {
   "cell_type": "code",
   "execution_count": 2,
   "id": "b65fad46-6856-410a-bfec-edd183a59869",
   "metadata": {},
   "outputs": [
    {
     "name": "stdout",
     "output_type": "stream",
     "text": [
      "Procesando zona: aguacatala_HL\n",
      "Procesando zona: moravia_LH\n",
      "Procesando zona: floresta_HH\n"
     ]
    }
   ],
   "source": [
    "# List of areas to process\n",
    "zo = ['aguacatala_HL', 'moravia_LH', 'floresta_HH']\n",
    "# zo = ['moravia_LH']\n",
    "# z = zo[0]\n",
    "for z in zo:\n",
    "    print(f\"Procesando zona: {z}\")\n",
    "\n",
    "    #Load the edges and NDVI shapefiles\n",
    "    edges = gpd.read_file(f'../data/output/shape/project_network_initial/{z}/{z}_edges_proj_net_initial.shp')\n",
    "    nodes = gpd.read_file(f'../data/output/shape/project_network_initial/{z}/{z}_nodes_proj_net_initial.shp')\n",
    "    medellin_ndvi = gpd.read_file(f'../data/input/geojson/medellin_ndvi/Medellin_ndvi_HexRes11.geojson')\n",
    "\n",
    "    # Reproject to CRS EPSG:32618\n",
    "    edges = edges.to_crs('epsg:32618')\n",
    "    medellin_ndvi = medellin_ndvi.to_crs('epsg:32618')\n",
    "\n",
    "    # Perform spatial intersection (spatial join) to obtain the intersection geometries\n",
    "    interseccion = gpd.sjoin(edges, medellin_ndvi, how=\"inner\", predicate=\"intersects\")\n",
    "\n",
    "    # Group by 'osmid' to summarize NDVI data for each edge\n",
    "    gdf_medellin_ndvi_sum = interseccion.groupby('osmid').agg(\n",
    "        num_medellin_ndvi=('ndvi', 'count'),   # Count how many hexagons intersect each edge\n",
    "        sum_ndvi=('ndvi', 'sum')               # Sum the NDVI index values of intersecting hexagons\n",
    "    ).reset_index()\n",
    "\n",
    "    # Calculate the average NDVI index for each edge\n",
    "    gdf_medellin_ndvi_sum['ind_ndvi'] = gdf_medellin_ndvi_sum['sum_ndvi'] / gdf_medellin_ndvi_sum['num_medellin_ndvi']\n",
    "\n",
    "    # Merge the calculated NDVI index back to the edges GeoDataFrame\n",
    "    edges = edges.merge(gdf_medellin_ndvi_sum[['osmid', 'ind_ndvi']], on='osmid', how='left')\n",
    "\n",
    "    # Save the updated edges shapefile with NDVI data to the specified output path\n",
    "    edges = edges.to_crs('epsg:4326')\n",
    "    edges.to_file(f'../data/output/shape/physical_variables/vegetation/{z}/{z}_vegetation_edges.shp')\n",
    "    nodes.to_file(f'../data/output/shape/physical_variables/vegetation/{z}/{z}_vegetation_nodes.shp')\n",
    "\n",
    "    # Limit the study area to the neighborhood polygon\n",
    "    edges = edges.reset_index()\n",
    "    edges = edges.to_crs('epsg:32618')\n",
    "    nodes = nodes.reset_index()\n",
    "    nodes = nodes.to_crs('epsg:32618')\n",
    "\n",
    "    if z == 'floresta_HH':\n",
    "        w = 'Alto_Alta'\n",
    "    elif z == 'moravia_LH':\n",
    "        w = 'Bajo_Alta'\n",
    "    elif z == 'aguacatala_HL':\n",
    "        w = 'Alto_Baja'\n",
    "\n",
    "    # Load polygon files\n",
    "    polygon = gpd.read_file(f'../data/input/shape/Poligonos/{w}.shp')\n",
    "    polygon = polygon.to_crs('epsg:32618')\n",
    "    polygon = polygon['geometry'].union_all()\n",
    "    polygon = gpd.GeoDataFrame(geometry = [polygon], crs = 'epsg:32618')\n",
    "\n",
    "    # Select the segments that are inside the polygon\n",
    "    for idx, row in polygon.iterrows():\n",
    "        # Filter the edges contained in the polygon\n",
    "        edges_in_polygon = edges[edges['geometry'].intersects(row['geometry'])]\n",
    "\n",
    "    # List of the nodes inside the polygon based on the 'u' and 'v' columns of the edges inside the polygon\n",
    "    nodes_in_polygon = edges_in_polygon['u'].to_list() + edges_in_polygon['v'].to_list()\n",
    "    # Make the nodes unique and sort it\n",
    "    nodes_in_polygon = list(set(nodes_in_polygon))\n",
    "    nodes_in_polygon.sort()\n",
    "    # Select the nodes inside the buffer\n",
    "    nodes_in_polygon = nodes.set_index('osmid').loc[nodes_in_polygon].reset_index()\n",
    "\n",
    "    # Export\n",
    "    nodes_in_polygon = nodes_in_polygon.to_crs('epsg:4326')\n",
    "    edges_in_polygon = edges_in_polygon.to_crs('epsg:4326')\n",
    "    nodes_in_polygon.to_file(f'../data/output/shape/project_network_filter/{z}/{z}_vegetation_nodes.shp')\n",
    "    edges_in_polygon.to_file(f'../data/output/shape/project_network_filter/{z}/{z}_vegetation_edges.shp')\n"
   ]
  },
  {
   "cell_type": "markdown",
   "id": "d0ae9245",
   "metadata": {},
   "source": [
    "# Medellin"
   ]
  },
  {
   "cell_type": "code",
   "execution_count": 3,
   "id": "4d5557dd",
   "metadata": {},
   "outputs": [],
   "source": [
    "z = 'medellin'\n",
    "\n",
    "#Load the edges and NDVI shapefiles\n",
    "edges = gpd.read_file(f'../data/output/shape/project_network_initial/{z}/{z}_edges_proj_net_initial.shp')\n",
    "nodes = gpd.read_file(f'../data/output/shape/project_network_initial/{z}/{z}_nodes_proj_net_initial.shp')\n",
    "medellin_ndvi = gpd.read_file(f'../data/input/geojson/medellin_ndvi/Medellin_ndvi_HexRes11.geojson')\n",
    "\n",
    "# Reproject to CRS EPSG:32618\n",
    "edges = edges.to_crs('epsg:32618')\n",
    "medellin_ndvi = medellin_ndvi.to_crs('epsg:32618')\n",
    "\n",
    "# Perform spatial intersection (spatial join) to obtain the intersection geometries\n",
    "interseccion = gpd.sjoin(edges, medellin_ndvi, how=\"inner\", predicate=\"intersects\")\n",
    "\n",
    "# Group by 'osmid' to summarize NDVI data for each edge\n",
    "gdf_medellin_ndvi_sum = interseccion.groupby('osmid').agg(\n",
    "    num_medellin_ndvi=('ndvi', 'count'),   # Count how many hexagons intersect each edge\n",
    "    sum_ndvi=('ndvi', 'sum')               # Sum the NDVI index values of intersecting hexagons\n",
    ").reset_index()\n",
    "\n",
    "# Calculate the average NDVI index for each edge\n",
    "gdf_medellin_ndvi_sum['ind_ndvi'] = gdf_medellin_ndvi_sum['sum_ndvi'] / gdf_medellin_ndvi_sum['num_medellin_ndvi']\n",
    "\n",
    "# Merge the calculated NDVI index back to the edges GeoDataFrame\n",
    "edges = edges.merge(gdf_medellin_ndvi_sum[['osmid', 'ind_ndvi']], on='osmid', how='left')\n",
    "\n",
    "# Save the updated edges shapefile with NDVI data to the specified output path\n",
    "edges = edges.to_crs('epsg:4326')\n",
    "edges.to_file(f'../data/output/shape/physical_variables/vegetation/{z}/{z}_vegetation_edges.shp')\n",
    "nodes.to_file(f'../data/output/shape/physical_variables/vegetation/{z}/{z}_vegetation_nodes.shp')"
   ]
  }
 ],
 "metadata": {
  "kernelspec": {
   "display_name": "ox_eafit",
   "language": "python",
   "name": "python3"
  },
  "language_info": {
   "codemirror_mode": {
    "name": "ipython",
    "version": 3
   },
   "file_extension": ".py",
   "mimetype": "text/x-python",
   "name": "python",
   "nbconvert_exporter": "python",
   "pygments_lexer": "ipython3",
   "version": "3.11.4"
  }
 },
 "nbformat": 4,
 "nbformat_minor": 5
}
